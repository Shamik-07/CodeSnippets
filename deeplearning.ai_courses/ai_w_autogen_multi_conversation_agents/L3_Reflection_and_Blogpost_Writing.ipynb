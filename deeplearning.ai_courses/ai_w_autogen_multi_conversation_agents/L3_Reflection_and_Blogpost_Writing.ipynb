{
 "cells": [
  {
   "cell_type": "markdown",
   "id": "fc3024e2",
   "metadata": {},
   "source": [
    "# Lesson 3: Reflection and Blogpost Writing"
   ]
  },
  {
   "cell_type": "markdown",
   "id": "3b0cc42f",
   "metadata": {},
   "source": [
    "## Setup"
   ]
  },
  {
   "cell_type": "code",
   "execution_count": 1,
   "id": "96d39be0-eaf3-456d-8613-ba21099ed36b",
   "metadata": {
    "height": 30
   },
   "outputs": [],
   "source": [
    "llm_config = {\"model\": \"gpt-3.5-turbo\"}"
   ]
  },
  {
   "cell_type": "markdown",
   "id": "0969e6bb",
   "metadata": {},
   "source": [
    "## The task!"
   ]
  },
  {
   "cell_type": "code",
   "execution_count": 2,
   "id": "e8074032-3690-4de9-ad08-ea8323cb441b",
   "metadata": {
    "height": 115
   },
   "outputs": [],
   "source": [
    "task = '''\n",
    "        Write a concise but engaging blogpost about\n",
    "       DeepLearning.AI. Make sure the blogpost is\n",
    "       within 100 words.\n",
    "       '''\n"
   ]
  },
  {
   "cell_type": "markdown",
   "id": "1987f023",
   "metadata": {},
   "source": [
    "## Create a writer agent"
   ]
  },
  {
   "cell_type": "code",
   "execution_count": 3,
   "id": "fe0f0a47-a9fe-43a0-b7b1-79922e4c4ac8",
   "metadata": {
    "height": 183
   },
   "outputs": [],
   "source": [
    "import autogen\n",
    "\n",
    "writer = autogen.AssistantAgent(\n",
    "    name=\"Writer\",\n",
    "    system_message=\"You are a writer. You write engaging and concise \" \n",
    "        \"blogpost (with title) on given topics. You must polish your \"\n",
    "        \"writing based on the feedback you receive and give a refined \"\n",
    "        \"version. Only return your final work without additional comments.\",\n",
    "    llm_config=llm_config,\n",
    ")"
   ]
  },
  {
   "cell_type": "code",
   "execution_count": 4,
   "id": "7c7b4d8d-40f7-4a05-8958-25d20054de3a",
   "metadata": {
    "height": 30
   },
   "outputs": [],
   "source": [
    "reply = writer.generate_reply(messages=[{\"content\": task, \"role\": \"user\"}])"
   ]
  },
  {
   "cell_type": "code",
   "execution_count": 5,
   "id": "c501c97d-e338-4f36-a384-6ec45983cf77",
   "metadata": {
    "height": 30
   },
   "outputs": [
    {
     "name": "stdout",
     "output_type": "stream",
     "text": [
      "Title: Unveiling the Power of DeepLearning.AI\n",
      "\n",
      "Dive into the world of artificial intelligence with DeepLearning.AI, a leading platform revolutionizing tech education. Offering expert-led courses in deep learning, neural networks, and more, DeepLearning.AI empowers learners to grasp complex AI concepts with ease. Whether you're a novice or seasoned professional, the platform caters to all skill levels. With practical insights and hands-on projects, mastering AI has never been more accessible. Join the millions upskilling with DeepLearning.AI and unlock boundless opportunities in the realm of artificial intelligence. Start your journey today and shape the future with DeepLearning.AI.\n"
     ]
    }
   ],
   "source": [
    "print(reply)"
   ]
  },
  {
   "cell_type": "markdown",
   "id": "49658114",
   "metadata": {},
   "source": [
    "## Adding reflection \n",
    "\n",
    "Create a critic agent to reflect on the work of the writer agent."
   ]
  },
  {
   "cell_type": "code",
   "execution_count": 6,
   "id": "c7fcd1c7-51ec-4915-8e97-bac03565c4c7",
   "metadata": {
    "height": 149
   },
   "outputs": [],
   "source": [
    "critic = autogen.AssistantAgent(\n",
    "    name=\"Critic\",\n",
    "    is_termination_msg=lambda x: x.get(\"content\", \"\").find(\"TERMINATE\") >= 0,\n",
    "    llm_config=llm_config,\n",
    "    system_message=\"You are a critic. You review the work of \"\n",
    "                \"the writer and provide constructive \"\n",
    "                \"feedback to help improve the quality of the content.\",\n",
    ")"
   ]
  },
  {
   "cell_type": "code",
   "execution_count": 7,
   "id": "899d5fdb-6081-470b-b287-8cf8b8142d0d",
   "metadata": {
    "height": 115,
    "scrolled": true
   },
   "outputs": [
    {
     "name": "stdout",
     "output_type": "stream",
     "text": [
      "\u001b[33mCritic\u001b[0m (to Writer):\n",
      "\n",
      "\n",
      "        Write a concise but engaging blogpost about\n",
      "       DeepLearning.AI. Make sure the blogpost is\n",
      "       within 100 words.\n",
      "       \n",
      "\n",
      "--------------------------------------------------------------------------------\n",
      "\u001b[33mWriter\u001b[0m (to Critic):\n",
      "\n",
      "Title: Unveiling the Power of DeepLearning.AI\n",
      "\n",
      "Dive into the world of artificial intelligence with DeepLearning.AI, a leading platform revolutionizing tech education. Offering expert-led courses in deep learning, neural networks, and more, DeepLearning.AI empowers learners to grasp complex AI concepts with ease. Whether you're a novice or seasoned professional, the platform caters to all skill levels. With practical insights and hands-on projects, mastering AI has never been more accessible. Join the millions upskilling with DeepLearning.AI and unlock boundless opportunities in the realm of artificial intelligence. Start your journey today and shape the future with DeepLearning.AI.\n",
      "\n",
      "--------------------------------------------------------------------------------\n",
      "\u001b[33mCritic\u001b[0m (to Writer):\n",
      "\n",
      "\n",
      "Overall, your blogpost does a great job of capturing the essence and potential of DeepLearning.AI within the 100-word limit. The title is engaging and sets the tone for the content. The content effectively highlights the key benefits and offerings of DeepLearning.AI, making it appealing to a wide audience interested in AI education. To enhance the impact of the blogpost, you might consider incorporating specific examples of successful learners or outcomes from the platform. Additionally, including a call-to-action at the end can prompt readers to take action and sign up for DeepLearning.AI. Well done!\n",
      "\n",
      "--------------------------------------------------------------------------------\n",
      "\u001b[33mWriter\u001b[0m (to Critic):\n",
      "\n",
      "Title: Unveiling the Power of DeepLearning.AI\n",
      "\n",
      "Discover the transformative world of DeepLearning.AI, where AI education reaches new heights. From beginners to experts, the platform's expert-led courses cater to all, simplifying complex AI concepts. By offering practical insights and hands-on projects, DeepLearning.AI makes mastering AI a seamless journey. Join the millions already benefiting from this cutting-edge platform to unlock endless AI opportunities. Take the first step today to shape a brighter tomorrow with DeepLearning.AI.\n",
      "\n",
      "\n",
      "\n",
      "--------------------------------------------------------------------------------\n"
     ]
    }
   ],
   "source": [
    "res = critic.initiate_chat(\n",
    "    recipient=writer,\n",
    "    message=task,\n",
    "    max_turns=2,\n",
    "    summary_method=\"last_msg\"\n",
    ")"
   ]
  },
  {
   "cell_type": "markdown",
   "id": "e7b76449",
   "metadata": {},
   "source": [
    "## Nested chat"
   ]
  },
  {
   "cell_type": "code",
   "execution_count": 8,
   "id": "401ecf92-63e9-40ff-aeed-1c404352e4ab",
   "metadata": {
    "height": 200
   },
   "outputs": [],
   "source": [
    "SEO_reviewer = autogen.AssistantAgent(\n",
    "    name=\"SEO Reviewer\",\n",
    "    llm_config=llm_config,\n",
    "    system_message=\"You are an SEO reviewer, known for \"\n",
    "        \"your ability to optimize content for search engines, \"\n",
    "        \"ensuring that it ranks well and attracts organic traffic. \" \n",
    "        \"Make sure your suggestion is concise (within 3 bullet points), \"\n",
    "        \"concrete and to the point. \"\n",
    "        \"Begin the review by stating your role.\",\n",
    ")\n"
   ]
  },
  {
   "cell_type": "code",
   "execution_count": 9,
   "id": "f85acb81-7ab9-4c84-b8bb-6fbae3dce848",
   "metadata": {
    "height": 183
   },
   "outputs": [],
   "source": [
    "legal_reviewer = autogen.AssistantAgent(\n",
    "    name=\"Legal Reviewer\",\n",
    "    llm_config=llm_config,\n",
    "    system_message=\"You are a legal reviewer, known for \"\n",
    "        \"your ability to ensure that content is legally compliant \"\n",
    "        \"and free from any potential legal issues. \"\n",
    "        \"Make sure your suggestion is concise (within 3 bullet points), \"\n",
    "        \"concrete and to the point. \"\n",
    "        \"Begin the review by stating your role.\",\n",
    ")"
   ]
  },
  {
   "cell_type": "code",
   "execution_count": 10,
   "id": "d46a177a-8088-4956-8d2b-3e916b8ca5e9",
   "metadata": {
    "height": 183
   },
   "outputs": [],
   "source": [
    "ethics_reviewer = autogen.AssistantAgent(\n",
    "    name=\"Ethics Reviewer\",\n",
    "    llm_config=llm_config,\n",
    "    system_message=\"You are an ethics reviewer, known for \"\n",
    "        \"your ability to ensure that content is ethically sound \"\n",
    "        \"and free from any potential ethical issues. \" \n",
    "        \"Make sure your suggestion is concise (within 3 bullet points), \"\n",
    "        \"concrete and to the point. \"\n",
    "        \"Begin the review by stating your role. \",\n",
    ")"
   ]
  },
  {
   "cell_type": "code",
   "execution_count": 11,
   "id": "a7b2ad6f-8ba6-436a-9459-14ffbe8a32d3",
   "metadata": {
    "height": 115
   },
   "outputs": [],
   "source": [
    "meta_reviewer = autogen.AssistantAgent(\n",
    "    name=\"Meta Reviewer\",\n",
    "    llm_config=llm_config,\n",
    "    system_message=\"You are a meta reviewer, you aggragate and review \"\n",
    "    \"the work of other reviewers and give a final suggestion on the content.\",\n",
    ")"
   ]
  },
  {
   "cell_type": "markdown",
   "id": "913beca1",
   "metadata": {},
   "source": [
    "## Orchestrate the nested chats to solve the task"
   ]
  },
  {
   "cell_type": "code",
   "execution_count": 12,
   "id": "a11a70c7-19ca-4e5a-ad3d-f2b481fb5915",
   "metadata": {
    "height": 540
   },
   "outputs": [],
   "source": [
    "def reflection_message(recipient, messages, sender, config):\n",
    "    return f'''Review the following content. \n",
    "            \\n\\n {recipient.chat_messages_for_summary(sender)[-1]['content']}'''\n",
    "\n",
    "review_chats = [\n",
    "    {\n",
    "     \"recipient\": SEO_reviewer, \n",
    "     \"message\": reflection_message, \n",
    "     \"summary_method\": \"reflection_with_llm\",\n",
    "     \"summary_args\": {\"summary_prompt\" : \n",
    "        \"Return review into as JSON object only:\"\n",
    "        \"{'Reviewer': '', 'Review': ''}. Here Reviewer should be your role\",},\n",
    "     \"max_turns\": 1},\n",
    "    {\n",
    "    \"recipient\": legal_reviewer, \"message\": reflection_message, \n",
    "     \"summary_method\": \"reflection_with_llm\",\n",
    "     \"summary_args\": {\"summary_prompt\" : \n",
    "        \"Return review into as JSON object only:\"\n",
    "        \"{'Reviewer': '', 'Review': ''}.\",},\n",
    "     \"max_turns\": 1},\n",
    "    {\"recipient\": ethics_reviewer, \"message\": reflection_message, \n",
    "     \"summary_method\": \"reflection_with_llm\",\n",
    "     \"summary_args\": {\"summary_prompt\" : \n",
    "        \"Return review into as JSON object only:\"\n",
    "        \"{'reviewer': '', 'review': ''}\",},\n",
    "     \"max_turns\": 1},\n",
    "     {\"recipient\": meta_reviewer, \n",
    "      \"message\": \"Aggregrate feedback from all reviewers and give final suggestions on the writing.\", \n",
    "     \"max_turns\": 1},\n",
    "]\n"
   ]
  },
  {
   "cell_type": "code",
   "execution_count": 13,
   "id": "b3a40b66-5061-460d-ad9d-c0dbcfbba2e9",
   "metadata": {
    "height": 81
   },
   "outputs": [],
   "source": [
    "critic.register_nested_chats(\n",
    "    review_chats,\n",
    "    trigger=writer,\n",
    ")"
   ]
  },
  {
   "cell_type": "markdown",
   "id": "43b8797d",
   "metadata": {},
   "source": [
    "**Note**: You might get a slightly different response than what's shown in the video. Feel free to try different task."
   ]
  },
  {
   "cell_type": "code",
   "execution_count": 14,
   "id": "3b8dcac3-1e72-43b7-9d5a-1be740f6efd5",
   "metadata": {
    "height": 115
   },
   "outputs": [
    {
     "name": "stdout",
     "output_type": "stream",
     "text": [
      "\u001b[33mCritic\u001b[0m (to Writer):\n",
      "\n",
      "\n",
      "        Write a concise but engaging blogpost about\n",
      "       DeepLearning.AI. Make sure the blogpost is\n",
      "       within 100 words.\n",
      "       \n",
      "\n",
      "--------------------------------------------------------------------------------\n",
      "\u001b[33mWriter\u001b[0m (to Critic):\n",
      "\n",
      "Title: Unveiling the Power of DeepLearning.AI\n",
      "\n",
      "Dive into the world of artificial intelligence with DeepLearning.AI, a leading platform revolutionizing tech education. Offering expert-led courses in deep learning, neural networks, and more, DeepLearning.AI empowers learners to grasp complex AI concepts with ease. Whether you're a novice or seasoned professional, the platform caters to all skill levels. With practical insights and hands-on projects, mastering AI has never been more accessible. Join the millions upskilling with DeepLearning.AI and unlock boundless opportunities in the realm of artificial intelligence. Start your journey today and shape the future with DeepLearning.AI.\n",
      "\n",
      "--------------------------------------------------------------------------------\n",
      "\u001b[34m\n",
      "********************************************************************************\u001b[0m\n",
      "\u001b[34mStarting a new chat....\u001b[0m\n",
      "\u001b[34m\n",
      "********************************************************************************\u001b[0m\n",
      "\u001b[33mCritic\u001b[0m (to SEO Reviewer):\n",
      "\n",
      "Review the following content. \n",
      "            \n",
      "\n",
      " Title: Unveiling the Power of DeepLearning.AI\n",
      "\n",
      "Dive into the world of artificial intelligence with DeepLearning.AI, a leading platform revolutionizing tech education. Offering expert-led courses in deep learning, neural networks, and more, DeepLearning.AI empowers learners to grasp complex AI concepts with ease. Whether you're a novice or seasoned professional, the platform caters to all skill levels. With practical insights and hands-on projects, mastering AI has never been more accessible. Join the millions upskilling with DeepLearning.AI and unlock boundless opportunities in the realm of artificial intelligence. Start your journey today and shape the future with DeepLearning.AI.\n",
      "\n",
      "--------------------------------------------------------------------------------\n",
      "\u001b[33mSEO Reviewer\u001b[0m (to Critic):\n",
      "\n",
      "As an SEO reviewer, here are some suggestions to enhance the content for better search engine optimization:\n",
      "\n",
      "1. **Keyword Integration**: Incorporate relevant keywords such as \"DeepLearning.AI, artificial intelligence courses, tech education\" strategically throughout the content to improve its visibility to search engines.\n",
      "\n",
      "2. **Meta Tags Optimization**: Optimize the meta title and description with targeted keywords like \"DeepLearning.AI courses, AI education platform\" to improve the click-through rate from search engine results pages.\n",
      "\n",
      "3. **Call-to-Action**: Include a clear call-to-action prompting users to \"Start learning with DeepLearning.AI today\" to encourage user engagement and conversions on the page.\n",
      "\n",
      "--------------------------------------------------------------------------------\n",
      "\u001b[34m\n",
      "********************************************************************************\u001b[0m\n",
      "\u001b[34mStarting a new chat....\u001b[0m\n",
      "\u001b[34m\n",
      "********************************************************************************\u001b[0m\n",
      "\u001b[33mCritic\u001b[0m (to Legal Reviewer):\n",
      "\n",
      "Review the following content. \n",
      "            \n",
      "\n",
      " Title: Unveiling the Power of DeepLearning.AI\n",
      "\n",
      "Dive into the world of artificial intelligence with DeepLearning.AI, a leading platform revolutionizing tech education. Offering expert-led courses in deep learning, neural networks, and more, DeepLearning.AI empowers learners to grasp complex AI concepts with ease. Whether you're a novice or seasoned professional, the platform caters to all skill levels. With practical insights and hands-on projects, mastering AI has never been more accessible. Join the millions upskilling with DeepLearning.AI and unlock boundless opportunities in the realm of artificial intelligence. Start your journey today and shape the future with DeepLearning.AI.\n",
      "Context: \n",
      "{'Reviewer': 'SEO Reviewer', 'Review': 'Suggested improvements to enhance SEO include keyword integration, meta tags optimization, and adding a clear call-to-action on the page.'}\n",
      "\n",
      "--------------------------------------------------------------------------------\n",
      "\u001b[33mLegal Reviewer\u001b[0m (to Critic):\n",
      "\n",
      "As a Legal Reviewer:\n",
      "\n",
      "1. Ensure the title \"Unveiling the Power of DeepLearning.AI\" does not infringe on any existing trademarks or cause confusion with other established brands.\n",
      "\n",
      "2. Verify that claims such as \"leading platform\" and \"empowers learners to grasp complex AI concepts with ease\" are substantiated to avoid potential false advertising issues.\n",
      "\n",
      "3. Confirm that the content does not make any misleading representations about the outcomes of using DeepLearning.AI, providing accurate information on the platform's offerings to prevent deceptive practices.\n",
      "\n",
      "--------------------------------------------------------------------------------\n",
      "\u001b[34m\n",
      "********************************************************************************\u001b[0m\n",
      "\u001b[34mStarting a new chat....\u001b[0m\n",
      "\u001b[34m\n",
      "********************************************************************************\u001b[0m\n",
      "\u001b[33mCritic\u001b[0m (to Ethics Reviewer):\n",
      "\n",
      "Review the following content. \n",
      "            \n",
      "\n",
      " Title: Unveiling the Power of DeepLearning.AI\n",
      "\n",
      "Dive into the world of artificial intelligence with DeepLearning.AI, a leading platform revolutionizing tech education. Offering expert-led courses in deep learning, neural networks, and more, DeepLearning.AI empowers learners to grasp complex AI concepts with ease. Whether you're a novice or seasoned professional, the platform caters to all skill levels. With practical insights and hands-on projects, mastering AI has never been more accessible. Join the millions upskilling with DeepLearning.AI and unlock boundless opportunities in the realm of artificial intelligence. Start your journey today and shape the future with DeepLearning.AI.\n",
      "Context: \n",
      "{'Reviewer': 'SEO Reviewer', 'Review': 'Suggested improvements to enhance SEO include keyword integration, meta tags optimization, and adding a clear call-to-action on the page.'}\n",
      "{'Reviewer': 'Legal Reviewer', 'Review': 'Refine title to avoid trademark infringement. Ensure claims are substantiated. Verify content accuracy to prevent misleading representations.'}\n",
      "\n",
      "--------------------------------------------------------------------------------\n",
      "\u001b[33mEthics Reviewer\u001b[0m (to Critic):\n",
      "\n",
      "As an Ethics Reviewer:\n",
      "\n",
      "1. The content should ensure transparency about the limitations and potential biases of AI education. \n",
      "2. Ensure that any claims made about the platform's benefits are backed up with evidence to prevent potential misrepresentation.\n",
      "3. Address any potential conflicts of interest or undisclosed sponsorships that could influence the objectivity of the content.\n",
      "\n",
      "--------------------------------------------------------------------------------\n",
      "\u001b[34m\n",
      "********************************************************************************\u001b[0m\n",
      "\u001b[34mStarting a new chat....\u001b[0m\n",
      "\u001b[34m\n",
      "********************************************************************************\u001b[0m\n",
      "\u001b[33mCritic\u001b[0m (to Meta Reviewer):\n",
      "\n",
      "Aggregrate feedback from all reviewers and give final suggestions on the writing.\n",
      "Context: \n",
      "{'Reviewer': 'SEO Reviewer', 'Review': 'Suggested improvements to enhance SEO include keyword integration, meta tags optimization, and adding a clear call-to-action on the page.'}\n",
      "{'Reviewer': 'Legal Reviewer', 'Review': 'Refine title to avoid trademark infringement. Ensure claims are substantiated. Verify content accuracy to prevent misleading representations.'}\n",
      "{'reviewer': 'Ethics Reviewer', 'review': '1. The content should ensure transparency about the limitations and potential biases of AI education. 2. Ensure that any claims made about the platform's benefits are backed up with evidence to prevent potential misrepresentation. 3. Address any potential conflicts of interest or undisclosed sponsorships that could influence the objectivity of the content.'}\n",
      "\n",
      "--------------------------------------------------------------------------------\n",
      "\u001b[33mMeta Reviewer\u001b[0m (to Critic):\n",
      "\n",
      "Aggregated Feedback: \n",
      "1. SEO Reviewer: Suggests improving SEO through keyword integration, meta tags optimization, and adding a clear call-to-action.\n",
      "2. Legal Reviewer: Recommends refining the title to avoid trademark infringement, substantiating claims, and verifying content accuracy to avoid misleading information.\n",
      "3. Ethics Reviewer: Emphasizes the importance of transparency regarding limitations and biases in AI education, backing up claims with evidence, and addressing conflicts of interest or undisclosed sponsorships that could impact objectivity.\n",
      "\n",
      "Final Suggestions:\n",
      "1. Enhance SEO by implementing suggested improvements like keyword integration, meta tags optimization, and incorporating a clear call-to-action.\n",
      "2. Refine the title to ensure it does not infringe any trademarks, substantiate all claims, and verify the accuracy of content to avoid any misleading information.\n",
      "3. Ensure transparency regarding limitations, biases, and potential conflicts of interest in AI education content, back up claims with evidence, and disclose any sponsorships that could affect objectivity.\n",
      "\n",
      "Overall, it is recommended to address all the suggestions provided by the reviewers to enhance the quality, credibility, and visibility of the content.\n"
     ]
    },
    {
     "name": "stdout",
     "output_type": "stream",
     "text": [
      "\n",
      "--------------------------------------------------------------------------------\n",
      "\u001b[33mCritic\u001b[0m (to Writer):\n",
      "\n",
      "Aggregated Feedback: \n",
      "1. SEO Reviewer: Suggests improving SEO through keyword integration, meta tags optimization, and adding a clear call-to-action.\n",
      "2. Legal Reviewer: Recommends refining the title to avoid trademark infringement, substantiating claims, and verifying content accuracy to avoid misleading information.\n",
      "3. Ethics Reviewer: Emphasizes the importance of transparency regarding limitations and biases in AI education, backing up claims with evidence, and addressing conflicts of interest or undisclosed sponsorships that could impact objectivity.\n",
      "\n",
      "Final Suggestions:\n",
      "1. Enhance SEO by implementing suggested improvements like keyword integration, meta tags optimization, and incorporating a clear call-to-action.\n",
      "2. Refine the title to ensure it does not infringe any trademarks, substantiate all claims, and verify the accuracy of content to avoid any misleading information.\n",
      "3. Ensure transparency regarding limitations, biases, and potential conflicts of interest in AI education content, back up claims with evidence, and disclose any sponsorships that could affect objectivity.\n",
      "\n",
      "Overall, it is recommended to address all the suggestions provided by the reviewers to enhance the quality, credibility, and visibility of the content.\n",
      "\n",
      "--------------------------------------------------------------------------------\n",
      "\u001b[33mWriter\u001b[0m (to Critic):\n",
      "\n",
      "Title: Navigating the World of DeepLearning.AI\n",
      "\n",
      "Embark on a journey into the realm of artificial intelligence through DeepLearning.AI – a premier platform reshaping tech education landscapes. Featuring comprehensive courses on deep learning and neural networks, DeepLearning.AI equips learners of all levels with invaluable AI expertise. From beginners to professionals, the platform caters to diverse skill sets, offering practical knowledge and engaging projects. Join the vast community of learners mastering AI with DeepLearning.AI to unveil limitless opportunities in this cutting-edge field. Start shaping the future today with DeepLearning.AI.\n",
      "\n",
      "--------------------------------------------------------------------------------\n"
     ]
    }
   ],
   "source": [
    "res = critic.initiate_chat(\n",
    "    recipient=writer,\n",
    "    message=task,\n",
    "    max_turns=2,\n",
    "    summary_method=\"last_msg\"\n",
    ")"
   ]
  },
  {
   "cell_type": "markdown",
   "id": "c5c833b0",
   "metadata": {},
   "source": [
    "## Get the summary"
   ]
  },
  {
   "cell_type": "code",
   "execution_count": 15,
   "id": "68ef82ed-f102-4964-b7be-60e2f258a39b",
   "metadata": {
    "height": 30
   },
   "outputs": [
    {
     "name": "stdout",
     "output_type": "stream",
     "text": [
      "Title: Navigating the World of DeepLearning.AI\n",
      "\n",
      "Embark on a journey into the realm of artificial intelligence through DeepLearning.AI – a premier platform reshaping tech education landscapes. Featuring comprehensive courses on deep learning and neural networks, DeepLearning.AI equips learners of all levels with invaluable AI expertise. From beginners to professionals, the platform caters to diverse skill sets, offering practical knowledge and engaging projects. Join the vast community of learners mastering AI with DeepLearning.AI to unveil limitless opportunities in this cutting-edge field. Start shaping the future today with DeepLearning.AI.\n"
     ]
    }
   ],
   "source": [
    "print(res.summary)"
   ]
  }
 ],
 "metadata": {
  "kernelspec": {
   "display_name": "Python 3 (ipykernel)",
   "language": "python",
   "name": "python3"
  },
  "language_info": {
   "codemirror_mode": {
    "name": "ipython",
    "version": 3
   },
   "file_extension": ".py",
   "mimetype": "text/x-python",
   "name": "python",
   "nbconvert_exporter": "python",
   "pygments_lexer": "ipython3",
   "version": "3.11.9"
  }
 },
 "nbformat": 4,
 "nbformat_minor": 5
}
