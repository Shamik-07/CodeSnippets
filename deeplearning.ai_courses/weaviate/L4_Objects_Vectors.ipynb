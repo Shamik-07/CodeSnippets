{
 "cells": [
  {
   "cell_type": "markdown",
   "id": "7b91d206-39f3-4064-8692-d29d59c86303",
   "metadata": {},
   "source": [
    "## Vector Database setup"
   ]
  },
  {
   "cell_type": "markdown",
   "id": "346ea881-5faa-4d7f-b317-3b51a3d2bc15",
   "metadata": {},
   "source": [
    "Remove old Weaviate DB files"
   ]
  },
  {
   "cell_type": "code",
   "execution_count": null,
   "id": "010cae0d-c7c6-4cf0-aab5-e1b149d27be6",
   "metadata": {
    "height": 30
   },
   "outputs": [],
   "source": [
    "!rm -rf ~/.local/share/weaviate"
   ]
  },
  {
   "cell_type": "markdown",
   "id": "8e4f866a-f746-4c88-8468-81ed859dfdad",
   "metadata": {},
   "source": [
    "\n",
    "### Step 1 - Download sample data"
   ]
  },
  {
   "cell_type": "code",
   "execution_count": null,
   "id": "f8d8b55a",
   "metadata": {
    "height": 251
   },
   "outputs": [],
   "source": [
    "import requests\n",
    "import json\n",
    "\n",
    "# Download the data\n",
    "resp = requests.get('https://raw.githubusercontent.com/weaviate-tutorials/quickstart/main/data/jeopardy_tiny.json')\n",
    "data = json.loads(resp.text)  # Load data\n",
    "\n",
    "# Parse the JSON and preview it\n",
    "print(type(data), len(data))\n",
    "\n",
    "def json_print(data):\n",
    "    print(json.dumps(data, indent=4))\n",
    "\n",
    "json_print(data[0])"
   ]
  },
  {
   "cell_type": "markdown",
   "id": "c56b4975-bce1-4805-8369-e680d28cf9a9",
   "metadata": {},
   "source": [
    "### Step 2 - Create an embedded instance of Weaviate vector database"
   ]
  },
  {
   "cell_type": "code",
   "execution_count": null,
   "id": "1504f6fc-c41a-4c53-966a-4bdb0ac02dcc",
   "metadata": {
    "height": 285
   },
   "outputs": [],
   "source": [
    "import weaviate, os\n",
    "from weaviate import EmbeddedOptions\n",
    "import openai\n",
    "\n",
    "from dotenv import load_dotenv, find_dotenv\n",
    "_ = load_dotenv(find_dotenv()) # read local .env file\n",
    "openai.api_key = os.environ['OPENAI_API_KEY']\n",
    "\n",
    "client = weaviate.Client(\n",
    "    embedded_options=EmbeddedOptions(),\n",
    "    additional_headers={\n",
    "        \"X-OpenAI-BaseURL\": os.environ['OPENAI_API_BASE'],\n",
    "        \"X-OpenAI-Api-Key\": openai.api_key  # Replace this with your actual key\n",
    "    }\n",
    ")\n",
    "print(f\"Client created? {client.is_ready()}\")"
   ]
  },
  {
   "cell_type": "markdown",
   "id": "adf04e9f-5703-4a7c-bc7d-5b90195b571b",
   "metadata": {},
   "source": [
    "Prints all available vectorizers."
   ]
  },
  {
   "cell_type": "code",
   "execution_count": null,
   "id": "42f88930-693d-4041-a93c-280f00d8a75d",
   "metadata": {
    "height": 30
   },
   "outputs": [],
   "source": [
    "json_print(client.get_meta())"
   ]
  },
  {
   "cell_type": "markdown",
   "id": "c7eb24c9-1f47-402f-ae21-58cad28c796f",
   "metadata": {},
   "source": [
    "## Step 3 - Create Question collection"
   ]
  },
  {
   "cell_type": "code",
   "execution_count": null,
   "id": "654b58e4-ad12-461c-951b-bf5ed372ee82",
   "metadata": {
    "height": 302
   },
   "outputs": [],
   "source": [
    "# resetting the schema. CAUTION: This will delete your collection \n",
    "if client.schema.exists(\"Question\"):\n",
    "    client.schema.delete_class(\"Question\")\n",
    "class_obj = {\n",
    "    \"class\": \"Question\",\n",
    "    \"vectorizer\": \"text2vec-openai\",  # Use OpenAI as the vectorizer\n",
    "    \"moduleConfig\": { # few configurations for the OpenAI model\n",
    "        \"text2vec-openai\": {\n",
    "            \"model\": \"ada\",\n",
    "            \"modelVersion\": \"002\",\n",
    "            \"type\": \"text\",\n",
    "            \"baseURL\": os.environ[\"OPENAI_API_BASE\"]\n",
    "        }\n",
    "    }\n",
    "}\n",
    "\n",
    "client.schema.create_class(class_obj)"
   ]
  },
  {
   "cell_type": "markdown",
   "id": "b35a3a84-b944-4434-86eb-cbf0b7d6af12",
   "metadata": {},
   "source": [
    "## Step 4 - Load sample data and generate vector embeddings"
   ]
  },
  {
   "cell_type": "code",
   "execution_count": null,
   "id": "30c7d265-4380-4cb5-a494-bd759bbf7297",
   "metadata": {
    "height": 47
   },
   "outputs": [],
   "source": [
    "# reminder for the data structure\n",
    "json_print(data[0])"
   ]
  },
  {
   "cell_type": "markdown",
   "id": "d5ee6b0a-7451-4ddd-b266-de16a70a3b04",
   "metadata": {},
   "source": [
    "Adding all the data to the DB.\n",
    "\n",
    "**NB** The vectors aren't added as part of the `properties` of the data object as they will be generated automatically. **Weaviate** generates vector embeddings at the object level, which means **all the properties of STR type**.<br>\n",
    "Following strategy is used by default:<br>\n",
    "* Only vectorize properties that use the text data type.\n",
    "* Sort properties in alphabetical (a-z) order before concatenating values.\n",
    "* If `vectorizePropertyName` is true (false by default), prepend the property name to each property value.\n",
    "* Join the (prepended) property values with spaces.\n",
    "* Prepend the class name (unless `vectorizeClassName` is false).\n",
    "* Convert the produced string to lowercase.\n",
    "\n",
    "So in this case, as **all the properties are strings**:\n",
    "1. Sort them alphabetically\n",
    "2. Concatenate the values with spaces\n",
    "3. Lowercase the resulting string and return it for vectorisation"
   ]
  },
  {
   "cell_type": "code",
   "execution_count": null,
   "id": "95e3d133-5b40-4b46-8719-d2cc70fffd1b",
   "metadata": {
    "height": 268
   },
   "outputs": [],
   "source": [
    "with client.batch.configure(batch_size=5) as batch:\n",
    "    for i, d in enumerate(data):  # Batch import data\n",
    "        \n",
    "        print(f\"importing question: {i+1}\")\n",
    "\n",
    "        # configuring the data object\n",
    "        # notice that the vectors aren't added here, as the vectorizer\n",
    "        # will add it on the fly based on the \"Question\"\n",
    "        properties = {\n",
    "            \"answer\": d[\"Answer\"],\n",
    "            \"question\": d[\"Question\"],\n",
    "            \"category\": d[\"Category\"],\n",
    "        }\n",
    "        # adding it to the \"Question\" schema\n",
    "        batch.add_data_object(\n",
    "            data_object=properties,\n",
    "            class_name=\"Question\"\n",
    "        )"
   ]
  },
  {
   "cell_type": "markdown",
   "id": "83d8d17b-c00c-450a-a059-f678cacbf540",
   "metadata": {},
   "source": [
    "Checking total number of record in DB"
   ]
  },
  {
   "cell_type": "code",
   "execution_count": null,
   "id": "25dc32a2-1629-4149-97a9-1d13d49f132d",
   "metadata": {
    "height": 47
   },
   "outputs": [],
   "source": [
    "count = client.query.aggregate(\"Question\").with_meta_count().do()\n",
    "json_print(count)"
   ]
  },
  {
   "cell_type": "markdown",
   "id": "9e128da9-8b9c-4e93-8077-ea35c2f27d4e",
   "metadata": {},
   "source": [
    "## Let's Extract the vector that represents each question!"
   ]
  },
  {
   "cell_type": "code",
   "execution_count": null,
   "id": "8af97b0b-8e6b-4816-95ac-a31f9e2d80ab",
   "metadata": {
    "height": 149
   },
   "outputs": [],
   "source": [
    "# write a query to extract the vector for a question\n",
    "result = (client.query\n",
    "          .get(\"Question\", [\"category\", \"question\", \"answer\"])\n",
    "          .with_additional(\"vector\")\n",
    "          .with_limit(1)\n",
    "          .do())\n",
    "\n",
    "json_print(result)"
   ]
  },
  {
   "cell_type": "markdown",
   "id": "a5153263-4464-4e45-8da8-fd47ec95fb4e",
   "metadata": {},
   "source": [
    "## Query time\n",
    "What is the distance between the `query`: `biology` and the returned objects?\n",
    "\n",
    "**NB** Since the distance is `cosine distance`, **LOWER IS BETTER**"
   ]
  },
  {
   "cell_type": "code",
   "execution_count": null,
   "id": "42e3d49a-5033-4742-8acf-6427980b9f54",
   "metadata": {
    "height": 183
   },
   "outputs": [],
   "source": [
    "response = (\n",
    "    client.query\n",
    "    .get(\"Question\",[\"question\",\"answer\",\"category\"])\n",
    "    .with_near_text({\"concepts\": \"biology\"}) # textual search for the category biology\n",
    "    # this method always requiresa dict with \"concepts\" as key and values as a\n",
    "    # str or list(str)\n",
    "    .with_additional('distance')\n",
    "    .with_limit(2)\n",
    "    .do()\n",
    ")\n",
    "\n",
    "json_print(response)"
   ]
  },
  {
   "cell_type": "markdown",
   "id": "f0d58349-2e19-4fc2-b868-7174115943a3",
   "metadata": {},
   "source": [
    "Checcking all the responses in the DB"
   ]
  },
  {
   "cell_type": "code",
   "execution_count": null,
   "id": "691aec17-32f5-4df3-a066-5017be268a1f",
   "metadata": {
    "height": 183
   },
   "outputs": [],
   "source": [
    "response = (\n",
    "    client.query\n",
    "    .get(\"Question\", [\"question\", \"answer\"])\n",
    "    .with_near_text({\"concepts\": [\"animals\"]})\n",
    "    .with_limit(10)\n",
    "    .with_additional([\"distance\"])\n",
    "    .do()\n",
    ")\n",
    "\n",
    "json_print(response)"
   ]
  },
  {
   "cell_type": "markdown",
   "id": "806d0b48-e03a-42ff-b3c7-ff640bb4bccb",
   "metadata": {},
   "source": [
    "## We can let the vector database know to remove results after a threshold distance!"
   ]
  },
  {
   "cell_type": "markdown",
   "id": "c926fb32-45d2-4c39-9a81-39456578e7e3",
   "metadata": {},
   "source": [
    "Considering only results < 0.24 distance"
   ]
  },
  {
   "cell_type": "code",
   "execution_count": null,
   "id": "afe873c5-0ca3-470b-a40d-9a44361fddfb",
   "metadata": {
    "height": 183
   },
   "outputs": [],
   "source": [
    "response = (\n",
    "    client.query\n",
    "    .get(\"Question\", [\"question\", \"answer\"])\n",
    "    .with_near_text({\"concepts\": [\"animals\"], \"distance\": 0.24})\n",
    "    .with_limit(10)\n",
    "    .with_additional([\"distance\"])\n",
    "    .do()\n",
    ")\n",
    "\n",
    "json_print(response)"
   ]
  },
  {
   "cell_type": "markdown",
   "id": "9875f5a5-f5f1-4642-bd02-28d5a66a90c0",
   "metadata": {},
   "source": [
    "## Vector Databases support for CRUD operations"
   ]
  },
  {
   "cell_type": "markdown",
   "id": "a0e4b598-1cb7-4a3b-a230-5c953a43ead1",
   "metadata": {},
   "source": [
    "### `C`reate a new record"
   ]
  },
  {
   "cell_type": "code",
   "execution_count": null,
   "id": "7e068287-69df-4792-98de-1d4a273381b7",
   "metadata": {
    "height": 166
   },
   "outputs": [],
   "source": [
    "#Create an object\n",
    "object_uuid = client.data_object.create(\n",
    "    data_object={\n",
    "        'question':\"Leonardo da Vinci was born in this country.\",\n",
    "        'answer': \"Italy\",\n",
    "        'category': \"Culture\"\n",
    "    },\n",
    "    class_name=\"Question\"\n",
    " )"
   ]
  },
  {
   "cell_type": "code",
   "execution_count": null,
   "id": "a769490e-b6ac-41b2-98dd-ae641692331e",
   "metadata": {
    "height": 30
   },
   "outputs": [],
   "source": [
    "print(object_uuid)"
   ]
  },
  {
   "cell_type": "markdown",
   "id": "e98cd37f-4e4c-46fb-b0cd-ec0813de30d3",
   "metadata": {},
   "source": [
    "### `R`ead the new record"
   ]
  },
  {
   "cell_type": "code",
   "execution_count": null,
   "id": "4fbc4b12-91d0-40d8-86ba-12cfc24a55a6",
   "metadata": {
    "height": 47
   },
   "outputs": [],
   "source": [
    "data_object = client.data_object.get_by_id(object_uuid, class_name=\"Question\")\n",
    "json_print(data_object)"
   ]
  },
  {
   "cell_type": "code",
   "execution_count": null,
   "id": "91a962a6-0406-4750-9fb4-c7520936c864",
   "metadata": {
    "height": 132
   },
   "outputs": [],
   "source": [
    "data_object = client.data_object.get_by_id(\n",
    "    object_uuid,\n",
    "    class_name='Question',\n",
    "    with_vector=True\n",
    ")\n",
    "\n",
    "json_print(data_object)"
   ]
  },
  {
   "cell_type": "markdown",
   "id": "ba0b2cf0-5cc8-4a24-8685-6791f1bdf2c3",
   "metadata": {},
   "source": [
    "### `U`pdate the new record"
   ]
  },
  {
   "cell_type": "code",
   "execution_count": null,
   "id": "a9daf260-e0e0-489f-83af-05b762e01171",
   "metadata": {
    "height": 115
   },
   "outputs": [],
   "source": [
    "# updating the answer of the new record\n",
    "client.data_object.update(\n",
    "    uuid=object_uuid,\n",
    "    class_name=\"Question\",\n",
    "    data_object={\n",
    "        'answer':\"Florence, Italy\"\n",
    "    })"
   ]
  },
  {
   "cell_type": "markdown",
   "id": "9232e6db-c85d-4f18-ac2a-e40c85a63c21",
   "metadata": {},
   "source": [
    "Printing the newly updated record"
   ]
  },
  {
   "cell_type": "code",
   "execution_count": null,
   "id": "a743d481-1a25-47b6-82ac-c3c3c3b02b8d",
   "metadata": {
    "height": 115
   },
   "outputs": [],
   "source": [
    "data_object = client.data_object.get_by_id(\n",
    "    object_uuid,\n",
    "    class_name='Question',\n",
    ")\n",
    "\n",
    "json_print(data_object)"
   ]
  },
  {
   "cell_type": "markdown",
   "id": "8c317c5a-6fc9-47f3-b8c3-d2aff2ab6cb5",
   "metadata": {},
   "source": [
    "### `D`eleting the new record"
   ]
  },
  {
   "cell_type": "code",
   "execution_count": null,
   "id": "a9ddc0e3-8d18-4908-93be-626ddf973b44",
   "metadata": {
    "height": 30
   },
   "outputs": [],
   "source": [
    "json_print(client.query.aggregate(\"Question\").with_meta_count().do())"
   ]
  },
  {
   "cell_type": "code",
   "execution_count": null,
   "id": "64118e7a-2b9d-425f-a922-54b98103a9b6",
   "metadata": {
    "height": 30
   },
   "outputs": [],
   "source": [
    "client.data_object.delete(uuid=object_uuid, class_name=\"Question\")"
   ]
  },
  {
   "cell_type": "code",
   "execution_count": null,
   "id": "53fa8f44-ec03-425a-a567-ebb3825b7cf0",
   "metadata": {
    "height": 30
   },
   "outputs": [],
   "source": [
    "json_print(client.query.aggregate(\"Question\").with_meta_count().do())"
   ]
  },
  {
   "cell_type": "code",
   "execution_count": null,
   "id": "676f1722-9690-43a0-b256-c59d678570ad",
   "metadata": {
    "height": 30
   },
   "outputs": [],
   "source": []
  }
 ],
 "metadata": {
  "kernelspec": {
   "display_name": "Python 3 (ipykernel)",
   "language": "python",
   "name": "python3"
  },
  "language_info": {
   "codemirror_mode": {
    "name": "ipython",
    "version": 3
   },
   "file_extension": ".py",
   "mimetype": "text/x-python",
   "name": "python",
   "nbconvert_exporter": "python",
   "pygments_lexer": "ipython3",
   "version": "3.8.13"
  }
 },
 "nbformat": 4,
 "nbformat_minor": 5
}
