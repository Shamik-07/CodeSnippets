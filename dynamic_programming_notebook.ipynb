{
 "cells": [
  {
   "cell_type": "markdown",
   "metadata": {},
   "source": [
    "Dynamic Programming & Programming"
   ]
  },
  {
   "cell_type": "markdown",
   "metadata": {},
   "source": [
    "Grid Traveller"
   ]
  },
  {
   "cell_type": "code",
   "execution_count": 46,
   "metadata": {},
   "outputs": [],
   "source": [
    "def grid_traveller(m,n, dict_={}):\n",
    "    key = (m,n)\n",
    "    if key in dict_:\n",
    "        return dict_[key]\n",
    "    if (m == 0 or n == 0) :\n",
    "        return 0\n",
    "    if (m == 1 and n == 1) :\n",
    "        return 1\n",
    "    dict_[key] = grid_traveller(m-1,n,dict_) + grid_traveller(m,n-1, dict_)\n",
    "    return dict_[key]"
   ]
  },
  {
   "cell_type": "code",
   "execution_count": 50,
   "metadata": {},
   "outputs": [
    {
     "data": {
      "text/plain": [
       "(3, 1, 3, 2333606220)"
      ]
     },
     "execution_count": 50,
     "metadata": {},
     "output_type": "execute_result"
    }
   ],
   "source": [
    "grid_traveller(2,3), grid_traveller(1,1), grid_traveller(3,2), grid_traveller(18,18)"
   ]
  },
  {
   "cell_type": "markdown",
   "metadata": {},
   "source": [
    "Fibonacci"
   ]
  },
  {
   "cell_type": "code",
   "execution_count": 6,
   "metadata": {},
   "outputs": [],
   "source": [
    "def fib(n, dict_ = {}):\n",
    "    if n<=2:\n",
    "        return 1\n",
    "    if n in dict_:\n",
    "        return dict_[n]\n",
    "    dict_[n] = fib(n-1, dict_) + fib(n-2, dict_)\n",
    "    return dict_[n]"
   ]
  },
  {
   "cell_type": "code",
   "execution_count": 29,
   "metadata": {},
   "outputs": [
    {
     "name": "stdout",
     "output_type": "stream",
     "text": [
      "268 ns ± 2.06 ns per loop (mean ± std. dev. of 7 runs, 1000000 loops each)\n"
     ]
    }
   ],
   "source": [
    "%%timeit\n",
    "fib(150)"
   ]
  },
  {
   "cell_type": "code",
   "execution_count": 26,
   "metadata": {},
   "outputs": [],
   "source": [
    "def fib_ls(n):\n",
    "    fib_arr = [0,1]\n",
    "\n",
    "    for i in range(2, n+1):\n",
    "        fib_arr.append(fib_arr[i-1]+fib_arr[i-2])\n",
    "    return fib_arr[n]"
   ]
  },
  {
   "cell_type": "code",
   "execution_count": 28,
   "metadata": {},
   "outputs": [
    {
     "name": "stdout",
     "output_type": "stream",
     "text": [
      "40.7 µs ± 1.06 µs per loop (mean ± std. dev. of 7 runs, 10000 loops each)\n"
     ]
    }
   ],
   "source": [
    "%%timeit\n",
    "fib_ls(150)"
   ]
  },
  {
   "cell_type": "markdown",
   "metadata": {},
   "source": [
    "Generating n-grams"
   ]
  },
  {
   "cell_type": "code",
   "execution_count": 5,
   "metadata": {},
   "outputs": [
    {
     "data": {
      "text/plain": [
       "[('The', 'quick', 'brown', 'fox'),\n",
       " ('quick', 'brown', 'fox', 'jumped'),\n",
       " ('brown', 'fox', 'jumped', 'over'),\n",
       " ('fox', 'jumped', 'over', 'the'),\n",
       " ('jumped', 'over', 'the', 'lazy'),\n",
       " ('over', 'the', 'lazy', 'dog.')]"
      ]
     },
     "execution_count": 5,
     "metadata": {},
     "output_type": "execute_result"
    }
   ],
   "source": [
    "s = \"The quick brown fox jumped over the lazy dog.\".split()\n",
    "n = 4\n",
    "n_grams = list(zip(*[s[i:] for i in range(n)]))\n",
    "n_grams"
   ]
  },
  {
   "cell_type": "markdown",
   "metadata": {},
   "source": [
    "Group Anagrams"
   ]
  },
  {
   "cell_type": "code",
   "execution_count": 1,
   "metadata": {},
   "outputs": [],
   "source": [
    "from typing import List\n",
    "\n",
    "def groupAnagrams(strs: List[str]) -> List[List[str]]:\n",
    "        \n",
    "        # results = defaultdict(list)\n",
    "        results = {}\n",
    "        \n",
    "        for each_str in strs:\n",
    "            count = [0] * 26\n",
    "            \n",
    "            for each_char in each_str:\n",
    "                count[ord(each_char) - ord('a')] +=1\n",
    "                \n",
    "            results.setdefault(tuple(count), []).append(each_str)\n",
    "            \n",
    "        return results.values()"
   ]
  },
  {
   "cell_type": "code",
   "execution_count": 2,
   "metadata": {},
   "outputs": [
    {
     "data": {
      "text/plain": [
       "dict_values([['eat', 'tea', 'ate'], ['tan', 'nat'], ['bat']])"
      ]
     },
     "execution_count": 2,
     "metadata": {},
     "output_type": "execute_result"
    }
   ],
   "source": [
    "strs = [\"eat\",\"tea\",\"tan\",\"ate\",\"nat\",\"bat\"]\n",
    "groupAnagrams(strs=strs)"
   ]
  },
  {
   "cell_type": "markdown",
   "metadata": {},
   "source": [
    "Can Sum"
   ]
  },
  {
   "cell_type": "code",
   "execution_count": 62,
   "metadata": {},
   "outputs": [],
   "source": [
    "def can_sum(target_sum,ls: list, memo:dict):\n",
    "    if target_sum in memo:\n",
    "        return memo[target_sum]\n",
    "    if target_sum==0:\n",
    "        return True\n",
    "    if target_sum < 0:\n",
    "        return False\n",
    "    \n",
    "    for i in ls:\n",
    "        remainder = target_sum - i\n",
    "        if can_sum(remainder, ls, memo):\n",
    "            memo[target_sum] = True\n",
    "            return True\n",
    "    \n",
    "    memo[target_sum]=False\n",
    "    return False"
   ]
  },
  {
   "cell_type": "code",
   "execution_count": 63,
   "metadata": {},
   "outputs": [
    {
     "data": {
      "text/plain": [
       "(True, True, False, True, False, True)"
      ]
     },
     "execution_count": 63,
     "metadata": {},
     "output_type": "execute_result"
    }
   ],
   "source": [
    "can_sum(7, [5,4,3,7], {}), can_sum(7, [2,3], {}), can_sum(7, [2,4], {}), can_sum(8, [2,3,5], {}), can_sum(300, [7,14], {}), can_sum(0,[1,2,3], {})"
   ]
  },
  {
   "cell_type": "markdown",
   "metadata": {},
   "source": [
    "Two Sum"
   ]
  },
  {
   "cell_type": "code",
   "execution_count": 3,
   "metadata": {},
   "outputs": [],
   "source": [
    "from typing import List\n",
    "\n",
    "def twoSum(nums: List[int], target: int) -> List[int]:\n",
    "        memo = {}\n",
    "        \n",
    "        for idx, num in enumerate(nums):\n",
    "            diff = target - num\n",
    "            if diff in memo:\n",
    "                return [memo[diff], idx]\n",
    "            memo[num] = idx"
   ]
  },
  {
   "cell_type": "code",
   "execution_count": 5,
   "metadata": {},
   "outputs": [
    {
     "data": {
      "text/plain": [
       "[0, 1]"
      ]
     },
     "execution_count": 5,
     "metadata": {},
     "output_type": "execute_result"
    }
   ],
   "source": [
    "nums = [2,7,11,15]\n",
    "target = 9\n",
    "twoSum(nums,target)"
   ]
  },
  {
   "cell_type": "markdown",
   "metadata": {},
   "source": [
    "Is Anagram"
   ]
  },
  {
   "cell_type": "code",
   "execution_count": 8,
   "metadata": {},
   "outputs": [],
   "source": [
    "def isAnagram(s: str, t: str) -> bool:\n",
    "        return sorted(s) == sorted(t)\n",
    "        s = list(s)\n",
    "        s.sort()\n",
    "        t = list(t)\n",
    "        t.sort()\n",
    "        if s == t:\n",
    "            return True\n",
    "        return False"
   ]
  },
  {
   "cell_type": "code",
   "execution_count": 9,
   "metadata": {},
   "outputs": [
    {
     "data": {
      "text/plain": [
       "True"
      ]
     },
     "execution_count": 9,
     "metadata": {},
     "output_type": "execute_result"
    }
   ],
   "source": [
    "s = \"anagram\"\n",
    "t = \"nagaram\"\n",
    "isAnagram(s,t)"
   ]
  },
  {
   "cell_type": "markdown",
   "metadata": {},
   "source": [
    "Pivot Index\n",
    "\n",
    "Given an array of integers nums, calculate the pivot index of this array.\n",
    "\n",
    "The pivot index is the index where the sum of all the numbers strictly to the left of the index is equal to the sum of all the numbers strictly to the index's right.\n",
    "\n",
    "If the index is on the left edge of the array, then the left sum is 0 because there are no elements to the left. This also applies to the right edge of the array.\n",
    "\n",
    "Return the leftmost pivot index. If no such index exists, return -1."
   ]
  },
  {
   "cell_type": "code",
   "execution_count": 10,
   "metadata": {},
   "outputs": [],
   "source": [
    "from typing import List\n",
    "\n",
    "def pivotIndex(nums: List[int]) -> int:\n",
    "        tot_sum = sum(nums)\n",
    "        for idx,num in enumerate(nums):\n",
    "            if not idx:\n",
    "                l_sum = 0\n",
    "                r_sum = tot_sum - nums[idx]\n",
    "                if l_sum == r_sum:\n",
    "                    return idx\n",
    "            elif idx:\n",
    "                l_sum = sum(nums[:idx])\n",
    "                r_sum = tot_sum -nums[idx]- l_sum\n",
    "                if l_sum == r_sum:\n",
    "                    return idx\n",
    "        return -1"
   ]
  },
  {
   "cell_type": "code",
   "execution_count": 11,
   "metadata": {},
   "outputs": [
    {
     "data": {
      "text/plain": [
       "3"
      ]
     },
     "execution_count": 11,
     "metadata": {},
     "output_type": "execute_result"
    }
   ],
   "source": [
    "nums = [1,7,3,6,5,6]\n",
    "pivotIndex(nums)"
   ]
  },
  {
   "cell_type": "markdown",
   "metadata": {},
   "source": [
    "Top K Frequent Elements\n",
    "\n",
    "Given an integer array nums and an integer k, return the k most frequent elements. You may return the answer in any order.\n",
    "\n",
    "Solution with Bucket Sort"
   ]
  },
  {
   "cell_type": "code",
   "execution_count": 28,
   "metadata": {},
   "outputs": [],
   "source": [
    "from typing import List\n",
    "\n",
    "def topKFrequent(nums: List[int], k: int) -> List[int]:\n",
    "        \n",
    "        memo = {}\n",
    "        val_list = [[] for i in range(len(nums) + 1)]\n",
    "        \n",
    "        for num in nums:\n",
    "            memo[num] = 1 + memo.get(num, 0)\n",
    "            \n",
    "        for key, val in memo.items():\n",
    "            val_list[val].append(key)\n",
    "        \n",
    "        results = []\n",
    "        for i in range(len(val_list)-1, 0, -1):\n",
    "            for num in val_list[i]:\n",
    "                results.append(num)\n",
    "                if len(results) == k:\n",
    "                    return results\n",
    "        "
   ]
  },
  {
   "cell_type": "code",
   "execution_count": 32,
   "metadata": {},
   "outputs": [
    {
     "data": {
      "text/plain": [
       "[1, 2]"
      ]
     },
     "execution_count": 32,
     "metadata": {},
     "output_type": "execute_result"
    }
   ],
   "source": [
    "nums = [1,1,1,2,2,3]\n",
    "k = 2\n",
    "topKFrequent(nums, k)"
   ]
  }
 ],
 "metadata": {
  "interpreter": {
   "hash": "4a26bff658f397c03e7a6d50107f9eb6f30b6be739d1dd4be66c4365d73d3fda"
  },
  "kernelspec": {
   "display_name": "Python 3.7.11 ('py37')",
   "language": "python",
   "name": "python3"
  },
  "language_info": {
   "codemirror_mode": {
    "name": "ipython",
    "version": 3
   },
   "file_extension": ".py",
   "mimetype": "text/x-python",
   "name": "python",
   "nbconvert_exporter": "python",
   "pygments_lexer": "ipython3",
   "version": "3.7.11"
  },
  "orig_nbformat": 4
 },
 "nbformat": 4,
 "nbformat_minor": 2
}
