{
 "cells": [
  {
   "cell_type": "code",
   "execution_count": 6,
   "metadata": {},
   "outputs": [],
   "source": [
    "def grid_traveller(m,n, dict_={}):\n",
    "    key = (m,n)\n",
    "    if key in dict_:\n",
    "        return dict_[key]\n",
    "    if (m == 0 or n == 0) :\n",
    "        return 0\n",
    "    if (m == 1 and n == 1) :\n",
    "        return 1\n",
    "    dict_[key] = grid_traveller(m-1,n,dict_) + grid_traveller(m,n-1, dict_)\n",
    "    return dict_[key]"
   ]
  },
  {
   "cell_type": "code",
   "execution_count": 8,
   "metadata": {},
   "outputs": [
    {
     "data": {
      "text/plain": [
       "11541847896480"
      ]
     },
     "execution_count": 8,
     "metadata": {},
     "output_type": "execute_result"
    }
   ],
   "source": [
    "grid_traveller(20,30)"
   ]
  },
  {
   "cell_type": "code",
   "execution_count": 17,
   "metadata": {},
   "outputs": [],
   "source": [
    "def fib(n, dict_ = {}):\n",
    "    if n<=2:\n",
    "        return 1\n",
    "    if n in dict_:\n",
    "        return dict_[n]\n",
    "    dict_[n] = fib(n-1, dict_) + fib(n-2, dict_)\n",
    "    return dict_[n]"
   ]
  },
  {
   "cell_type": "code",
   "execution_count": 29,
   "metadata": {},
   "outputs": [
    {
     "name": "stdout",
     "output_type": "stream",
     "text": [
      "268 ns ± 2.06 ns per loop (mean ± std. dev. of 7 runs, 1000000 loops each)\n"
     ]
    }
   ],
   "source": [
    "%%timeit\n",
    "fib(150)"
   ]
  },
  {
   "cell_type": "code",
   "execution_count": 26,
   "metadata": {},
   "outputs": [],
   "source": [
    "def fib_ls(n):\n",
    "    fib_arr = [0,1]\n",
    "\n",
    "    for i in range(2, n+1):\n",
    "        fib_arr.append(fib_arr[i-1]+fib_arr[i-2])\n",
    "    return fib_arr[n]"
   ]
  },
  {
   "cell_type": "code",
   "execution_count": 28,
   "metadata": {},
   "outputs": [
    {
     "name": "stdout",
     "output_type": "stream",
     "text": [
      "40.7 µs ± 1.06 µs per loop (mean ± std. dev. of 7 runs, 10000 loops each)\n"
     ]
    }
   ],
   "source": [
    "%%timeit\n",
    "fib_ls(150)"
   ]
  }
 ],
 "metadata": {
  "interpreter": {
   "hash": "4a26bff658f397c03e7a6d50107f9eb6f30b6be739d1dd4be66c4365d73d3fda"
  },
  "kernelspec": {
   "display_name": "Python 3.7.11 ('py37')",
   "language": "python",
   "name": "python3"
  },
  "language_info": {
   "codemirror_mode": {
    "name": "ipython",
    "version": 3
   },
   "file_extension": ".py",
   "mimetype": "text/x-python",
   "name": "python",
   "nbconvert_exporter": "python",
   "pygments_lexer": "ipython3",
   "version": "3.7.11"
  },
  "orig_nbformat": 4
 },
 "nbformat": 4,
 "nbformat_minor": 2
}
