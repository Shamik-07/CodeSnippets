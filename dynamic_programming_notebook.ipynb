{
 "cells": [
  {
   "cell_type": "markdown",
   "metadata": {},
   "source": [
    "Dynamic Programming & Programming"
   ]
  },
  {
   "cell_type": "markdown",
   "metadata": {},
   "source": [
    "**Grid Traveller**\n",
    "**O(n+m)**"
   ]
  },
  {
   "cell_type": "code",
   "execution_count": 46,
   "metadata": {},
   "outputs": [],
   "source": [
    "def grid_traveller(m,n, dict_={}):\n",
    "    key = (m,n)\n",
    "    if key in dict_:\n",
    "        return dict_[key]\n",
    "    if (m == 0 or n == 0) :\n",
    "        return 0\n",
    "    if (m == 1 and n == 1) :\n",
    "        return 1\n",
    "    dict_[key] = grid_traveller(m-1,n,dict_) + grid_traveller(m,n-1, dict_)\n",
    "    return dict_[key]"
   ]
  },
  {
   "cell_type": "code",
   "execution_count": 50,
   "metadata": {},
   "outputs": [
    {
     "data": {
      "text/plain": [
       "(3, 1, 3, 2333606220)"
      ]
     },
     "execution_count": 50,
     "metadata": {},
     "output_type": "execute_result"
    }
   ],
   "source": [
    "grid_traveller(2,3), grid_traveller(1,1), grid_traveller(3,2), grid_traveller(18,18)"
   ]
  },
  {
   "cell_type": "markdown",
   "metadata": {},
   "source": [
    "**Fibonacci**\n",
    "**O(n)**"
   ]
  },
  {
   "cell_type": "code",
   "execution_count": 25,
   "metadata": {},
   "outputs": [],
   "source": [
    "def fib(n, dict_ = {}):\n",
    "    if n<=2:\n",
    "        return 1\n",
    "    if n in dict_:\n",
    "        return dict_[n]\n",
    "    dict_[n] = fib(n-1, dict_) + fib(n-2, dict_)\n",
    "    return dict_[n]"
   ]
  },
  {
   "cell_type": "code",
   "execution_count": 29,
   "metadata": {},
   "outputs": [
    {
     "name": "stdout",
     "output_type": "stream",
     "text": [
      "268 ns ± 2.06 ns per loop (mean ± std. dev. of 7 runs, 1000000 loops each)\n"
     ]
    }
   ],
   "source": [
    "%%timeit\n",
    "fib(150)"
   ]
  },
  {
   "cell_type": "code",
   "execution_count": 26,
   "metadata": {},
   "outputs": [],
   "source": [
    "def fib_ls(n):\n",
    "    fib_arr = [0,1]\n",
    "\n",
    "    for i in range(2, n+1):\n",
    "        fib_arr.append(fib_arr[i-1]+fib_arr[i-2])\n",
    "    return fib_arr[n]"
   ]
  },
  {
   "cell_type": "code",
   "execution_count": 28,
   "metadata": {},
   "outputs": [
    {
     "name": "stdout",
     "output_type": "stream",
     "text": [
      "40.7 µs ± 1.06 µs per loop (mean ± std. dev. of 7 runs, 10000 loops each)\n"
     ]
    }
   ],
   "source": [
    "%%timeit\n",
    "fib_ls(150)"
   ]
  },
  {
   "cell_type": "markdown",
   "metadata": {},
   "source": [
    "**Generating n-grams**"
   ]
  },
  {
   "cell_type": "code",
   "execution_count": 89,
   "metadata": {},
   "outputs": [
    {
     "data": {
      "text/plain": [
       "[('The', 'quick', 'brown', 'fox'),\n",
       " ('quick', 'brown', 'fox', 'jumped'),\n",
       " ('brown', 'fox', 'jumped', 'over'),\n",
       " ('fox', 'jumped', 'over', 'the'),\n",
       " ('jumped', 'over', 'the', 'lazy'),\n",
       " ('over', 'the', 'lazy', 'dog.')]"
      ]
     },
     "execution_count": 89,
     "metadata": {},
     "output_type": "execute_result"
    }
   ],
   "source": [
    "s = \"The quick brown fox jumped over the lazy dog.\".split()\n",
    "n = 4\n",
    "n_grams = list(zip(*[s[i:] for i in range(n)]))\n",
    "n_grams"
   ]
  },
  {
   "cell_type": "markdown",
   "metadata": {},
   "source": [
    "**Group Anagrams**\n",
    "\n",
    "**`O(m*n)`**, where **`m`** = number of strings and **`n`** = number of characters in a string\n",
    "\n",
    "Given an array of strings strs, group the anagrams together. You can return the answer in any order.\n",
    "\n",
    "An Anagram is a word or phrase formed by rearranging the letters of a different word or phrase, typically using all the original letters exactly once.\n",
    "\n",
    "**Solved using hashmap**"
   ]
  },
  {
   "cell_type": "markdown",
   "metadata": {},
   "source": [
    "Example 1:\n",
    "\n",
    "Input: strs = [\"eat\",\"tea\",\"tan\",\"ate\",\"nat\",\"bat\"]\n",
    "Output: [[\"bat\"],[\"nat\",\"tan\"],[\"ate\",\"eat\",\"tea\"]]\n",
    "Example 2:\n",
    "\n",
    "Input: strs = [\"\"]\n",
    "Output: [[\"\"]]\n",
    "Example 3:\n",
    "\n",
    "Input: strs = [\"a\"]\n",
    "Output: [[\"a\"]]\n"
   ]
  },
  {
   "cell_type": "code",
   "execution_count": 21,
   "metadata": {},
   "outputs": [],
   "source": [
    "from typing import List\n",
    "# from collections import defaultdict\n",
    "\n",
    "def groupAnagrams(strs: List[str]) -> List[List[str]]:\n",
    "        \n",
    "        # results = defaultdict(list)\n",
    "        results = {}\n",
    "        \n",
    "        for each_str in strs:\n",
    "            count = [0] * 26\n",
    "            \n",
    "            for each_char in each_str:\n",
    "                count[ord(each_char) - ord('a')] +=1\n",
    "                \n",
    "            results.setdefault(tuple(count), []).append(each_str)\n",
    "            # results[tuple(count)].append(each_str)\n",
    "            \n",
    "        return results.values()"
   ]
  },
  {
   "cell_type": "code",
   "execution_count": 22,
   "metadata": {},
   "outputs": [
    {
     "data": {
      "text/plain": [
       "dict_values([['eat', 'tea', 'ate'], ['tan', 'nat'], ['bat']])"
      ]
     },
     "execution_count": 22,
     "metadata": {},
     "output_type": "execute_result"
    }
   ],
   "source": [
    "strs = [\"eat\",\"tea\",\"tan\",\"ate\",\"nat\",\"bat\"]\n",
    "groupAnagrams(strs=strs)"
   ]
  },
  {
   "cell_type": "markdown",
   "metadata": {},
   "source": [
    "**Can Sum**\n",
    "**O(m*n)**"
   ]
  },
  {
   "cell_type": "code",
   "execution_count": 13,
   "metadata": {},
   "outputs": [],
   "source": [
    "def can_sum(target_sum,ls: list, memo:dict):\n",
    "    if target_sum in memo:\n",
    "        return memo[target_sum]\n",
    "    if target_sum==0:\n",
    "        return True\n",
    "    if target_sum < 0:\n",
    "        return False\n",
    "    \n",
    "    for i in ls:\n",
    "        remainder = target_sum - i\n",
    "        if can_sum(remainder, ls, memo):\n",
    "            memo[target_sum] = True\n",
    "            return True\n",
    "    \n",
    "    memo[target_sum]=False\n",
    "    return False"
   ]
  },
  {
   "cell_type": "code",
   "execution_count": 14,
   "metadata": {},
   "outputs": [
    {
     "data": {
      "text/plain": [
       "(True, True, False, True, False, True)"
      ]
     },
     "execution_count": 14,
     "metadata": {},
     "output_type": "execute_result"
    }
   ],
   "source": [
    "can_sum(7, [5,4,3,7], {}), can_sum(7, [2,3], {}), can_sum(7, [2,4], {}), can_sum(8, [2,3,5], {}), can_sum(300, [7,14], {}), can_sum(0,[1,2,3], {})"
   ]
  },
  {
   "cell_type": "markdown",
   "metadata": {},
   "source": [
    "**Two Sum**\n",
    "**O(n)**\n",
    "\n",
    "Given an array of integers nums and an integer target, return indices of the two numbers such that they add up to target.\n",
    "\n",
    "You may assume that each input would have exactly one solution, and you may not use the same element twice.\n",
    "\n",
    "You can return the answer in any order.\n",
    "\n",
    "**Solved using hashmap**"
   ]
  },
  {
   "cell_type": "markdown",
   "metadata": {},
   "source": [
    "Example 1:\n",
    "\n",
    "Input: nums = [2,7,11,15], target = 9\n",
    "Output: [0,1]\n",
    "Explanation: Because nums[0] + nums[1] == 9, we return [0, 1].\n",
    "Example 2:\n",
    "\n",
    "Input: nums = [3,2,4], target = 6\n",
    "Output: [1,2]\n",
    "Example 3:\n",
    "\n",
    "Input: nums = [3,3], target = 6\n",
    "Output: [0,1]\n"
   ]
  },
  {
   "cell_type": "code",
   "execution_count": 3,
   "metadata": {},
   "outputs": [],
   "source": [
    "from typing import List\n",
    "\n",
    "def twoSum(nums: List[int], target: int) -> List[int]:\n",
    "        memo = {}\n",
    "        \n",
    "        for idx, num in enumerate(nums):\n",
    "            diff = target - num\n",
    "            if diff in memo:\n",
    "                return [memo[diff], idx]\n",
    "            memo[num] = idx"
   ]
  },
  {
   "cell_type": "code",
   "execution_count": 18,
   "metadata": {},
   "outputs": [
    {
     "data": {
      "text/plain": [
       "[0, 1]"
      ]
     },
     "execution_count": 18,
     "metadata": {},
     "output_type": "execute_result"
    }
   ],
   "source": [
    "nums = [2,7,11,15]\n",
    "target = 9\n",
    "twoSum(nums,target)"
   ]
  },
  {
   "cell_type": "markdown",
   "metadata": {},
   "source": [
    "**Valid Anagram**\n",
    "**O(nlogn)**\n",
    "\n",
    "Given two strings s and t, return true if t is an anagram of s, and false otherwise.\n",
    "\n",
    "An Anagram is a word or phrase formed by rearranging the letters of a different word or phrase, typically using all the original letters exactly once.\n",
    "\n",
    "**Solved using sorted list/just sorting the strings alphabetically**\n"
   ]
  },
  {
   "cell_type": "markdown",
   "metadata": {},
   "source": [
    "Example 1:\n",
    "\n",
    "Input: s = \"anagram\", t = \"nagaram\"\n",
    "Output: true\n",
    "Example 2:\n",
    "\n",
    "Input: s = \"rat\", t = \"car\"\n",
    "Output: false"
   ]
  },
  {
   "cell_type": "code",
   "execution_count": 8,
   "metadata": {},
   "outputs": [],
   "source": [
    "def isAnagram(s: str, t: str) -> bool:\n",
    "        return sorted(s) == sorted(t)\n",
    "        s = list(s)\n",
    "        s.sort()\n",
    "        t = list(t)\n",
    "        t.sort()\n",
    "        if s == t:\n",
    "            return True\n",
    "        return False"
   ]
  },
  {
   "cell_type": "code",
   "execution_count": 9,
   "metadata": {},
   "outputs": [
    {
     "data": {
      "text/plain": [
       "True"
      ]
     },
     "execution_count": 9,
     "metadata": {},
     "output_type": "execute_result"
    }
   ],
   "source": [
    "s = \"anagram\"\n",
    "t = \"nagaram\"\n",
    "isAnagram(s,t)"
   ]
  },
  {
   "cell_type": "markdown",
   "metadata": {},
   "source": [
    "**Pivot Index**\n",
    "\n",
    "Given an array of integers nums, calculate the pivot index of this array.\n",
    "\n",
    "The pivot index is the index where the sum of all the numbers strictly to the left of the index is equal to the sum of all the numbers strictly to the index's right.\n",
    "\n",
    "If the index is on the left edge of the array, then the left sum is 0 because there are no elements to the left. This also applies to the right edge of the array.\n",
    "\n",
    "Return the leftmost pivot index. If no such index exists, return -1."
   ]
  },
  {
   "cell_type": "code",
   "execution_count": 23,
   "metadata": {},
   "outputs": [],
   "source": [
    "from typing import List\n",
    "\n",
    "def pivotIndex(nums: List[int]) -> int:\n",
    "        tot_sum = sum(nums)\n",
    "        for idx,_ in enumerate(nums):\n",
    "            if not idx:\n",
    "                l_sum = 0\n",
    "                r_sum = tot_sum - nums[idx]\n",
    "                if l_sum == r_sum:\n",
    "                    return idx\n",
    "            elif idx:\n",
    "                l_sum = sum(nums[:idx])\n",
    "                r_sum = tot_sum -nums[idx]- l_sum\n",
    "                if l_sum == r_sum:\n",
    "                    return idx\n",
    "        return -1"
   ]
  },
  {
   "cell_type": "code",
   "execution_count": 24,
   "metadata": {},
   "outputs": [
    {
     "data": {
      "text/plain": [
       "3"
      ]
     },
     "execution_count": 24,
     "metadata": {},
     "output_type": "execute_result"
    }
   ],
   "source": [
    "nums = [1,7,3,6,5,6]\n",
    "pivotIndex(nums)"
   ]
  },
  {
   "cell_type": "markdown",
   "metadata": {},
   "source": [
    "**Top K Frequent Elements**\n",
    "**O(n)**\n",
    "\n",
    "Given an integer array nums and an integer k, return the k most frequent elements. You may return the answer in any order.\n"
   ]
  },
  {
   "cell_type": "markdown",
   "metadata": {},
   "source": [
    "Example 1:\n",
    "\n",
    "Input: nums = [1,1,1,2,2,3], k = 2\n",
    "Output: [1,2]\n",
    "Example 2:\n",
    "\n",
    "Input: nums = [1], k = 1\n",
    "Output: [1]"
   ]
  },
  {
   "cell_type": "code",
   "execution_count": 28,
   "metadata": {},
   "outputs": [],
   "source": [
    "from typing import List\n",
    "\n",
    "def topKFrequent(nums: List[int], k: int) -> List[int]:\n",
    "        \n",
    "        memo = {}\n",
    "        val_list = [[] for i in range(len(nums) + 1)]\n",
    "        \n",
    "        for num in nums:\n",
    "            memo[num] = 1 + memo.get(num, 0)\n",
    "            \n",
    "        for key, val in memo.items():\n",
    "            val_list[val].append(key)\n",
    "        \n",
    "        results = []\n",
    "        for i in range(len(val_list)-1, 0, -1):\n",
    "            for num in val_list[i]:\n",
    "                results.append(num)\n",
    "                if len(results) == k:\n",
    "                    return results\n",
    "        "
   ]
  },
  {
   "cell_type": "code",
   "execution_count": 21,
   "metadata": {},
   "outputs": [
    {
     "data": {
      "text/plain": [
       "[1]"
      ]
     },
     "execution_count": 21,
     "metadata": {},
     "output_type": "execute_result"
    }
   ],
   "source": [
    "nums = [1,1,1,2,2,3]\n",
    "k = 2\n",
    "topKFrequent(nums, k)"
   ]
  },
  {
   "cell_type": "markdown",
   "metadata": {},
   "source": [
    "**Two Sum II - Input Array Is Sorted**\n",
    "**O(n)**\n",
    "\n",
    "Given a 1-indexed array of integers numbers that is already sorted in non-decreasing order, find two numbers such that they add up to a specific target number. Let these two numbers be numbers[index1] and numbers[index2] where 1 <= index1 < index2 <= numbers.length.\n",
    "\n",
    "Return the indices of the two numbers, index1 and index2, added by one as an integer array [index1, index2] of length 2.\n",
    "\n",
    "Your solution must use only constant extra space.\n",
    "\n",
    "**Solved with two pointers**"
   ]
  },
  {
   "cell_type": "markdown",
   "metadata": {},
   "source": [
    "Example 1:\n",
    "\n",
    "Input: numbers = [2,7,11,15], target = 9\n",
    "Output: [1,2]\n",
    "Explanation: The sum of 2 and 7 is 9. Therefore, index1 = 1, index2 = 2. We return [1, 2].\n",
    "Example 2:\n",
    "\n",
    "Input: numbers = [2,3,4], target = 6\n",
    "Output: [1,3]\n",
    "Explanation: The sum of 2 and 4 is 6. Therefore index1 = 1, index2 = 3. We return [1, 3].\n",
    "Example 3:\n",
    "\n",
    "Input: numbers = [-1,0], target = -1\n",
    "Output: [1,2]\n",
    "Explanation: The sum of -1 and 0 is -1. Therefore index1 = 1, index2 = 2. We return [1, 2]."
   ]
  },
  {
   "cell_type": "code",
   "execution_count": 127,
   "metadata": {},
   "outputs": [],
   "source": [
    "from typing import List\n",
    "\n",
    "def twoSum(numbers: List[int], target: int) -> List[int]:\n",
    "        l_idx , r_idx = 0, len(numbers) - 1\n",
    "        while l_idx < r_idx:\n",
    "            cur_sum = numbers[l_idx] + numbers[r_idx]\n",
    "            if cur_sum > target:\n",
    "                r_idx -= 1\n",
    "            elif cur_sum < target:\n",
    "                l_idx += 1\n",
    "            else:\n",
    "                return [l_idx+1, r_idx+1]"
   ]
  },
  {
   "cell_type": "code",
   "execution_count": 128,
   "metadata": {},
   "outputs": [
    {
     "data": {
      "text/plain": [
       "[1, 2]"
      ]
     },
     "execution_count": 128,
     "metadata": {},
     "output_type": "execute_result"
    }
   ],
   "source": [
    "numbers = [2,7,11,15]\n",
    "target = 9\n",
    "twoSum(numbers, target)"
   ]
  },
  {
   "cell_type": "markdown",
   "metadata": {},
   "source": [
    "**ThreeSum**\n",
    "**O(n^2)**\n",
    "\n",
    "Given an integer array nums, return all the triplets [nums[i], nums[j], nums[k]] such that i != j, i != k, and j != k, and nums[i] + nums[j] + nums[k] == 0.\n",
    "\n",
    "Notice that the solution set must not contain duplicate triplets.\n",
    "\n",
    "**Solved with three pointers**"
   ]
  },
  {
   "cell_type": "markdown",
   "metadata": {},
   "source": [
    "Example 1:\n",
    "\n",
    "Input: nums = [-1,0,1,2,-1,-4]\n",
    "Output: [[-1,-1,2],[-1,0,1]]\n",
    "Example 2:\n",
    "\n",
    "Input: nums = []\n",
    "Output: []\n",
    "Example 3:\n",
    "\n",
    "Input: nums = [0]\n",
    "Output: []"
   ]
  },
  {
   "cell_type": "code",
   "execution_count": 6,
   "metadata": {},
   "outputs": [],
   "source": [
    "from typing import List\n",
    "\n",
    "def threeSum(nums: List[int]) -> List[List[int]]:\n",
    "        nums.sort()\n",
    "        results = []\n",
    "        \n",
    "        for i,j in enumerate(nums):\n",
    "            if i > 0 and j==nums[i-1]:\n",
    "                continue # we want to skip duplicates \n",
    "                # in the first position as it will avoid duplicate triplets\n",
    "            \n",
    "            l_idx, r_idx = i+1, len(nums) -1\n",
    "            while l_idx < r_idx:\n",
    "                three_sum = j + nums[l_idx] + nums[r_idx] # inside the two pointer loop as the first pointer is fixed\n",
    "                \n",
    "                if three_sum > 0:\n",
    "                    r_idx -= 1\n",
    "                elif three_sum < 0:\n",
    "                    l_idx += 1\n",
    "                else:\n",
    "                    results.append([j, nums[l_idx], nums[r_idx]])\n",
    "                    # only one pointer needs to be shifted since \n",
    "                    # the above loop takes care when the three_sum is either < or > 0\n",
    "                    l_idx +=1\n",
    "                    while nums[l_idx] == nums[l_idx-1] and l_idx < r_idx:\n",
    "                        l_idx +=1\n",
    "        return results\n",
    "                    "
   ]
  },
  {
   "cell_type": "code",
   "execution_count": 136,
   "metadata": {},
   "outputs": [
    {
     "data": {
      "text/plain": [
       "[[-1, -1, 2], [-1, 0, 1]]"
      ]
     },
     "execution_count": 136,
     "metadata": {},
     "output_type": "execute_result"
    }
   ],
   "source": [
    "nums = [-1,0,1,2,-1,-4]\n",
    "threeSum(nums)"
   ]
  },
  {
   "cell_type": "markdown",
   "metadata": {},
   "source": [
    "**Binary Search for a sorted list**\n",
    "\n",
    "Find the if the number exists in a list"
   ]
  },
  {
   "cell_type": "code",
   "execution_count": 164,
   "metadata": {},
   "outputs": [],
   "source": [
    "def binary_search(arr, low, high, number):\n",
    "    mid = (high+low)//2\n",
    "    if high >= low:\n",
    "        if arr[mid] < number:\n",
    "            return binary_search(arr,mid+1,high, number)\n",
    "        elif arr[mid] > number:\n",
    "            return binary_search(arr, low, mid-1, number)\n",
    "        else:\n",
    "            return mid\n",
    "    else:\n",
    "        return -1"
   ]
  },
  {
   "cell_type": "code",
   "execution_count": 8,
   "metadata": {},
   "outputs": [],
   "source": [
    "def binary_search(arr, low, high, number):\n",
    "    if high >= low:\n",
    "        mid = (high + low) // 2\n",
    "        if arr[mid] == number:\n",
    "           return mid\n",
    "        elif arr[mid] > number:\n",
    "           return binary_search(arr, low, mid-1, number)\n",
    "        else:\n",
    "           return binary_search(arr, mid+1, high, number)\n",
    "    else:\n",
    "        return -1"
   ]
  },
  {
   "cell_type": "code",
   "execution_count": 165,
   "metadata": {},
   "outputs": [
    {
     "data": {
      "text/plain": [
       "4"
      ]
     },
     "execution_count": 165,
     "metadata": {},
     "output_type": "execute_result"
    }
   ],
   "source": [
    "arr = [5, 12, 17, 19, 22, 30, 78, 900]\n",
    "number = 22\n",
    "binary_search(arr, 0, len(arr)-1, number)"
   ]
  },
  {
   "cell_type": "markdown",
   "metadata": {},
   "source": [
    "**Valid Parentheses**\n",
    "**O(n)**\n",
    "\n",
    "Given a string s containing just the characters '(', ')', '{', '}', '[' and ']', determine if the input string is valid.\n",
    "\n",
    "An input string is valid if:\n",
    "\n",
    "Open brackets must be closed by the same type of brackets.\n",
    "Open brackets must be closed in the correct order.\n",
    "\n",
    "**Solved using a stack**"
   ]
  },
  {
   "cell_type": "markdown",
   "metadata": {},
   "source": [
    "Example 1:\n",
    "\n",
    "Input: s = \"()\"\n",
    "Output: true\n",
    "Example 2:\n",
    "\n",
    "Input: s = \"()[]{}\"\n",
    "Output: true\n",
    "Example 3:\n",
    "\n",
    "Input: s = \"(]\"\n",
    "Output: false"
   ]
  },
  {
   "cell_type": "code",
   "execution_count": 224,
   "metadata": {},
   "outputs": [],
   "source": [
    "def isValid(s: str) -> bool:\n",
    "    stack = []\n",
    "    par_mapping = {\n",
    "        ')':'(',\n",
    "        ']':'[',\n",
    "        '}':'{'\n",
    "    }\n",
    "    \n",
    "    for char in s:\n",
    "        if char in par_mapping:\n",
    "            if stack and stack[-1] == par_mapping[char]: # if stack not empty and the last element\n",
    "                # of the stack is == to the char in question; as the last element of a stack\n",
    "                # is the first one added\n",
    "                stack.pop()\n",
    "            else:\n",
    "                return False\n",
    "            \n",
    "        else:\n",
    "            stack.append(char)\n",
    "            \n",
    "    return True if not stack else False"
   ]
  },
  {
   "cell_type": "code",
   "execution_count": 228,
   "metadata": {},
   "outputs": [
    {
     "data": {
      "text/plain": [
       "False"
      ]
     },
     "execution_count": 228,
     "metadata": {},
     "output_type": "execute_result"
    }
   ],
   "source": [
    "s='())('\n",
    "isValid(s)"
   ]
  },
  {
   "cell_type": "markdown",
   "metadata": {},
   "source": [
    "**Plus One** \n",
    "**O(n)**\n",
    "\n",
    "You are given a large integer represented as an integer array digits, where each digits[i] is the ith digit of the integer. The digits are ordered from most significant to least significant in left-to-right order. The large integer does not contain any leading 0's.\n",
    "\n",
    "Increment the large integer by one and return the resulting array of digits."
   ]
  },
  {
   "cell_type": "markdown",
   "metadata": {},
   "source": [
    "Example 1:\n",
    "\n",
    "Input: digits = [1,2,3]\n",
    "Output: [1,2,4]\n",
    "Explanation: The array represents the integer 123.\n",
    "Incrementing by one gives 123 + 1 = 124.\n",
    "Thus, the result should be [1,2,4].\n",
    "Example 2:\n",
    "\n",
    "Input: digits = [4,3,2,1]\n",
    "Output: [4,3,2,2]\n",
    "Explanation: The array represents the integer 4321.\n",
    "Incrementing by one gives 4321 + 1 = 4322.\n",
    "Thus, the result should be [4,3,2,2].\n",
    "Example 3:\n",
    "\n",
    "Input: digits = [9]\n",
    "Output: [1,0]\n",
    "Explanation: The array represents the integer 9.\n",
    "Incrementing by one gives 9 + 1 = 10.\n",
    "Thus, the result should be [1,0]."
   ]
  },
  {
   "cell_type": "code",
   "execution_count": 76,
   "metadata": {},
   "outputs": [],
   "source": [
    "from typing import List\n",
    "\n",
    "def plusOne(digits: List[int]) -> List[int]:\n",
    "        dig_len = len(digits) -1\n",
    "        while digits[dig_len]==9:\n",
    "            digits[dig_len] = 0\n",
    "            dig_len-=1\n",
    "        if dig_len < 0:\n",
    "            digits = [1] + digits\n",
    "        else:\n",
    "            digits[dig_len] = digits[dig_len] + 1\n",
    "        return digits"
   ]
  },
  {
   "cell_type": "code",
   "execution_count": 77,
   "metadata": {},
   "outputs": [
    {
     "data": {
      "text/plain": [
       "[1, 0]"
      ]
     },
     "execution_count": 77,
     "metadata": {},
     "output_type": "execute_result"
    }
   ],
   "source": [
    "digits = [9]\n",
    "plusOne(digits)"
   ]
  },
  {
   "cell_type": "markdown",
   "metadata": {},
   "source": [
    "**Min Stack**\n",
    "\n",
    "Design a stack that supports push, pop, top, and retrieving the minimum element in constant time.\n",
    "\n",
    "Implement the MinStack class:\n",
    "\n",
    "* MinStack() initializes the stack object.\n",
    "* void push(int val) pushes the element val onto the stack.\n",
    "* void pop() removes the element on the top of the stack.\n",
    "* int top() gets the top element of the stack.\n",
    "* int getMin() retrieves the minimum element in the stack."
   ]
  },
  {
   "cell_type": "markdown",
   "metadata": {},
   "source": [
    "Example 1:\n",
    "\n",
    "Input\n",
    "[\"MinStack\",\"push\",\"push\",\"push\",\"getMin\",\"pop\",\"top\",\"getMin\"]\n",
    "\n",
    "[[],[-2],[0],[-3],[],[],[],[]]\n",
    "\n",
    "Output\n",
    "[null,null,null,null,-3,null,0,-2]\n",
    "\n",
    "Explanation\n",
    "* MinStack minStack = new MinStack();\n",
    "* minStack.push(-2);\n",
    "* minStack.push(0);\n",
    "* minStack.push(-3);\n",
    "* minStack.getMin(); // return -3\n",
    "* minStack.pop();\n",
    "* minStack.top();    // return 0\n",
    "* minStack.getMin(); // return -2\n",
    " "
   ]
  },
  {
   "cell_type": "markdown",
   "metadata": {},
   "source": [
    "**Solution**\n",
    "\n",
    "To be able to find out the min of the stack at **O(1)**, one has to calculate the min every time there's an element added. This is best done if there is a separate minimum list, where the minimum is calculated every time that an element is added to the original stack and if an element is removed from the same stack then it must be remmoved from the minimum list too. "
   ]
  },
  {
   "cell_type": "code",
   "execution_count": null,
   "metadata": {},
   "outputs": [],
   "source": [
    "class MinStack:\n",
    "\n",
    "    def __init__(self):\n",
    "        self.minstack = []\n",
    "        self.stack = []\n",
    "\n",
    "    def push(self, val: int) -> None:\n",
    "        self.stack.append(val)\n",
    "        min_val = min(val,self.minstack[-1] if self.minstack else val)\n",
    "        self.minstack.append(min_val)\n",
    "        \n",
    "\n",
    "    def pop(self) -> None:\n",
    "        self.minstack.pop()\n",
    "        self.stack.pop()\n",
    "\n",
    "    def top(self) -> int:\n",
    "        return self.stack[-1]\n",
    "\n",
    "    def getMin(self) -> int:\n",
    "        return self.minstack[-1]\n",
    "\n",
    "\n",
    "# Your MinStack object will be instantiated and called as such:\n",
    "# obj = MinStack()\n",
    "# obj.push(val)\n",
    "# obj.pop()\n",
    "# param_3 = obj.top()\n",
    "# param_4 = obj.getMin()"
   ]
  },
  {
   "cell_type": "markdown",
   "metadata": {},
   "source": [
    "**Contains Duplicate**\n",
    "**O(n)**\n",
    "\n",
    "Given an integer array nums, return true if any value appears at least twice in the array, and return false if every element is distinct."
   ]
  },
  {
   "cell_type": "markdown",
   "metadata": {},
   "source": [
    "Example 1:\n",
    "\n",
    "Input: nums = [1,2,3,1]\n",
    "Output: true\n",
    "Example 2:\n",
    "\n",
    "Input: nums = [1,2,3,4]\n",
    "Output: false\n",
    "Example 3:\n",
    "\n",
    "Input: nums = [1,1,1,3,3,4,3,2,4,2]\n",
    "Output: true"
   ]
  },
  {
   "cell_type": "code",
   "execution_count": 194,
   "metadata": {},
   "outputs": [],
   "source": [
    "from typing import List\n",
    "\n",
    "def containsDuplicate(nums: List[int]) -> bool:\n",
    "    # O(nlogn)\n",
    "\n",
    "    # counts = {}\n",
    "    \n",
    "    # for i in nums:\n",
    "    #     counts[i] = 1 + counts.get(i,0)\n",
    "    # vals = list(counts.values())\n",
    "    # vals.sort(reverse=True)\n",
    "    # if vals[0] > 1:\n",
    "    #     return True\n",
    "    # else:\n",
    "    #     return False\n",
    "    temp = {}\n",
    "    for i,num in enumerate(nums):\n",
    "        if num in temp:\n",
    "            return True\n",
    "        temp[num] = i\n",
    "    return False"
   ]
  },
  {
   "cell_type": "code",
   "execution_count": 195,
   "metadata": {},
   "outputs": [
    {
     "data": {
      "text/plain": [
       "True"
      ]
     },
     "execution_count": 195,
     "metadata": {},
     "output_type": "execute_result"
    }
   ],
   "source": [
    "nums = [1,2,3,1]\n",
    "containsDuplicate(nums)"
   ]
  },
  {
   "cell_type": "markdown",
   "metadata": {},
   "source": [
    "**Contains Duplicate II**\n",
    "**O(n)**\n",
    "\n",
    "Given an integer array nums and an integer k, return true if there are two distinct indices i and j in the array such that nums[i] == nums[j] and abs(i - j) <= k."
   ]
  },
  {
   "cell_type": "markdown",
   "metadata": {},
   "source": [
    "Example 1:\n",
    "\n",
    "Input: nums = [1,2,3,1], k = 3\n",
    "Output: true\n",
    "Example 2:\n",
    "\n",
    "Input: nums = [1,0,1,1], k = 1\n",
    "Output: true\n",
    "Example 3:\n",
    "\n",
    "Input: nums = [1,2,3,1,2,3], k = 2\n",
    "Output: false"
   ]
  },
  {
   "cell_type": "code",
   "execution_count": 82,
   "metadata": {},
   "outputs": [],
   "source": [
    "from typing import List\n",
    "\n",
    "def containsNearbyDuplicate(nums: List[int], k: int) -> bool:\n",
    "    \n",
    "    \n",
    "    memo = {}\n",
    "    for i,j in enumerate(nums):\n",
    "        if j in memo and abs(memo[j] - i)<=k:\n",
    "            return True\n",
    "        memo[j] = i\n",
    "    return False"
   ]
  },
  {
   "cell_type": "code",
   "execution_count": 83,
   "metadata": {},
   "outputs": [
    {
     "data": {
      "text/plain": [
       "True"
      ]
     },
     "execution_count": 83,
     "metadata": {},
     "output_type": "execute_result"
    }
   ],
   "source": [
    "nums = [1,2,3,1]\n",
    "k = 3\n",
    "containsNearbyDuplicate(nums,k)"
   ]
  },
  {
   "cell_type": "markdown",
   "metadata": {},
   "source": [
    "**Longest Consecutive Sequence**\n",
    "**O(n)**\n",
    "\n",
    "Given an unsorted array of integers nums, return the length of the longest consecutive elements sequence.\n",
    "\n",
    "You must write an algorithm that runs in O(n) time.\n",
    "\n",
    "**Solved by set.**"
   ]
  },
  {
   "cell_type": "markdown",
   "metadata": {},
   "source": [
    "Example 1:\n",
    "\n",
    "Input: nums = [100,4,200,1,3,2]\n",
    "Output: 4\n",
    "Explanation: The longest consecutive elements sequence is [1, 2, 3, 4]. Therefore its length is 4.\n",
    "Example 2:\n",
    "\n",
    "Input: nums = [0,3,7,2,5,8,4,6,0,1]\n",
    "Output: 9"
   ]
  },
  {
   "cell_type": "code",
   "execution_count": 84,
   "metadata": {},
   "outputs": [],
   "source": [
    "# nlog(n) solution\n",
    "from typing import List\n",
    "\n",
    "def longestConsecutive(nums: List[int]) -> int:\n",
    "    if not nums:\n",
    "        return 0\n",
    "    nums.sort()\n",
    "    consec = 1\n",
    "    count = 1\n",
    "    for i,j in enumerate(nums):\n",
    "        if i==0:\n",
    "            continue\n",
    "        if i>0 and nums[i]==nums[i-1]:\n",
    "            continue\n",
    "        if j == nums[i-1]+1:\n",
    "            consec +=1\n",
    "        else:\n",
    "            if count < consec:\n",
    "                count = consec\n",
    "                consec = 1\n",
    "            else:\n",
    "                consec = 1\n",
    "    return count if count>consec else consec\n",
    "#                 [0,0,1,2,3,4,5]\n",
    "#                 [0, 2,3,4, 10,13,14,]\n",
    "#                 [1,2,7,8,10,11,12,13]"
   ]
  },
  {
   "cell_type": "code",
   "execution_count": 3,
   "metadata": {},
   "outputs": [],
   "source": [
    "# O(n) solution\n",
    "from typing import List\n",
    "\n",
    "def longestConsecutive(nums: List[int]) -> int:\n",
    "    nums_set = set(nums)\n",
    "    longest = 0\n",
    "    for n in nums:\n",
    "        if n-1 not in nums_set:\n",
    "            # the idea is to find for each number if there is a number to it's left, which \n",
    "            # means that if there is one that means that this number isn't the beginning of the \n",
    "            # sequence of numbers but rather somewhere in the sequence\n",
    "            # e.g. [1,2,3,4,100,200], for 1 there is no number (n-1) preceeding it therefore\n",
    "            # it's a beginning of a valid sequence, however, for 2 there is as it's 1\n",
    "            # once a valid sequence is found increase the counter as long as you find the \n",
    "            # numbers in the list\n",
    "            length = 0\n",
    "            while length+n in nums_set:\n",
    "                length +=1\n",
    "            longest = max(length, longest)\n",
    "    return longest\n",
    "#                 [0,0,1,2,3,4,5]\n",
    "#                 [0, 2,3,4, 10,13,14,]\n",
    "#                 [1,2,7,8,10,11,12,13]"
   ]
  },
  {
   "cell_type": "code",
   "execution_count": 4,
   "metadata": {},
   "outputs": [
    {
     "data": {
      "text/plain": [
       "9"
      ]
     },
     "execution_count": 4,
     "metadata": {},
     "output_type": "execute_result"
    }
   ],
   "source": [
    "nums = [0,3,7,2,5,8,4,6,0,1]\n",
    "longestConsecutive(nums)"
   ]
  },
  {
   "cell_type": "markdown",
   "metadata": {},
   "source": [
    "**Best Time to Buy and Sell Stock**\n",
    "**O(n)**\n",
    "\n",
    "You are given an array prices where prices[i] is the price of a given stock on the ith day.\n",
    "\n",
    "You want to maximize your profit by choosing a single day to buy one stock and choosing a different day in the future to sell that stock.\n",
    "\n",
    "Return the maximum profit you can achieve from this transaction. If you cannot achieve any profit, return 0.\n",
    "\n",
    "**Solved by creating a window with two pointers.**"
   ]
  },
  {
   "cell_type": "markdown",
   "metadata": {},
   "source": [
    "Example 1:\n",
    "\n",
    "Input: prices = [7,1,5,3,6,4]\n",
    "Output: 5\n",
    "Explanation: Buy on day 2 (price = 1) and sell on day 5 (price = 6), profit = 6-1 = 5.\n",
    "Note that buying on day 2 and selling on day 1 is not allowed because you must buy before you sell.\n",
    "Example 2:\n",
    "\n",
    "Input: prices = [7,6,4,3,1]\n",
    "Output: 0\n",
    "Explanation: In this case, no transactions are done and the max profit = 0."
   ]
  },
  {
   "cell_type": "code",
   "execution_count": 8,
   "metadata": {},
   "outputs": [],
   "source": [
    "from typing import List\n",
    "\n",
    "def maxProfit(prices: List[int]) -> int:\n",
    "    l_idx, r_idx = 0,1\n",
    "    profit = 0\n",
    "    while r_idx < len(prices): # if len(prices)-1 instead of len(prices)then \n",
    "        # r_idx would not go till the last element\n",
    "        if prices[l_idx] < prices[r_idx]:\n",
    "            profit = max(profit, prices[r_idx] - prices[l_idx])\n",
    "        else:\n",
    "            l_idx = r_idx\n",
    "            # this is needed because the pointer has to go to\n",
    "            # the lowest value, pointing to right pointer, which might not be adjacent and therefore\n",
    "            # cannot be incremented by + 1\n",
    "            # e.g. [7, 2, 3, 4, 5, 1, 9] in this case if we do l_idx +=1 we would never reach 1 as the lowest value\n",
    "            # and it would be stuck at 3\n",
    "        r_idx +=1\n",
    "    return profit"
   ]
  },
  {
   "cell_type": "code",
   "execution_count": 10,
   "metadata": {},
   "outputs": [
    {
     "data": {
      "text/plain": [
       "9"
      ]
     },
     "execution_count": 10,
     "metadata": {},
     "output_type": "execute_result"
    }
   ],
   "source": [
    "prices = [1,2,4,2,5,7,2,4,9,0,9]\n",
    "maxProfit(prices)"
   ]
  },
  {
   "cell_type": "code",
   "execution_count": 11,
   "metadata": {},
   "outputs": [],
   "source": [
    "from typing import List\n",
    "\n",
    "def maxProfit(prices: List[int]) -> int:\n",
    "    l_idx, r_idx = 0,1\n",
    "    profit = 0\n",
    "    while r_idx < len(prices): # if len(prices) instead of len(prices)-1 then \n",
    "        # r_idx would not go till the last element\n",
    "        if prices[l_idx] > prices[r_idx]:\n",
    "            # this is needed because the pointer has to go to\n",
    "            # the lowest value, pointing to right pointer, which might not be adjacent and therefore\n",
    "            # cannot be incremented by + 1\n",
    "            # e.g. [7, 2, 3, 4, 5, 1, 9] in this case if we do l_idx +=1 we would never reach 1 as the lowest value\n",
    "            # and it would be stuck at 3\n",
    "            l_idx = r_idx\n",
    "        else:\n",
    "            profit = max(profit, prices[r_idx] - prices[l_idx])\n",
    "        r_idx +=1\n",
    "    return profit"
   ]
  },
  {
   "cell_type": "code",
   "execution_count": 12,
   "metadata": {},
   "outputs": [
    {
     "data": {
      "text/plain": [
       "9"
      ]
     },
     "execution_count": 12,
     "metadata": {},
     "output_type": "execute_result"
    }
   ],
   "source": [
    "prices = [1,2,4,2,5,7,2,4,9,0,9]\n",
    "maxProfit(prices)"
   ]
  },
  {
   "cell_type": "markdown",
   "metadata": {},
   "source": [
    "**Longest Substring Without Repeating Characters**\n",
    "**O(n)**\n",
    "\n",
    "Given a string s, find the length of the longest substring without repeating characters.\n",
    "\n",
    "**Solved by creating a window with two pointers.**"
   ]
  },
  {
   "cell_type": "markdown",
   "metadata": {},
   "source": [
    "Example 1:\n",
    "\n",
    "Input: s = \"abcabcbb\"\n",
    "Output: 3\n",
    "Explanation: The answer is \"abc\", with the length of 3.\n",
    "Example 2:\n",
    "\n",
    "Input: s = \"bbbbb\"\n",
    "Output: 1\n",
    "Explanation: The answer is \"b\", with the length of 1.\n",
    "Example 3:\n",
    "\n",
    "Input: s = \"pwwkew\"\n",
    "Output: 3\n",
    "Explanation: The answer is \"wke\", with the length of 3.\n",
    "Notice that the answer must be a substring, \"pwke\" is a subsequence and not a substring."
   ]
  },
  {
   "cell_type": "markdown",
   "metadata": {},
   "source": [
    "To retrieve the longest consecutive substring, we keep adding each letter of the string to an list as long as we don't encounter a duplicate, once we do encounter a duplicate, we drop all the letters from the start of the substring until the duplicate is removed and update the start of the substring each time we are dropping a letter from the beginning of the substring. Once we have a substring with unique letters, we count the length of the substring.\n",
    "\n",
    "For instance: \"abcabcbb\" we keep adding the first substring \"abc\" and then the next letter is \"a\" which is a duplicate so we drop the first letter of the substring \"a\" and then move ahead. At a point we get \"abcb\", in this case we drop the first two letters\"ab\" and we have the substring \"cb\"."
   ]
  },
  {
   "cell_type": "code",
   "execution_count": 13,
   "metadata": {},
   "outputs": [],
   "source": [
    "def lengthOfLongestSubstring(s: str) -> int:\n",
    "    substr = []\n",
    "    l_idx = 0\n",
    "    length = 0\n",
    "    for r_idx in range(len(s)):\n",
    "        while s[r_idx] in substr:\n",
    "            substr.remove(s[l_idx])\n",
    "            l_idx +=1\n",
    "        substr.append(s[r_idx])\n",
    "        length = max(length, (r_idx - l_idx)+1)\n",
    "    return length"
   ]
  },
  {
   "cell_type": "code",
   "execution_count": 89,
   "metadata": {},
   "outputs": [],
   "source": [
    "def lengthOfLongestSubstring(s: str) -> int:\n",
    "    substr = set()\n",
    "    l_idx = 0\n",
    "    length = 0\n",
    "    for r_idx in range(len(s)):\n",
    "        while s[r_idx] in substr:\n",
    "            substr.remove(s[l_idx])\n",
    "            l_idx +=1\n",
    "        substr.add(s[r_idx])\n",
    "        length = max(length, (r_idx - l_idx)+1)\n",
    "\n",
    "    return length"
   ]
  },
  {
   "cell_type": "code",
   "execution_count": 90,
   "metadata": {},
   "outputs": [
    {
     "data": {
      "text/plain": [
       "(3, 1, 3)"
      ]
     },
     "execution_count": 90,
     "metadata": {},
     "output_type": "execute_result"
    }
   ],
   "source": [
    "s1 = \"abcabcbb\"\n",
    "s2 = \"bbbbb\"\n",
    "s3 = \"pwwkew\"\n",
    "lengthOfLongestSubstring(s1),lengthOfLongestSubstring(s2),lengthOfLongestSubstring(s3)"
   ]
  },
  {
   "cell_type": "markdown",
   "metadata": {},
   "source": [
    "**Longest Repeating Character Replacement**\n",
    "**O(n)**\n",
    "\n",
    "You are given a string s and an integer k. You can choose any character of the string and change it to any other uppercase English character. You can perform this operation at most k times.\n",
    "\n",
    "Return the length of the longest substring containing the same letter you can get after performing the above operations.\n",
    "\n",
    "**Solved using two pointers.**"
   ]
  },
  {
   "cell_type": "markdown",
   "metadata": {},
   "source": [
    "Input: s = \"ABAB\", k = 2\n",
    "Output: 4\n",
    "Explanation: Replace the two 'A's with two 'B's or vice versa.\n",
    "Example 2:\n",
    "\n",
    "Input: s = \"AABABBA\", k = 1\n",
    "Output: 4\n",
    "Explanation: Replace the one 'A' in the middle with 'B' and form \"AABBBBA\".\n",
    "The substring \"BBBB\" has the longest repeating letters, which is 4."
   ]
  },
  {
   "cell_type": "markdown",
   "metadata": {},
   "source": [
    "In a given window formed by a left and right index, if we take the count of the maximum occurring letters and substract it from the length of the window then we will know exactly how many replacements we have to make to get a substring filled with duplicates. \n",
    "\n",
    "For instance, \"ABAB\", window length = 4, maximum occurring letters are \"A\" & \"B\" each occuring 2 times, and we can perform replacement 2 times, then 4-2 = 2 and we can replace each of the \"A\" & \"B\" since we are allowed 2 operations, which translates the maximum length of the substring being 4. \n",
    "\n",
    "However, if the window length - maximum occuring letters > number of replacement operations, then we need to move the left index by one and substract it's corresponding count."
   ]
  },
  {
   "cell_type": "code",
   "execution_count": 87,
   "metadata": {},
   "outputs": [],
   "source": [
    "def characterReplacement(s: str, k: int) -> int:\n",
    "        length = 0\n",
    "        l_idx = 0\n",
    "        counts = {}\n",
    "        for r_idx in range(len(s)):\n",
    "            counts[s[r_idx]] = 1 + counts.get(s[r_idx],0)\n",
    "            if (r_idx - l_idx)+1 - max(counts.values()) <=k:\n",
    "                length = max(length, (r_idx - l_idx)+1)\n",
    "            else:\n",
    "                counts[s[l_idx]] -=1\n",
    "                l_idx +=1\n",
    "        return length\n"
   ]
  },
  {
   "cell_type": "code",
   "execution_count": 88,
   "metadata": {},
   "outputs": [
    {
     "data": {
      "text/plain": [
       "4"
      ]
     },
     "execution_count": 88,
     "metadata": {},
     "output_type": "execute_result"
    }
   ],
   "source": [
    "s = \"AABABBA\"\n",
    "k = 1\n",
    "characterReplacement(s,k)"
   ]
  },
  {
   "cell_type": "markdown",
   "metadata": {},
   "source": [
    "**Permutation in String**\n",
    "**O(n)**\n",
    "\n",
    "Given two strings s1 and s2, return true if s2 contains a permutation of s1, or false otherwise.\n",
    "\n",
    "In other words, return true if one of s1's permutations is the substring of s2.\n",
    "\n",
    "**Solved with two pointers.**"
   ]
  },
  {
   "cell_type": "markdown",
   "metadata": {},
   "source": [
    "Example 1:\n",
    "\n",
    "Input: s1 = \"ab\", s2 = \"eidbaooo\"\n",
    "Output: true\n",
    "Explanation: s2 contains one permutation of s1 (\"ba\").\n",
    "Example 2:\n",
    "\n",
    "Input: s1 = \"ab\", s2 = \"eidboaoo\"\n",
    "Output: false"
   ]
  },
  {
   "cell_type": "markdown",
   "metadata": {},
   "source": [
    "We need to have two pointers, one at the beginning of the string of s2 and the other starting from the len(s1). For each such window we could count the number of letters and if the count matches then we have a valid permutation. \n",
    "However, this would increase the time complexity to **O(26*n)**. Instead if we assign a variable equalling to the total number of matches, i.e. 26 as there are 26 alphabets, then we can optimise the time complexity to **O(n)**.\n",
    "Each time we move the right and left pointer, we compute the additional match of the character and if matches == 26 we return true. "
   ]
  },
  {
   "cell_type": "code",
   "execution_count": 10,
   "metadata": {},
   "outputs": [],
   "source": [
    "def checkInclusion(s1: str, s2: str) -> bool:\n",
    "    if len(s1) > len(s2): return False\n",
    "    # initialising the array of letter counts\n",
    "    s1_count, s2_count = [0]* 26, [0] * 26\n",
    "    # initialising the first n letter counts of \n",
    "    # s1 and s2 as per the len(s1)\n",
    "    for i in range(len(s1)):\n",
    "        s1_count[ord(s1[i]) - ord('a')] +=1\n",
    "        s2_count[ord(s2[i]) - ord('a')] +=1\n",
    "    matches = 0\n",
    "    # initialising the matches variable once and from here on\n",
    "    # only a single operation for the left and right side respectively\n",
    "    # would be performed\n",
    "    for i in range(26):\n",
    "        matches +=1 if s1_count[i] == s2_count[i] else 0\n",
    "    l_idx = 0\n",
    "    # the right pointer starts from the letter > len(s1) until\n",
    "    # the last letter\n",
    "    for r_idx in range(len(s1),len(s2)):\n",
    "        if matches == 26: return True\n",
    "        # moving the right pointer to the next letter\n",
    "        index = ord(s2[r_idx]) - ord('a')\n",
    "        s2_count[index] +=1\n",
    "        if s1_count[index] == s2_count[index]:\n",
    "            matches +=1\n",
    "        # the below case is when there is a duplicate letter in s2 side by side\n",
    "        # which is also one of the letters in s1\n",
    "        # s1 = \"ab\", s2 = \"aibbaooo\", when the right index is on the second 'b'\n",
    "        elif s1_count[index] +1 == s2_count[index]:\n",
    "            matches -=1\n",
    "        # moving the left pointer to the next letter\n",
    "        index = ord(s2[l_idx]) - ord('a')\n",
    "        s2_count[index] -=1\n",
    "        if s1_count[index] == s2_count[index]:\n",
    "            matches +=1\n",
    "        # the below case is when there is a letter in s1 which is being skipped\n",
    "        # by the left pointer after it's move\n",
    "        # s1 = \"ab\", s2 = \"aibbaooo\", when the left index is moving from 'a' to 'i'\n",
    "        elif s1_count[index] -1 == s2_count[index]:\n",
    "            matches -=1\n",
    "        l_idx +=1\n",
    "    \n",
    "\n",
    "    return matches == 26"
   ]
  },
  {
   "cell_type": "code",
   "execution_count": 11,
   "metadata": {},
   "outputs": [
    {
     "data": {
      "text/plain": [
       "True"
      ]
     },
     "execution_count": 11,
     "metadata": {},
     "output_type": "execute_result"
    }
   ],
   "source": [
    "s1 = \"abc\"\n",
    "s2 = \"aibbbcaooo\"\n",
    "checkInclusion(s1,s2)"
   ]
  },
  {
   "cell_type": "markdown",
   "metadata": {},
   "source": [
    "**Generate Parentheses**\n",
    "\n",
    "Given n pairs of parentheses, write a function to generate all combinations of well-formed parentheses."
   ]
  },
  {
   "cell_type": "markdown",
   "metadata": {},
   "source": [
    "Example 1:\n",
    "\n",
    "Input: n = 3\n",
    "Output: [\"((()))\",\"(()())\",\"(())()\",\"()(())\",\"()()()\"]\n",
    "Example 2:\n",
    "\n",
    "Input: n = 1\n",
    "Output: [\"()\"]"
   ]
  },
  {
   "cell_type": "markdown",
   "metadata": {},
   "source": [
    "To find the number of valid(n) parentheses:\n",
    "* Closing parentheses == Opening parentheses\n",
    "* Opening parentheses < n\n",
    "* Closing parentheses < Opening parentheses\n",
    "* Stop when Closing parentheses == Opening parentheses == n"
   ]
  },
  {
   "cell_type": "code",
   "execution_count": 19,
   "metadata": {},
   "outputs": [],
   "source": [
    "from typing import List\n",
    "\n",
    "def generateParenthesis(n: int) -> List[str]:\n",
    "        stack = [] # to store the temporary parentheses combination\n",
    "        result = [] # to store all the combinations\n",
    "        \n",
    "        # using recursively to add an opening or closing parenthese\n",
    "        def parenthesis(opens, closes):\n",
    "            if opens == closes == n:\n",
    "                result.append(''.join(stack))\n",
    "                return # if the above condition is True then python executes the append\n",
    "                # and returns None, which means the following statements aren't executed\n",
    "            if opens < n: # case where an opening parenthese can be added \n",
    "                stack.append('(')\n",
    "                parenthesis(opens+1, closes) # increase the opening parenthese counter\n",
    "                stack.pop() # removes the opening parenthese from the stack after the \n",
    "                # maximum number of opening parentheses have been added\n",
    "                \n",
    "            if closes < opens: # case where an closing parenthese can be added\n",
    "                stack.append(')')\n",
    "                parenthesis(opens, closes+1) # increase the closing parenthese counter\n",
    "                stack.pop() # removes the closing parenthese from the stack after the\n",
    "                # maximum number of closing parentheses have been added\n",
    "        # starting the parenthesis function\n",
    "        parenthesis(0,0)\n",
    "        return result"
   ]
  },
  {
   "cell_type": "code",
   "execution_count": 20,
   "metadata": {},
   "outputs": [
    {
     "data": {
      "text/plain": [
       "['((()))', '(()())', '(())()', '()(())', '()()()']"
      ]
     },
     "execution_count": 20,
     "metadata": {},
     "output_type": "execute_result"
    }
   ],
   "source": [
    "generateParenthesis(3)"
   ]
  },
  {
   "cell_type": "markdown",
   "metadata": {},
   "source": [
    "**Daily Temperatures**\n",
    "**O(n)**\n",
    "\n",
    "Given an array of integers temperatures represents the daily temperatures, return an array answer such that answer[i] is the number of days you have to wait after the ith day to get a warmer temperature. If there is no future day for which this is possible, keep answer[i] == 0 instead."
   ]
  },
  {
   "cell_type": "markdown",
   "metadata": {},
   "source": [
    "Example 1:\n",
    "\n",
    "Input: temperatures = [73,74,75,71,69,72,76,73]\n",
    "Output: [1,1,4,2,1,1,0,0]\n",
    "Example 2:\n",
    "\n",
    "Input: temperatures = [30,40,50,60]\n",
    "Output: [1,1,1,0]\n",
    "Example 3:\n",
    "\n",
    "Input: temperatures = [30,60,90]\n",
    "Output: [1,1,0]\n",
    " "
   ]
  },
  {
   "cell_type": "markdown",
   "metadata": {},
   "source": [
    "temperatures = [73,74,75,71,69,72,76,73]\n",
    "\n",
    "While iterating through the entire array, keep adding the temps in a separate stack with their respective indexes until you find a temp which is larger than the first element of the stack. For instance, for `75` the next item is `71`, which is `< 75` so add it to the stack. Now the first item in the stack is `71`. Moving to the next item `69`, it's still smaller than `71` so it will get added to the stack as well. Notice that the stack is in decreasing order and we are always comparing one item to the first item in the stack. The next item is `72` and `> 69` so we pop it and subtract the index of `69` from `72` and it to the result array. As the stack is in descending order, `72` is still `>` than the first item in the stack i.e. `71`. We pop that and do the same. Next `72` < `75` so we add `72` to the stack and move to the next item `76`, which is bigger than both the items in the stack and therefore we pop them and add the result. Now we have two remaining numbers which aren't bigger than each other so we add `0` to the result array."
   ]
  },
  {
   "cell_type": "code",
   "execution_count": 22,
   "metadata": {},
   "outputs": [],
   "source": [
    "from typing import List\n",
    "\n",
    "def dailyTemperatures(temperatures: List[int]) -> List[int]:\n",
    "        stack = [] # will contain [idx, temp] as we need both the index and temperature\n",
    "        results = [0] * len(temperatures) # intialising the results array to the len of temperatures list\n",
    "        # this will serve us later too as if we have an index for which there is no greater number in the following \n",
    "        # indexes then their respective indexes will be filled as 0\n",
    "        for idx,temp in enumerate(temperatures):\n",
    "            while stack and temp > stack[-1][1]: # this checks whether there is an element in the stack to compare to \n",
    "                # and if the current temp is > than the first temp in the stack then we pop it \n",
    "                stack_idx, stack_temp = stack.pop()\n",
    "                results[stack_idx] = idx-stack_idx # the index of the first temp in the stack is the index in which\n",
    "                # we need to store the result in the results array\n",
    "            stack.append([idx,temp]) # if the stack is empty or if the next temp is smaller than the current temp\n",
    "        return results"
   ]
  },
  {
   "cell_type": "code",
   "execution_count": 23,
   "metadata": {},
   "outputs": [
    {
     "data": {
      "text/plain": [
       "[1, 1, 4, 2, 1, 1, 0, 0]"
      ]
     },
     "execution_count": 23,
     "metadata": {},
     "output_type": "execute_result"
    }
   ],
   "source": [
    "temperatures = [73,74,75,71,69,72,76,73]\n",
    "dailyTemperatures(temperatures=temperatures)"
   ]
  },
  {
   "cell_type": "markdown",
   "metadata": {},
   "source": [
    "**Create Linked List Class**"
   ]
  },
  {
   "cell_type": "code",
   "execution_count": 77,
   "metadata": {},
   "outputs": [],
   "source": [
    "class Node: # individual element in the linked list\n",
    "    def __init__(self, data=None, next=None): # two class members i.e. data and next(pointer to the next element)\n",
    "        self.data = data\n",
    "        self.next = next\n",
    "\n",
    "class LinkedList:\n",
    "    def __init__(self):\n",
    "        self.head = None #intially the linked list doesn't have any values so its head\n",
    "        # isn't pointing to anything\n",
    "    \n",
    "    def insert_at_beginning(self, data):\n",
    "        node = Node(data, self.head) # first create a Node with the data and point to the next \n",
    "        # item, which is the current head\n",
    "        self.head = node # once the new node is created update the head to this one\n",
    "\n",
    "    def insert_at_end(self, data):\n",
    "        if self.head is None: # if the head is None then the current element becomes the\n",
    "            # first/last element and points to None\n",
    "            self.head = Node(data, None)\n",
    "            return\n",
    "\n",
    "        iterator = self.head # start with the head\n",
    "        while iterator.next: # keep iterating through all the nodes, wherein the pointer points to a data point\n",
    "            #  and not None, if the pointer points to None that means it's the last node in the linked list\n",
    "            iterator = iterator.next\n",
    "        iterator.next = Node(data, None) # upon reaching the last value, point the data as the \n",
    "        # next element of the current last node\n",
    "    \n",
    "    def insert_values(self, ls):\n",
    "        self.head = None # reinitialise the linked list to contain 0 elements\n",
    "        for i in ls:\n",
    "            self.insert_at_end(i) # insert each element in the list as the last \n",
    "            # element in the linked list\n",
    "            # instead of this, if you insert it at the beginning of the list then\n",
    "            # you will have a reversed list\n",
    "\n",
    "    def get_len(self):\n",
    "        count =0\n",
    "        iterator = self.head\n",
    "        while iterator:\n",
    "            iterator = iterator.next\n",
    "            count +=1\n",
    "        return count\n",
    "\n",
    "    def remove_at_idx(self, idx):\n",
    "        if idx<0 or idx>= self.get_len(): # as the counting starts with 0,\n",
    "            # index cannot be equal to the length of the linked list\n",
    "            raise Exception('Invalid Index.')\n",
    "        \n",
    "        if idx==0:\n",
    "            self.head = self.head.next # if the index to drop is 0\n",
    "            # then point the head to the next element\n",
    "            return\n",
    "\n",
    "        iterator = self.head # initialising an iterator\n",
    "        count =0\n",
    "        while count < idx-1: #stopping before the index to drop\n",
    "            iterator = iterator.next # updating the iterator to the next element\n",
    "            # in every call\n",
    "            count +=1\n",
    "        iterator.next = iterator.next.next # point the current element pointer \n",
    "        # by skipping one element(this is the element that we want to drop)\n",
    "\n",
    "    def insert_at_idx(self, idx, data):\n",
    "        if idx <0 or idx > self.get_len(): # if the index is > than the total length\n",
    "            # however, if it's == length then insert it as well, which means \n",
    "            # insert at the last element\n",
    "            raise Exception ('Invalid Index.')\n",
    "\n",
    "        if idx==0:\n",
    "            self.insert_at_beginning(data) \n",
    "            return\n",
    "        \n",
    "        count = 0\n",
    "        iterator = self.head\n",
    "        while count < idx-1:\n",
    "            iterator = iterator.next\n",
    "            count +=1\n",
    "        node = Node(data, iterator.next) # create a new Node and assign the \n",
    "        # the pointer of this data to the next item of the iterator \n",
    "        # as the iterator has stopped before the index, it's currently\n",
    "        # pointing to the next element, which we are accessing\n",
    "        iterator.next = node\n",
    "\n",
    "\n",
    "    def print_linked_list(self):\n",
    "        if self.head is None:\n",
    "            print('Linked List is empty.')\n",
    "            return\n",
    "\n",
    "        ll_str = '' # the string to append the linked list\n",
    "        iterator = self.head # create an iterator at the head of the linked list\n",
    "        while iterator: # while the iterator is not None\n",
    "            ll_str += str(iterator.data) + ' --> ' # add the data to the string\n",
    "            iterator = iterator.next # move to the next element\n",
    "        print(ll_str)"
   ]
  },
  {
   "cell_type": "code",
   "execution_count": 79,
   "metadata": {},
   "outputs": [
    {
     "name": "stdout",
     "output_type": "stream",
     "text": [
      "4 --> 3 --> 100 --> jacob --> 200 --> \n"
     ]
    }
   ],
   "source": [
    "ll = LinkedList()\n",
    "ll.insert_at_beginning(1)\n",
    "ll.insert_at_beginning(3)\n",
    "ll.insert_at_beginning(4)\n",
    "ll.insert_at_end(100)\n",
    "ll.insert_at_end(200)\n",
    "# print('Length of the linked list:', ll.get_len())\n",
    "# ll.insert_values([201, 2020, 2300, 2400])\n",
    "ll.remove_at_idx(2)\n",
    "ll.insert_at_idx(3, 'jacob')\n",
    "ll.print_linked_list()"
   ]
  },
  {
   "cell_type": "markdown",
   "metadata": {},
   "source": [
    "**Reverse Linked List**\n",
    "**O(n)**\n",
    "\n",
    "Given the head of a singly linked list, reverse the list, and return the reversed list."
   ]
  },
  {
   "cell_type": "markdown",
   "metadata": {},
   "source": [
    "Example 1:\n",
    "\n",
    "\n",
    "Input: head = [1,2,3,4,5]\n",
    "Output: [5,4,3,2,1]\n",
    "Example 2:\n",
    "\n",
    "\n",
    "Input: head = [1,2]\n",
    "Output: [2,1]\n",
    "Example 3:\n",
    "\n",
    "Input: head = []\n",
    "Output: []\n"
   ]
  },
  {
   "cell_type": "code",
   "execution_count": 81,
   "metadata": {},
   "outputs": [],
   "source": [
    "def reverse_linked_list(head):\n",
    "    previous, current = None, head\n",
    "    while current:\n",
    "        temp = current.next # storing the current element pointer in another variable\n",
    "        current.next = previous # pointing the current element pointer to the previous\n",
    "#             element which is None as it's the last one\n",
    "        previous = current # moving the previous pointer to the current element\n",
    "        current = temp # as we have stored the initial pointer of the current element, we are \n",
    "#             moving the current pointer to the next element that its pointing to\n",
    "    return previous # as each of the pointers are now pointing in the reverse direction"
   ]
  }
 ],
 "metadata": {
  "interpreter": {
   "hash": "cb383f19fe35ca38abce43f39f83dd400f7d28e12206ea45b83405da3963bcc4"
  },
  "kernelspec": {
   "display_name": "Python 3.8.8 ('default')",
   "language": "python",
   "name": "python3"
  },
  "language_info": {
   "codemirror_mode": {
    "name": "ipython",
    "version": 3
   },
   "file_extension": ".py",
   "mimetype": "text/x-python",
   "name": "python",
   "nbconvert_exporter": "python",
   "pygments_lexer": "ipython3",
   "version": "3.8.8"
  },
  "orig_nbformat": 4
 },
 "nbformat": 4,
 "nbformat_minor": 2
}
