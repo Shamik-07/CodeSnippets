{
 "cells": [
  {
   "cell_type": "code",
   "execution_count": 10,
   "id": "fdb644e2-8589-44f1-bb22-d43938cbf158",
   "metadata": {},
   "outputs": [],
   "source": [
    "def grid_traveller(m,n, d={}):\n",
    "    key = (m,n)\n",
    "    if m==1 and n==1:\n",
    "        return 1\n",
    "    if m==0 or n==0:\n",
    "        return 0\n",
    "    if key in d:\n",
    "        return d[key]\n",
    "    d[key]=grid_traveller(m-1,n,d) + grid_traveller(m,n-1,d)\n",
    "    return d[key]"
   ]
  },
  {
   "cell_type": "code",
   "execution_count": 12,
   "id": "ca01adaa-9723-4f7a-b212-d5dc4f5b2312",
   "metadata": {},
   "outputs": [
    {
     "data": {
      "text/plain": [
       "(3, 3, 1, 2333606220)"
      ]
     },
     "execution_count": 12,
     "metadata": {},
     "output_type": "execute_result"
    }
   ],
   "source": [
    "grid_traveller(2,3), grid_traveller(3,2), grid_traveller(1,1), grid_traveller(18, 18)"
   ]
  },
  {
   "cell_type": "code",
   "execution_count": 16,
   "id": "cdb84088-02c2-4483-ac73-0b5bad24d4db",
   "metadata": {},
   "outputs": [],
   "source": [
    "def fib(n, d={}):\n",
    "    if n<=2:\n",
    "        return 1\n",
    "    if n in d:\n",
    "        return d[n]\n",
    "    d[n] = fib(n-1, d) + fib(n-2, d)\n",
    "    return d[n]"
   ]
  },
  {
   "cell_type": "code",
   "execution_count": 23,
   "id": "94ceef4c-0807-4ff2-aa1f-fd500e8f2e8e",
   "metadata": {
    "tags": []
   },
   "outputs": [
    {
     "data": {
      "text/plain": [
       "(2, 1)"
      ]
     },
     "execution_count": 23,
     "metadata": {},
     "output_type": "execute_result"
    }
   ],
   "source": [
    "fib(3), fib(2)"
   ]
  },
  {
   "cell_type": "code",
   "execution_count": 37,
   "id": "b6f0f2ff-d9b8-4a8b-bb90-359e6cf4b9bd",
   "metadata": {},
   "outputs": [],
   "source": [
    "all_alpha = \"The quick brown foxes jumped over the lazy dog.\"\n",
    "all_alpha = all_alpha.split()"
   ]
  },
  {
   "cell_type": "code",
   "execution_count": 63,
   "id": "6311f06e-e9fb-4e94-8331-5ef08025947f",
   "metadata": {},
   "outputs": [
    {
     "data": {
      "text/plain": [
       "(('The', 'quick', 'brown', 'foxes'),\n",
       " ('quick', 'brown', 'foxes', 'jumped'),\n",
       " ('brown', 'foxes', 'jumped', 'over'),\n",
       " ('foxes', 'jumped', 'over', 'the'),\n",
       " ('jumped', 'over', 'the', 'lazy'),\n",
       " ('over', 'the', 'lazy', 'dog.'))"
      ]
     },
     "execution_count": 63,
     "metadata": {},
     "output_type": "execute_result"
    }
   ],
   "source": [
    "tuple(zip(*[all_alpha[i:] for i in range(4)]))"
   ]
  },
  {
   "cell_type": "markdown",
   "id": "23778131-e0b1-4ea6-b31b-3bb3bdafbca1",
   "metadata": {
    "tags": []
   },
   "source": [
    "Given an array of strings, group the anagrams together. You can return the answer in any order.\n",
    "\n",
    "An Anagram is a word or phrase formed by rearranging the letters of a different word or phrase, typically using all the original letters exactly once.\n",
    "\n",
    "Solved using hashmap\n",
    "\n",
    "Example 1:\n",
    "\n",
    "Input: strs = [\"eat\",\"tea\",\"tan\",\"ate\",\"nat\",\"bat\"] Output: [[\"bat\"],[\"nat\",\"tan\"],[\"ate\",\"eat\",\"tea\"]] Example 2:\n",
    "\n",
    "Input: strs = [\"\"] Output: [[\"\"]] Example 3:\n",
    "\n",
    "Input: strs = [\"a\"] Output: [[\"a\"]]"
   ]
  },
  {
   "cell_type": "code",
   "execution_count": 67,
   "id": "f37cf21e-a863-47ff-9d58-0d3d298a9067",
   "metadata": {},
   "outputs": [
    {
     "data": {
      "text/plain": [
       "('a', 'c', 't')"
      ]
     },
     "execution_count": 67,
     "metadata": {},
     "output_type": "execute_result"
    }
   ],
   "source": [
    "tuple(sorted(\"atc\"))"
   ]
  },
  {
   "cell_type": "code",
   "execution_count": 76,
   "id": "55b148bc-98b7-474d-965a-2fb88c0e7d2e",
   "metadata": {},
   "outputs": [],
   "source": [
    "def ana(strs):\n",
    "    d={}\n",
    "    for eachstr in strs:\n",
    "        d.setdefault(tuple(sorted(eachstr)),[]).append(eachstr)\n",
    "    return d.values()"
   ]
  },
  {
   "cell_type": "code",
   "execution_count": 77,
   "id": "799c4fa2-7d32-4e95-8e8b-086298a7732b",
   "metadata": {},
   "outputs": [
    {
     "data": {
      "text/plain": [
       "dict_values([['eat', 'tea', 'ate'], ['tan', 'nat'], ['bat']])"
      ]
     },
     "execution_count": 77,
     "metadata": {},
     "output_type": "execute_result"
    }
   ],
   "source": [
    "ana([\"eat\",\"tea\",\"tan\",\"ate\",\"nat\",\"bat\"])"
   ]
  },
  {
   "cell_type": "markdown",
   "id": "99d373ae-fa60-4422-879e-8aaf5b1ea8b4",
   "metadata": {},
   "source": [
    "Can Sum O(m*n)\n",
    "\n",
    "Given a target sum and a list of integers, verify whether the integers can actually match the target sum, same integers can be reused as many times as needed.\n",
    "\n",
    "Example 1 target = 7 list = [5,4,3,7] output = True\n",
    "\n",
    "Example 2 target = 14 list = [5,5] output = false"
   ]
  },
  {
   "cell_type": "code",
   "execution_count": 97,
   "id": "af719287-7c2d-4dba-9796-80b9e497310b",
   "metadata": {},
   "outputs": [],
   "source": [
    "def cansum(target, ints, d={}):\n",
    "    if target in d:\n",
    "        return d[target]\n",
    "    if target ==0:\n",
    "        return True\n",
    "    if target < 0:\n",
    "        return False\n",
    "    for i in ints:\n",
    "        rem = target - i\n",
    "        if cansum(rem, ints, d):\n",
    "            d[target] = True\n",
    "            return True\n",
    "    d[target]= False\n",
    "    return False"
   ]
  },
  {
   "cell_type": "code",
   "execution_count": 129,
   "id": "9d68ce73-332a-458b-94fc-83c4ff0ca83d",
   "metadata": {},
   "outputs": [
    {
     "data": {
      "text/plain": [
       "(True, False)"
      ]
     },
     "execution_count": 129,
     "metadata": {},
     "output_type": "execute_result"
    }
   ],
   "source": [
    "cansum(7, [5,4,3,7], {}), cansum(7, [2,4], {})"
   ]
  },
  {
   "cell_type": "markdown",
   "id": "60ac9428-b448-4818-a90d-646ff228c37e",
   "metadata": {},
   "source": [
    "Given an array of integers nums and an integer target, return indices of the two numbers such that they add up to target.\n",
    "\n",
    "You may assume that each input would have exactly one solution, and you may not use the same element twice.\n",
    "\n",
    "You can return the answer in any order.\n",
    "\n",
    "Solved using hashmap\n",
    "\n",
    "Example 1:\n",
    "\n",
    "Input: nums = [2,7,11,15], target = 9 Output: [0,1] Explanation: Because nums[0] + nums[1] == 9, we return [0, 1]. Example 2:\n",
    "\n",
    "Input: nums = [3,2,4], target = 6 Output: [1,2] Example 3:\n",
    "\n",
    "Input: nums = [3,3], target = 6 Output: [0,1]"
   ]
  },
  {
   "cell_type": "code",
   "execution_count": 130,
   "id": "8e4f1f4e-1feb-44c0-91dd-709a01dc6a9e",
   "metadata": {},
   "outputs": [],
   "source": [
    "def twosum(ls, t):\n",
    "    d={}\n",
    "    for i,j in enumerate(ls):\n",
    "        rem = t-j\n",
    "        if rem in d:\n",
    "            return [d[rem],i]\n",
    "        d[j]=i\n"
   ]
  },
  {
   "cell_type": "code",
   "execution_count": 133,
   "id": "81947585-d4ff-4380-a9d9-fe9041c128de",
   "metadata": {},
   "outputs": [
    {
     "data": {
      "text/plain": [
       "[0, 1]"
      ]
     },
     "execution_count": 133,
     "metadata": {},
     "output_type": "execute_result"
    }
   ],
   "source": [
    "twosum([3,3],6)"
   ]
  },
  {
   "cell_type": "markdown",
   "id": "95747831-465c-41c9-931d-67a6d21c1325",
   "metadata": {},
   "source": [
    "Pivot Index\n",
    "\n",
    "Given an array of integers nums, calculate the pivot index of this array.\n",
    "\n",
    "The pivot index is the index where the sum of all the numbers strictly to the left of the index is equal to the sum of all the numbers strictly to the index's right.\n",
    "\n",
    "If the index is on the left edge of the array, then the left sum is 0 because there are no elements to the left. This also applies to the right edge of the array.\n",
    "\n",
    "Return the leftmost pivot index. If no such index exists, return -1."
   ]
  },
  {
   "cell_type": "code",
   "execution_count": 138,
   "id": "63592779-148b-4d45-9dca-85ff30f10ea9",
   "metadata": {},
   "outputs": [],
   "source": [
    "def pivot(n):\n",
    "    for idx,_ in enumerate(n):\n",
    "        tot_sum =sum(n)\n",
    "        if not idx:\n",
    "            l_sum=0\n",
    "            r_sum=tot_sum - n[idx]\n",
    "            if l_sum == r_sum:\n",
    "                return idx\n",
    "        else:\n",
    "            l_sum=sum(n[:idx])\n",
    "            r_sum=tot_sum-n[idx]-l_sum\n",
    "            if l_sum==r_sum:\n",
    "                return idx\n",
    "    return -1"
   ]
  },
  {
   "cell_type": "code",
   "execution_count": 139,
   "id": "0bf3788d-48fa-465a-98e3-a31321d8358d",
   "metadata": {},
   "outputs": [
    {
     "data": {
      "text/plain": [
       "3"
      ]
     },
     "execution_count": 139,
     "metadata": {},
     "output_type": "execute_result"
    }
   ],
   "source": [
    "pivot([1,7,3,6,5,6])"
   ]
  },
  {
   "cell_type": "code",
   "execution_count": 150,
   "id": "7191fee6-5637-4e0f-af60-b908648a7dd4",
   "metadata": {},
   "outputs": [
    {
     "data": {
      "text/plain": [
       "[1, 7, 3, 6, 5]"
      ]
     },
     "execution_count": 150,
     "metadata": {},
     "output_type": "execute_result"
    }
   ],
   "source": [
    "[j[0] for i,j in enumerate(dict.fromkeys([1,7,3,6,5,6]).items())]"
   ]
  },
  {
   "cell_type": "code",
   "execution_count": 169,
   "id": "268f58eb-3868-41b0-84fa-a4a01b941c63",
   "metadata": {},
   "outputs": [],
   "source": [
    "def topk(ls,n):\n",
    "    d={}\n",
    "    res=[]\n",
    "    for num in ls:\n",
    "        d[num] = d.get(num,0) + 1\n",
    "    d_sorted = {k:v for k,v in sorted(d.items(), key=lambda x: x[1])}\n",
    "    if n>len(d_sorted):\n",
    "        return d_sorted.keys()\n",
    "    else:\n",
    "        for i,j in enumerate((d_sorted.items())):\n",
    "            if i<n:\n",
    "                res.append(d_sorted[j[0]])\n",
    "    return res, d_sorted, d"
   ]
  },
  {
   "cell_type": "code",
   "execution_count": 170,
   "id": "7a309426-1934-4f6f-8f47-bac32e5ae4a6",
   "metadata": {},
   "outputs": [
    {
     "data": {
      "text/plain": [
       "([1, 2], {3: 1, 2: 2, 1: 3}, {1: 3, 2: 2, 3: 1})"
      ]
     },
     "execution_count": 170,
     "metadata": {},
     "output_type": "execute_result"
    }
   ],
   "source": [
    "topk([1,1,1,2,2,3], 2)"
   ]
  },
  {
   "cell_type": "markdown",
   "id": "d51e54ba-4722-4d3d-8bc6-d35e6110d702",
   "metadata": {},
   "source": [
    "[2,7,11,15], target = 9 Output: [1,2] "
   ]
  },
  {
   "cell_type": "code",
   "execution_count": 171,
   "id": "8091e57c-f73e-4fb4-bea0-85ecbfd3d9a4",
   "metadata": {},
   "outputs": [],
   "source": [
    "def twosum(nums, t):\n",
    "    l_idx, r_idx = 0, len(nums)-1\n",
    "    while l_idx<r_idx:\n",
    "        curr_sum = nums[l_idx] + nums[r_idx]\n",
    "        if curr_sum>t:\n",
    "            r_idx-=1\n",
    "        elif curr_sum<t:\n",
    "            l_idx+=1\n",
    "        else:\n",
    "            return [l_idx+1, r_idx+1]"
   ]
  },
  {
   "cell_type": "code",
   "execution_count": 173,
   "id": "26f9a2a0-9f72-4ef0-948e-1643c53f8882",
   "metadata": {},
   "outputs": [
    {
     "data": {
      "text/plain": [
       "[1, 3]"
      ]
     },
     "execution_count": 173,
     "metadata": {},
     "output_type": "execute_result"
    }
   ],
   "source": [
    "twosum([2,3,4],  6)"
   ]
  },
  {
   "cell_type": "code",
   "execution_count": null,
   "id": "b005c59c-7ea3-44b6-907b-adb4a1ee6df1",
   "metadata": {},
   "outputs": [],
   "source": []
  },
  {
   "cell_type": "code",
   "execution_count": null,
   "id": "025b2587-4123-4ee1-af40-3396ed364aaa",
   "metadata": {},
   "outputs": [],
   "source": []
  },
  {
   "cell_type": "code",
   "execution_count": null,
   "id": "213a7ab8-4977-4f26-920a-7dcdfe3298d8",
   "metadata": {},
   "outputs": [],
   "source": []
  },
  {
   "cell_type": "code",
   "execution_count": null,
   "id": "bf3d0e4a-d295-4a80-b4f2-65bc3fe429c1",
   "metadata": {},
   "outputs": [],
   "source": []
  },
  {
   "cell_type": "code",
   "execution_count": 192,
   "id": "b85a46b4-2f17-44e1-be7d-178e07056e0e",
   "metadata": {},
   "outputs": [],
   "source": [
    "import torch\n",
    "from sklearn.datasets import load_iris\n",
    "from sklearn.model_selection import train_test_split\n",
    "\n",
    "# Load the Iris dataset and split it into training and testing sets\n",
    "iris = load_iris()\n",
    "X_train, X_test, y_train, y_test = train_test_split(iris.data,\n",
    "                                                    iris.target,\n",
    "                                                    test_size=0.2, random_state=42)\n",
    "\n",
    "# Convert the data into PyTorch tensors and normalize the features\n",
    "X_train = torch.tensor(X_train).float()\n",
    "X_test = torch.tensor(X_test).float()\n",
    "y_train = torch.tensor(y_train)\n",
    "y_test = torch.tensor(y_test)\n",
    "\n",
    "mean = X_train.mean(dim=0)\n",
    "std = X_train.std(dim=0)\n",
    "X_train = (X_train - mean) / std\n",
    "X_test = (X_test - mean) / std\n",
    "\n",
    "# Define the linear classifier model\n",
    "model = torch.nn.Sequential(\n",
    "    torch.nn.Linear(in_features=4, out_features=3),\n",
    "    torch.nn.Softmax(dim=1)\n",
    ")\n"
   ]
  },
  {
   "cell_type": "code",
   "execution_count": 206,
   "id": "a41cf3a2-1d66-44e6-bec2-c9ecdda1923b",
   "metadata": {
    "scrolled": true,
    "tags": []
   },
   "outputs": [
    {
     "name": "stdout",
     "output_type": "stream",
     "text": [
      "Epoch: 0 Loss: 1.1053029298782349\n",
      "Epoch: 10 Loss: 1.0941061973571777\n",
      "Epoch: 20 Loss: 1.0829331874847412\n",
      "Epoch: 30 Loss: 1.0718473196029663\n",
      "Epoch: 40 Loss: 1.060909628868103\n",
      "Epoch: 50 Loss: 1.0501765012741089\n",
      "Epoch: 60 Loss: 1.0396981239318848\n",
      "Epoch: 70 Loss: 1.0295164585113525\n",
      "Epoch: 80 Loss: 1.0196654796600342\n",
      "Epoch: 90 Loss: 1.0101704597473145\n"
     ]
    }
   ],
   "source": [
    "# Define the loss function and the optimizer\n",
    "loss_fn = torch.nn.CrossEntropyLoss()\n",
    "optimizer = torch.optim.SGD(model.parameters(), lr=0.01)\n",
    "\n",
    "# Training loop\n",
    "for epoch in range(100):  # Number of epochs\n",
    "    # Forward pass: Compute predicted y by passing x to the model\n",
    "    y_pred = model(X_train)\n",
    "\n",
    "    # Compute and print loss\n",
    "    loss = loss_fn(y_pred, y_train)\n",
    "    if epoch % 10 == 0:\n",
    "        print(f'Epoch: {epoch} Loss: {loss.item()}')\n",
    "\n",
    "    # Zero gradients, perform a backward pass, and update the weights.\n",
    "    optimizer.zero_grad()\n",
    "    loss.backward()\n",
    "    optimizer.step()\n"
   ]
  },
  {
   "cell_type": "code",
   "execution_count": 210,
   "id": "9cf134d2-41bb-4eba-99af-828411f03d9b",
   "metadata": {},
   "outputs": [
    {
     "data": {
      "text/plain": [
       "(tensor([2, 0, 1, 2, 1, 0, 2, 2, 2, 2, 2, 0, 0, 0, 0, 2, 2, 0, 2, 2, 0, 2, 0, 2,\n",
       "         1, 2, 2, 2, 0, 0]),\n",
       " tensor([1, 0, 2, 1, 1, 0, 1, 2, 1, 1, 2, 0, 0, 0, 0, 1, 2, 1, 1, 2, 0, 2, 0, 2,\n",
       "         2, 2, 2, 2, 0, 0]))"
      ]
     },
     "execution_count": 210,
     "metadata": {},
     "output_type": "execute_result"
    }
   ],
   "source": [
    "torch.argmax(model(X_test), dim=1), y_test"
   ]
  },
  {
   "cell_type": "code",
   "execution_count": 212,
   "id": "176e14b2-c118-4078-b9f5-7f0783d45b1d",
   "metadata": {},
   "outputs": [
    {
     "data": {
      "text/plain": [
       "tensor([0.3257, 0.3172, 0.3571], grad_fn=<SelectBackward0>)"
      ]
     },
     "execution_count": 212,
     "metadata": {},
     "output_type": "execute_result"
    }
   ],
   "source": [
    "model(X_test)[0]"
   ]
  },
  {
   "cell_type": "code",
   "execution_count": 175,
   "id": "2d561e5c-c234-46cc-9a29-13adf92db761",
   "metadata": {},
   "outputs": [
    {
     "data": {
      "text/plain": [
       "tensor([[0.4693, 0.0385, 0.2544],\n",
       "        [0.5307, 0.9615, 0.7456]])"
      ]
     },
     "execution_count": 175,
     "metadata": {},
     "output_type": "execute_result"
    }
   ],
   "source": [
    "import torch.nn.functional as F\n",
    "\n",
    "# Create a random tensor\n",
    "a = torch.randn(2, 3)\n",
    "\n",
    "# Apply Softmax\n",
    "F.softmax(a, dim=0)"
   ]
  },
  {
   "cell_type": "code",
   "execution_count": 177,
   "id": "f11c50d1-84dd-460c-8999-702221b66372",
   "metadata": {},
   "outputs": [
    {
     "data": {
      "text/plain": [
       "tensor([[ 0.2747, -2.0503, -0.2131],\n",
       "        [ 0.3976,  1.1685,  0.8623]])"
      ]
     },
     "execution_count": 177,
     "metadata": {},
     "output_type": "execute_result"
    }
   ],
   "source": [
    "a"
   ]
  },
  {
   "cell_type": "code",
   "execution_count": 186,
   "id": "7a87156c-d221-4b0a-b2e4-ab97e6589fc7",
   "metadata": {},
   "outputs": [],
   "source": [
    "import math"
   ]
  },
  {
   "cell_type": "code",
   "execution_count": 191,
   "id": "ae210219-a3f8-4d14-b6fb-45fd2e546c1b",
   "metadata": {},
   "outputs": [
    {
     "data": {
      "text/plain": [
       "0.5841928744333489"
      ]
     },
     "execution_count": 191,
     "metadata": {},
     "output_type": "execute_result"
    }
   ],
   "source": [
    "math.exp(0.2747)/sum([math.exp(i) for i in a[0]])"
   ]
  },
  {
   "cell_type": "code",
   "execution_count": 184,
   "id": "972af7b2-f501-46c4-9c48-79b50584d2a6",
   "metadata": {},
   "outputs": [
    {
     "data": {
      "text/plain": [
       "tensor([[0.5842, 0.0571, 0.3587],\n",
       "        [0.2104, 0.4548, 0.3348]])"
      ]
     },
     "execution_count": 184,
     "metadata": {},
     "output_type": "execute_result"
    }
   ],
   "source": [
    "F.softmax(a, dim=1)"
   ]
  },
  {
   "cell_type": "code",
   "execution_count": null,
   "id": "23b608a7-3667-4372-8645-688a4639a52f",
   "metadata": {},
   "outputs": [],
   "source": []
  }
 ],
 "metadata": {
  "kernelspec": {
   "display_name": "Python 3 (ipykernel)",
   "language": "python",
   "name": "python3"
  },
  "language_info": {
   "codemirror_mode": {
    "name": "ipython",
    "version": 3
   },
   "file_extension": ".py",
   "mimetype": "text/x-python",
   "name": "python",
   "nbconvert_exporter": "python",
   "pygments_lexer": "ipython3",
   "version": "3.8.13"
  }
 },
 "nbformat": 4,
 "nbformat_minor": 5
}
