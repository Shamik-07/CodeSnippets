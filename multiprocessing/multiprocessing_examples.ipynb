{
 "cells": [
  {
   "cell_type": "markdown",
   "metadata": {},
   "source": [
    "Multiprocessing in Python"
   ]
  },
  {
   "cell_type": "code",
   "execution_count": 14,
   "metadata": {},
   "outputs": [],
   "source": [
    "import multiprocessing\n",
    "import time\n",
    "\n",
    "\n",
    "def cpu_bound(number):\n",
    "    # print(multiprocessing.current_process().name)\n",
    "    return sum(i * i for i in range(number))\n",
    "\n",
    "\n",
    "def find_sums(numbers):\n",
    "    with multiprocessing.Pool() as pool:\n",
    "        pool.map(cpu_bound, numbers)\n"
   ]
  },
  {
   "cell_type": "code",
   "execution_count": null,
   "metadata": {},
   "outputs": [],
   "source": [
    "numbers = [5_000_000 + x for x in range(20)]\n",
    "\n",
    "start_time = time.perf_counter()\n",
    "find_sums(numbers)\n",
    "duration = time.perf_counter() - start_time\n",
    "print(f\"Duration {duration} seconds\")"
   ]
  },
  {
   "cell_type": "code",
   "execution_count": 11,
   "metadata": {},
   "outputs": [],
   "source": [
    "from concurrent.futures import ProcessPoolExecutor"
   ]
  },
  {
   "cell_type": "code",
   "execution_count": 15,
   "metadata": {},
   "outputs": [
    {
     "name": "stdout",
     "output_type": "stream",
     "text": [
      "Duration 309.2160489119997 seconds\n"
     ]
    }
   ],
   "source": [
    "start_time = time.perf_counter()\n",
    "with ProcessPoolExecutor() as executor:\n",
    "    executor.map(cpu_bound, numbers)\n",
    "print(f\"Duration {time.perf_counter()-start_time} seconds\")"
   ]
  }
 ],
 "metadata": {
  "kernelspec": {
   "display_name": "Python 3.7.11 ('py37')",
   "language": "python",
   "name": "python3"
  },
  "language_info": {
   "codemirror_mode": {
    "name": "ipython",
    "version": 3
   },
   "file_extension": ".py",
   "mimetype": "text/x-python",
   "name": "python",
   "nbconvert_exporter": "python",
   "pygments_lexer": "ipython3",
   "version": "3.7.11"
  },
  "orig_nbformat": 4,
  "vscode": {
   "interpreter": {
    "hash": "4a26bff658f397c03e7a6d50107f9eb6f30b6be739d1dd4be66c4365d73d3fda"
   }
  }
 },
 "nbformat": 4,
 "nbformat_minor": 2
}
