{
 "cells": [
  {
   "cell_type": "markdown",
   "metadata": {},
   "source": [
    "# Multiprocessing in Python"
   ]
  },
  {
   "cell_type": "markdown",
   "metadata": {},
   "source": [
    "## Multiprocessing with Multiprocessing library"
   ]
  },
  {
   "cell_type": "code",
   "execution_count": 9,
   "metadata": {},
   "outputs": [],
   "source": [
    "import multiprocessing\n",
    "import time\n",
    "\n",
    "\n",
    "def cpu_bound(number):\n",
    "    # print(multiprocessing.current_process().name)\n",
    "    return sum(i * i for i in range(number))\n",
    "\n",
    "\n",
    "def find_sums(numbers):\n",
    "    with multiprocessing.Pool() as pool:\n",
    "        pool.map(cpu_bound, numbers)\n"
   ]
  },
  {
   "cell_type": "code",
   "execution_count": 10,
   "metadata": {},
   "outputs": [
    {
     "name": "stdout",
     "output_type": "stream",
     "text": [
      "Duration 9.50056497901096 seconds\n"
     ]
    }
   ],
   "source": [
    "numbers = [5_000_000 + x for x in range(20)]\n",
    "\n",
    "start_time = time.perf_counter()\n",
    "find_sums(numbers)\n",
    "duration = time.perf_counter() - start_time\n",
    "print(f\"Duration {duration} seconds\")"
   ]
  },
  {
   "cell_type": "markdown",
   "metadata": {},
   "source": [
    "## Multiprocessing with concurrent.futures library"
   ]
  },
  {
   "cell_type": "code",
   "execution_count": 11,
   "metadata": {},
   "outputs": [],
   "source": [
    "from concurrent.futures import ProcessPoolExecutor"
   ]
  },
  {
   "cell_type": "code",
   "execution_count": 12,
   "metadata": {},
   "outputs": [
    {
     "name": "stdout",
     "output_type": "stream",
     "text": [
      "Duration 9.688510706997477 seconds\n"
     ]
    }
   ],
   "source": [
    "start_time = time.perf_counter()\n",
    "with ProcessPoolExecutor() as executor:\n",
    "    executor.map(cpu_bound, numbers)\n",
    "print(f\"Duration {time.perf_counter()-start_time} seconds\")"
   ]
  },
  {
   "cell_type": "markdown",
   "metadata": {},
   "source": [
    "## Multiprocessing for Pandas Apply"
   ]
  },
  {
   "cell_type": "markdown",
   "metadata": {},
   "source": [
    "### With Multiprocessing Standard library"
   ]
  },
  {
   "cell_type": "code",
   "execution_count": 5,
   "metadata": {},
   "outputs": [],
   "source": [
    "from typing import Union, Callable\n",
    "import multiprocessing as mp\n",
    "import numpy as np\n",
    "import pandas as pd\n",
    "from tqdm import tqdm\n",
    "\n",
    "def parallel_apply(\n",
    "        df_or_s: Union[pd.DataFrame, pd.Series],\n",
    "        func: Callable,\n",
    "        desc: str,\n",
    "        n_jobs: int = mp.cpu_count()-1,\n",
    "        progress_bar: bool = True\n",
    "    ) -> Union[pd.DataFrame, pd.Series]:\n",
    "    \"\"\"A method to use multiprocessing for `df.apply()` or `s.apply()`.\n",
    "\n",
    "    Args:\n",
    "        df_or_s (Union[pd.DataFrame, pd.Series]): Dataframe or series to\n",
    "        use `df.apply()` or `s.apply()` on.\n",
    "        func (Callable): The apply function to be used in\n",
    "        `df.apply()` or `s.apply()`.\n",
    "        n_jobs (int, optional): Number of processors to use.\n",
    "        Defaults to mp.cpu_count()-1.\n",
    "        progress_bar (bool, optional): A tqdm progress bar.\n",
    "        Defaults to True.\n",
    "        desc (str): TQDM description kwarg.\n",
    "\n",
    "    Returns:\n",
    "        Union[pd.DataFrame, pd.Series]: Returns the original dataframe or\n",
    "        series after applying the `df.apply()` or `s.apply()`.\n",
    "    \"\"\"\n",
    "    with mp.Pool(n_jobs) as pool:\n",
    "        split = np.array_split(df_or_s, n_jobs * 2)\n",
    "        if progress_bar is True:\n",
    "            split = tqdm(split, desc=desc)\n",
    "        ret_list = pool.map(func, split)\n",
    "        output_df_or_s = pd.concat(ret_list)\n",
    "    \n",
    "    return output_df_or_s\n"
   ]
  },
  {
   "cell_type": "markdown",
   "metadata": {},
   "source": [
    "### With Joblib library"
   ]
  },
  {
   "cell_type": "code",
   "execution_count": 6,
   "metadata": {},
   "outputs": [],
   "source": [
    "from typing import Union, Callable\n",
    "import joblib\n",
    "import numpy as np\n",
    "import pandas as pd\n",
    "from tqdm import tqdm\n",
    "\n",
    "def parallel_apply(\n",
    "        df_or_s: Union[pd.DataFrame, pd.Series],\n",
    "        func: Callable,\n",
    "        desc: str,\n",
    "        n_jobs: int = joblib.cpu_count()-1,\n",
    "        progress_bar: bool = True\n",
    "    ) -> Union[pd.DataFrame, pd.Series]:\n",
    "    \"\"\"A method to use multiprocessing for `df.apply()` or `s.apply()`.\n",
    "\n",
    "    Args:\n",
    "        df_or_s (Union[pd.DataFrame, pd.Series]): Dataframe or series to\n",
    "        use `df.apply()` or `s.apply()` on.\n",
    "        func (Callable): The apply function to be used in\n",
    "        `df.apply()` or `s.apply()`.\n",
    "        n_jobs (int, optional): Number of processors to use.\n",
    "        Defaults to mp.cpu_count()-1.\n",
    "        progress_bar (bool, optional): A tqdm progress bar.\n",
    "        Defaults to True.\n",
    "        desc (str): TQDM description kwarg.\n",
    "\n",
    "    Returns:\n",
    "        Union[pd.DataFrame, pd.Series]: Returns the original dataframe or\n",
    "        series after applying the `df.apply()` or `s.apply()`.\n",
    "    \"\"\"\n",
    "\n",
    "    with Parallel(n_jobs=n_jobs, mmap_mode=\"r+\") as parallel:\n",
    "        split = np.array_split(df_or_s, 2 * n_jobs)\n",
    "        if progress_bar is True:\n",
    "            ret_list = parallel(\n",
    "                delayed(func)(x) for x in tqdm(split, desc=desc))\n",
    "        else:\n",
    "            ret_list = parallel(delayed(func)(x) for x in split)\n",
    "        output_df_or_s = pd.concat(ret_list)\n",
    "\n",
    "    return output_df_or_s"
   ]
  },
  {
   "cell_type": "code",
   "execution_count": null,
   "metadata": {},
   "outputs": [],
   "source": []
  }
 ],
 "metadata": {
  "kernelspec": {
   "display_name": "Python 3 (ipykernel)",
   "language": "python",
   "name": "python3"
  },
  "language_info": {
   "codemirror_mode": {
    "name": "ipython",
    "version": 3
   },
   "file_extension": ".py",
   "mimetype": "text/x-python",
   "name": "python",
   "nbconvert_exporter": "python",
   "pygments_lexer": "ipython3",
   "version": "3.8.13"
  },
  "vscode": {
   "interpreter": {
    "hash": "4a26bff658f397c03e7a6d50107f9eb6f30b6be739d1dd4be66c4365d73d3fda"
   }
  }
 },
 "nbformat": 4,
 "nbformat_minor": 4
}
