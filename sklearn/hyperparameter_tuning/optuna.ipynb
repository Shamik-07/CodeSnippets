{
 "cells": [
  {
   "cell_type": "code",
   "execution_count": null,
   "id": "b1adfd3b-50d2-4f53-a40b-f27d6d785962",
   "metadata": {},
   "outputs": [],
   "source": [
    "import numpy as np\n",
    "from sklearn.datasets import make_regression\n",
    "from sklearn.linear_model import Ridge\n",
    "from sklearn.model_selection import RandomizedSearchCV, GridSearchCV"
   ]
  },
  {
   "cell_type": "code",
   "execution_count": null,
   "id": "367df0f4-f6ca-4b15-82ee-b2603481e6d3",
   "metadata": {},
   "outputs": [],
   "source": [
    "X, y = make_regression()"
   ]
  },
  {
   "cell_type": "code",
   "execution_count": null,
   "id": "d8765262-7b16-4d74-8d5b-b24cb9b85f89",
   "metadata": {},
   "outputs": [],
   "source": [
    "model = Ridge()\n",
    "alphas = np.logspace(-5, 5, 10000)"
   ]
  },
  {
   "cell_type": "code",
   "execution_count": null,
   "id": "604b6b7f-49a8-499a-94d3-d21481f32ac3",
   "metadata": {},
   "outputs": [],
   "source": [
    "cv = RandomizedSearchCV(model, param_distributions={\"alpha\": alphas}, cv=3, n_iter=100, scoring='neg_mean_squared_error')"
   ]
  },
  {
   "cell_type": "code",
   "execution_count": null,
   "id": "1f6e6448-fade-4b53-95b5-4ff1919dad8f",
   "metadata": {
    "scrolled": true
   },
   "outputs": [],
   "source": [
    "cv.fit(X, y)"
   ]
  },
  {
   "cell_type": "code",
   "execution_count": null,
   "id": "9a570485-558e-44a6-b65b-ea2d1d5d91d7",
   "metadata": {},
   "outputs": [],
   "source": [
    "import polars as pl\n",
    "\n",
    "df = pl.DataFrame(cv.cv_results_)"
   ]
  },
  {
   "cell_type": "code",
   "execution_count": null,
   "id": "70e15264-6dd5-4897-b676-6604e78fffe7",
   "metadata": {},
   "outputs": [],
   "source": [
    "import altair as alt\n",
    "\n",
    "# Make the x-axis logarithmic\n",
    "alt.Chart(df).mark_line().encode(x=alt.X(\"param_alpha\").scale(type=\"log\"), y=\"mean_test_score\")"
   ]
  },
  {
   "cell_type": "markdown",
   "id": "8584a248-bfc0-435c-be7b-0e4b27fcca3f",
   "metadata": {},
   "source": [
    "## Enter Optuna\n",
    "\n",
    "The above works, but lets now consider a slightly different system: Optuna!"
   ]
  },
  {
   "cell_type": "code",
   "execution_count": null,
   "id": "c4ec5388",
   "metadata": {},
   "outputs": [],
   "source": [
    "! uv pip install optuna"
   ]
  },
  {
   "cell_type": "code",
   "execution_count": null,
   "id": "11be8c38",
   "metadata": {},
   "outputs": [],
   "source": [
    "import optuna\n",
    "\n",
    "def objective(trial: optuna.Trial):\n",
    "    x = trial.suggest_uniform('alpha', -10, 10)\n",
    "    return (x - 2) ** 2\n",
    "\n",
    "study = optuna.create_study(direction='minimize')"
   ]
  },
  {
   "cell_type": "code",
   "execution_count": null,
   "id": "9b47fe15",
   "metadata": {
    "scrolled": true
   },
   "outputs": [],
   "source": [
    "study.optimize(objective, n_trials=100)"
   ]
  },
  {
   "cell_type": "code",
   "execution_count": null,
   "id": "7dd9bd69",
   "metadata": {},
   "outputs": [],
   "source": [
    "study.best_trial"
   ]
  },
  {
   "cell_type": "code",
   "execution_count": null,
   "id": "f48283a5",
   "metadata": {},
   "outputs": [],
   "source": [
    "study.best_params"
   ]
  },
  {
   "cell_type": "code",
   "execution_count": null,
   "id": "fbe30631",
   "metadata": {},
   "outputs": [],
   "source": [
    "study.trials_dataframe()"
   ]
  },
  {
   "cell_type": "markdown",
   "id": "b4d8cbd2",
   "metadata": {},
   "source": [
    "Let's now do this but for scikit-learn. "
   ]
  },
  {
   "cell_type": "code",
   "execution_count": null,
   "id": "cd3ccc85",
   "metadata": {
    "scrolled": true
   },
   "outputs": [],
   "source": [
    "from sklearn.model_selection import cross_val_score\n",
    "\n",
    "def objective(trial: optuna.Trial):\n",
    "    alpha = trial.suggest_float('alpha', 1e-5, 1e5, log=True)\n",
    "    model = Ridge(alpha=alpha)\n",
    "    return cross_val_score(model, X, y, cv=3, scoring='neg_mean_squared_error').mean()\n",
    "\n",
    "study = optuna.create_study(storage=\"sqlite:///ridge-demo.db\", direction= 'maximize')\n",
    "study.optimize(objective, n_trials=100)"
   ]
  },
  {
   "cell_type": "code",
   "execution_count": null,
   "id": "082e7fd4",
   "metadata": {},
   "outputs": [],
   "source": [
    "trials_df = study.trials_dataframe()\n",
    "\n",
    "# Make the x-axis logarithmic\n",
    "alt.Chart(trials_df[['value', \"params_alpha\"]]).mark_line().encode(x=alt.X(\"params_alpha\").scale(type=\"log\"), y=\"value\")"
   ]
  },
  {
   "cell_type": "code",
   "execution_count": null,
   "id": "4e8e2198",
   "metadata": {},
   "outputs": [],
   "source": [
    "from optuna.visualization import plot_optimization_history\n",
    "\n",
    "plot_optimization_history(study)"
   ]
  },
  {
   "cell_type": "markdown",
   "id": "5537cb5c",
   "metadata": {},
   "source": [
    "There is some more fancy stuff that it can do though. "
   ]
  },
  {
   "cell_type": "code",
   "execution_count": null,
   "id": "6541185f",
   "metadata": {},
   "outputs": [],
   "source": [
    "from sklearn.model_selection import cross_val_score\n",
    "from optuna.artifacts import upload_artifact, download_artifact, FileSystemArtifactStore\n",
    "from pathlib import Path\n",
    "from skops.io import dump\n",
    "from uuid import uuid4\n",
    "\n",
    "artifacts_path = Path(\"./artifacts\")\n",
    "artifacts_path.mkdir(exist_ok=True)\n",
    "artifact_store = FileSystemArtifactStore(base_path=artifacts_path)\n",
    "\n",
    "def objective(trial: optuna.Trial):\n",
    "    alpha = trial.suggest_float('alpha', 1e-5, 1e5, log=True)\n",
    "    model = Ridge(alfpha=alpha)\n",
    "    score = cross_val_score(model, X, y, cv=3, scoring='neg_mean_squared_error').mean()\n",
    "    model.fit(X, y)\n",
    "    file_path = f\"model_{trial.number}.skops\"\n",
    "    dump(model, file_path)\n",
    "    artifact_id = upload_artifact(artifact_store=artifact_store, file_path=file_path, study_or_trial=trial)\n",
    "    trial.set_user_attr(\"artifact_id\", artifact_id)\n",
    "    return score\n",
    "\n",
    "study = optuna.create_study(storage=\"sqlite:///ridge2.db\", direction= 'maximize')\n",
    "study.optimize(objective, n_trials=100)"
   ]
  },
  {
   "cell_type": "code",
   "execution_count": null,
   "id": "82d343cf",
   "metadata": {},
   "outputs": [],
   "source": [
    "study.trials[0]"
   ]
  },
  {
   "cell_type": "code",
   "execution_count": null,
   "id": "27a004e9",
   "metadata": {},
   "outputs": [],
   "source": [
    "best_artifact_id = study.best_trial.user_attrs.get(\"artifact_id\")\n",
    "download_artifact(artifact_store=artifact_store, artifact_id=best_artifact_id, file_path=\"best_model.skops\")"
   ]
  },
  {
   "cell_type": "code",
   "execution_count": null,
   "id": "6ae6f138",
   "metadata": {},
   "outputs": [],
   "source": [
    "from skops.io import load\n",
    "\n",
    "load(\"best_model.skops\")"
   ]
  },
  {
   "cell_type": "markdown",
   "id": "961754d0-998e-4568-a0e1-19a607c3e2c5",
   "metadata": {},
   "source": [
    "But lets now see if we can influence the search, because we have not been doing any of that yet. \n",
    "\n",
    "Lets start by talking about pruning. "
   ]
  },
  {
   "cell_type": "code",
   "execution_count": null,
   "id": "a6d367fa-bc73-466c-b305-a59c3d37ea14",
   "metadata": {},
   "outputs": [],
   "source": [
    "import numpy as np\n",
    "from sklearn.datasets import load_iris\n",
    "from sklearn.linear_model import SGDClassifier\n",
    "from sklearn.model_selection import train_test_split\n",
    "\n",
    "import optuna\n",
    "\n",
    "X, y = load_iris(return_X_y=True)\n",
    "X_train, X_valid, y_train, y_valid = train_test_split(X, y)\n",
    "classes = np.unique(y)\n",
    "\n",
    "\n",
    "def objective(trial):\n",
    "    alpha = trial.suggest_float(\"alpha\", 0.0, 1.0)\n",
    "    clf = SGDClassifier(alpha=alpha)\n",
    "    n_train_iter = 100\n",
    "\n",
    "    for step in range(n_train_iter):\n",
    "        clf.partial_fit(X_train, y_train, classes=classes)\n",
    "\n",
    "        intermediate_value = clf.score(X_valid, y_valid)\n",
    "        trial.report(intermediate_value, step)\n",
    "\n",
    "        if trial.should_prune():\n",
    "            raise optuna.TrialPruned()\n",
    "\n",
    "    return clf.score(X_valid, y_valid)\n",
    "\n",
    "\n",
    "study = optuna.create_study(\n",
    "    direction=\"maximize\",\n",
    "    pruner=optuna.pruners.MedianPruner(\n",
    "        n_startup_trials=5, n_warmup_steps=30, interval_steps=10\n",
    "    ),\n",
    ")\n",
    "study.optimize(objective, n_trials=20)"
   ]
  },
  {
   "cell_type": "code",
   "execution_count": null,
   "id": "45bf4193-2168-4a71-8135-95f0bdbacf9f",
   "metadata": {},
   "outputs": [],
   "source": [
    "import numpy as np\n",
    "from sklearn.datasets import load_iris\n",
    "from sklearn.linear_model import SGDClassifier\n",
    "from sklearn.model_selection import train_test_split\n",
    "\n",
    "import optuna\n",
    "\n",
    "X, y = load_iris(return_X_y=True)\n",
    "X_train, X_valid, y_train, y_valid = train_test_split(X, y)\n",
    "classes = np.unique(y)\n",
    "\n",
    "\n",
    "def objective(trial):\n",
    "    alpha = trial.suggest_float(\"alpha\", 0.0, 1.0)\n",
    "    clf = SGDClassifier(alpha=alpha)\n",
    "    n_train_iter = 100\n",
    "\n",
    "    for step in range(n_train_iter):\n",
    "        clf.partial_fit(X_train, y_train, classes=classes)\n",
    "\n",
    "        intermediate_value = clf.score(X_valid, y_valid)\n",
    "        trial.report(intermediate_value, step)\n",
    "\n",
    "        if trial.should_prune():\n",
    "            raise optuna.TrialPruned()\n",
    "\n",
    "    return clf.score(X_valid, y_valid)\n",
    "\n",
    "\n",
    "study = optuna.create_study(\n",
    "    direction=\"maximize\",\n",
    ")\n",
    "study.optimize(objective, n_trials=20)"
   ]
  },
  {
   "cell_type": "markdown",
   "id": "48661420-8339-4f6b-a366-12e0ca6e4e62",
   "metadata": {},
   "source": [
    "But we can also adapt the search here."
   ]
  },
  {
   "cell_type": "code",
   "execution_count": null,
   "id": "05a9a279-45aa-4c4c-b4c3-a6b0ae5520a4",
   "metadata": {
    "scrolled": true
   },
   "outputs": [],
   "source": [
    "import optuna\n",
    "from optuna.samplers import TPESampler, RandomSampler\n",
    "\n",
    "\n",
    "def objective(trial):\n",
    "    x = trial.suggest_float(\"x\", -10, 10)\n",
    "    y = trial.suggest_float(\"y\", -10, 10)\n",
    "    z = trial.suggest_float(\"z\", -10, 10)\n",
    "    return x**2 + y**2 + z**2\n",
    "\n",
    "n_trials = 500\n",
    "\n",
    "study_tpe = optuna.create_study(sampler=TPESampler(n_startup_trials=50))\n",
    "study_tpe.optimize(objective, n_trials=n_trials)"
   ]
  },
  {
   "cell_type": "code",
   "execution_count": null,
   "id": "f07e13ad-ecf6-4892-b450-304b6e567412",
   "metadata": {},
   "outputs": [],
   "source": [
    "import pandas as pd\n",
    "\n",
    "pltr = pd.concat([\n",
    "    study_norm.trials_dataframe().assign(kind=\"norm\"),\n",
    "    study_tpe.trials_dataframe().assign(kind=\"tpe\"),\n",
    "])[[\"number\", \"value\", \"kind\"]]\n",
    "\n",
    "\n",
    "alt.Chart(pltr).mark_line().encode(x=\"number\", y=\"value\", color=\"kind\").interactive().properties(width=750)"
   ]
  },
  {
   "cell_type": "code",
   "execution_count": null,
   "id": "5c460e62-7342-41c1-8be6-5f64cbe42ed1",
   "metadata": {},
   "outputs": [],
   "source": [
    "optuna.visualization.plot_parallel_coordinate(study_norm)"
   ]
  },
  {
   "cell_type": "code",
   "execution_count": null,
   "id": "f0c5d6f8-f7d1-4b5d-a079-58d8c25d8cf0",
   "metadata": {},
   "outputs": [],
   "source": [
    "optuna.visualization.plot_parallel_coordinate(study_tpe)"
   ]
  },
  {
   "cell_type": "code",
   "execution_count": null,
   "id": "0fa99f4a-d3f4-403f-9fd7-3bcf103b9975",
   "metadata": {},
   "outputs": [],
   "source": [
    "a"
   ]
  }
 ],
 "metadata": {
  "kernelspec": {
   "display_name": "Python 3 (ipykernel)",
   "language": "python",
   "name": "python3"
  },
  "language_info": {
   "codemirror_mode": {
    "name": "ipython",
    "version": 3
   },
   "file_extension": ".py",
   "mimetype": "text/x-python",
   "name": "python",
   "nbconvert_exporter": "python",
   "pygments_lexer": "ipython3",
   "version": "3.12.7"
  }
 },
 "nbformat": 4,
 "nbformat_minor": 5
}
