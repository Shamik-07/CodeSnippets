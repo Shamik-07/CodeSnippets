{
 "cells": [
  {
   "cell_type": "markdown",
   "id": "4432ae22",
   "metadata": {},
   "source": [
    "# 📝 Exercise M3.01\n",
    "\n",
    "The goal is to write an exhaustive search to find the best parameters\n",
    "combination maximizing the model generalization performance.\n",
    "\n",
    "Here we use a small subset of the Adult Census dataset to make the code\n",
    "faster to execute. Once your code works on the small subset, try to\n",
    "change `train_size` to a larger value (e.g. 0.8 for 80% instead of\n",
    "20%)."
   ]
  },
  {
   "cell_type": "code",
   "execution_count": 1,
   "id": "f16cd065",
   "metadata": {},
   "outputs": [],
   "source": [
    "import pandas as pd\n",
    "\n",
    "from sklearn.model_selection import train_test_split\n",
    "\n",
    "adult_census = pd.read_csv(\"../datasets/adult-census.csv\")\n",
    "\n",
    "target_name = \"class\"\n",
    "target = adult_census[target_name]\n",
    "data = adult_census.drop(columns=[target_name, \"education-num\"])\n",
    "\n",
    "data_train, data_test, target_train, target_test = train_test_split(\n",
    "    data, target, train_size=0.2, random_state=42)"
   ]
  },
  {
   "cell_type": "code",
   "execution_count": 2,
   "id": "c02536ce",
   "metadata": {},
   "outputs": [],
   "source": [
    "from sklearn.compose import ColumnTransformer\n",
    "from sklearn.compose import make_column_selector as selector\n",
    "from sklearn.preprocessing import OrdinalEncoder\n",
    "\n",
    "categorical_preprocessor = OrdinalEncoder(handle_unknown=\"use_encoded_value\",\n",
    "                                          unknown_value=-1)\n",
    "preprocessor = ColumnTransformer(\n",
    "    [('cat_preprocessor', categorical_preprocessor,\n",
    "      selector(dtype_include=object))],\n",
    "    remainder='passthrough', sparse_threshold=0)\n",
    "\n",
    "from sklearn.ensemble import HistGradientBoostingClassifier\n",
    "from sklearn.pipeline import Pipeline\n",
    "\n",
    "model = Pipeline([\n",
    "    (\"preprocessor\", preprocessor),\n",
    "    (\"classifier\", HistGradientBoostingClassifier(random_state=42))\n",
    "])"
   ]
  },
  {
   "cell_type": "markdown",
   "id": "a796f12b",
   "metadata": {},
   "source": [
    "\n",
    "Use the previously defined model (called `model`) and using two nested `for`\n",
    "loops, make a search of the best combinations of the `learning_rate` and\n",
    "`max_leaf_nodes` parameters. In this regard, you will need to train and test\n",
    "the model by setting the parameters. The evaluation of the model should be\n",
    "performed using `cross_val_score` on the training set. We will use the\n",
    "following parameters search:\n",
    "- `learning_rate` for the values 0.01, 0.1, 1 and 10. This parameter controls\n",
    "  the ability of a new tree to correct the error of the previous sequence of\n",
    "  trees\n",
    "- `max_leaf_nodes` for the values 3, 10, 30. This parameter controls the\n",
    "  depth of each tree."
   ]
  },
  {
   "cell_type": "code",
   "execution_count": 3,
   "id": "397bd7ce",
   "metadata": {
    "scrolled": true
   },
   "outputs": [
    {
     "data": {
      "text/plain": [
       "{'memory': None,\n",
       " 'steps': [('preprocessor',\n",
       "   ColumnTransformer(remainder='passthrough', sparse_threshold=0,\n",
       "                     transformers=[('cat_preprocessor',\n",
       "                                    OrdinalEncoder(handle_unknown='use_encoded_value',\n",
       "                                                   unknown_value=-1),\n",
       "                                    <sklearn.compose._column_transformer.make_column_selector object at 0x7fb6dc8e38b0>)])),\n",
       "  ('classifier', HistGradientBoostingClassifier(random_state=42))],\n",
       " 'verbose': False,\n",
       " 'preprocessor': ColumnTransformer(remainder='passthrough', sparse_threshold=0,\n",
       "                   transformers=[('cat_preprocessor',\n",
       "                                  OrdinalEncoder(handle_unknown='use_encoded_value',\n",
       "                                                 unknown_value=-1),\n",
       "                                  <sklearn.compose._column_transformer.make_column_selector object at 0x7fb6dc8e38b0>)]),\n",
       " 'classifier': HistGradientBoostingClassifier(random_state=42),\n",
       " 'preprocessor__n_jobs': None,\n",
       " 'preprocessor__remainder': 'passthrough',\n",
       " 'preprocessor__sparse_threshold': 0,\n",
       " 'preprocessor__transformer_weights': None,\n",
       " 'preprocessor__transformers': [('cat_preprocessor',\n",
       "   OrdinalEncoder(handle_unknown='use_encoded_value', unknown_value=-1),\n",
       "   <sklearn.compose._column_transformer.make_column_selector at 0x7fb6dc8e38b0>)],\n",
       " 'preprocessor__verbose': False,\n",
       " 'preprocessor__verbose_feature_names_out': True,\n",
       " 'preprocessor__cat_preprocessor': OrdinalEncoder(handle_unknown='use_encoded_value', unknown_value=-1),\n",
       " 'preprocessor__cat_preprocessor__categories': 'auto',\n",
       " 'preprocessor__cat_preprocessor__dtype': numpy.float64,\n",
       " 'preprocessor__cat_preprocessor__handle_unknown': 'use_encoded_value',\n",
       " 'preprocessor__cat_preprocessor__unknown_value': -1,\n",
       " 'classifier__categorical_features': None,\n",
       " 'classifier__early_stopping': 'auto',\n",
       " 'classifier__l2_regularization': 0.0,\n",
       " 'classifier__learning_rate': 0.1,\n",
       " 'classifier__loss': 'auto',\n",
       " 'classifier__max_bins': 255,\n",
       " 'classifier__max_depth': None,\n",
       " 'classifier__max_iter': 100,\n",
       " 'classifier__max_leaf_nodes': 31,\n",
       " 'classifier__min_samples_leaf': 20,\n",
       " 'classifier__monotonic_cst': None,\n",
       " 'classifier__n_iter_no_change': 10,\n",
       " 'classifier__random_state': 42,\n",
       " 'classifier__scoring': 'loss',\n",
       " 'classifier__tol': 1e-07,\n",
       " 'classifier__validation_fraction': 0.1,\n",
       " 'classifier__verbose': 0,\n",
       " 'classifier__warm_start': False}"
      ]
     },
     "execution_count": 3,
     "metadata": {},
     "output_type": "execute_result"
    }
   ],
   "source": [
    "model.get_params()"
   ]
  },
  {
   "cell_type": "code",
   "execution_count": 11,
   "id": "41a9ad6f",
   "metadata": {
    "scrolled": true
   },
   "outputs": [
    {
     "name": "stdout",
     "output_type": "stream",
     "text": [
      "For lr=0.01 and max_leaf_nodes=3 the mean cross validated score for the training set is:0.790 +/- 0.004\n",
      "For lr=0.01 and max_leaf_nodes=10 the mean cross validated score for the training set is:0.814 +/- 0.002\n",
      "For lr=0.01 and max_leaf_nodes=30 the mean cross validated score for the training set is:0.842 +/- 0.007\n",
      "For lr=0.1 and max_leaf_nodes=3 the mean cross validated score for the training set is:0.849 +/- 0.004\n",
      "For lr=0.1 and max_leaf_nodes=10 the mean cross validated score for the training set is:0.863 +/- 0.005\n",
      "For lr=0.1 and max_leaf_nodes=30 the mean cross validated score for the training set is:0.861 +/- 0.006\n",
      "For lr=1.0 and max_leaf_nodes=3 the mean cross validated score for the training set is:0.854 +/- 0.006\n",
      "For lr=1.0 and max_leaf_nodes=10 the mean cross validated score for the training set is:0.837 +/- 0.008\n",
      "For lr=1.0 and max_leaf_nodes=30 the mean cross validated score for the training set is:0.819 +/- 0.013\n",
      "For lr=10.0 and max_leaf_nodes=3 the mean cross validated score for the training set is:0.288 +/- 0.008\n",
      "For lr=10.0 and max_leaf_nodes=10 the mean cross validated score for the training set is:0.646 +/- 0.145\n",
      "For lr=10.0 and max_leaf_nodes=30 the mean cross validated score for the training set is:0.534 +/- 0.191\n"
     ]
    }
   ],
   "source": [
    "# Write your code here.\n",
    "from sklearn.model_selection import cross_val_score\n",
    "import numpy as np\n",
    "\n",
    "\n",
    "lr = np.logspace(-2,1,num=4)\n",
    "max_leaf_nodes = [3, 10, 30]\n",
    "\n",
    "for each_lr in lr:\n",
    "    model.set_params(classifier__learning_rate=each_lr)\n",
    "    for each_max_leaf_node in max_leaf_nodes:\n",
    "        model.set_params(classifier__max_leaf_nodes=each_max_leaf_node)\n",
    "        cv_results = cross_val_score(model, data_train, target_train, error_score='raise')\n",
    "        print(f\"For lr={each_lr} and max_leaf_nodes={each_max_leaf_node}\"\n",
    "        f\" the mean cross validated score for the training set is:{cv_results.mean():.3f}\" \n",
    "              f\" +/- {cv_results.std():.3f}\")"
   ]
  },
  {
   "cell_type": "markdown",
   "id": "1a6540cb",
   "metadata": {},
   "source": [
    "Better Implementation the earlier one"
   ]
  },
  {
   "cell_type": "code",
   "execution_count": null,
   "id": "b4b5ae9c",
   "metadata": {},
   "outputs": [],
   "source": [
    "from sklearn.model_selection import cross_val_score\n",
    "\n",
    "learning_rate = [0.01, 0.1, 1, 10]\n",
    "max_leaf_nodes = [3, 10, 30]\n",
    "\n",
    "best_score = 0\n",
    "best_params = {}\n",
    "for lr in learning_rate:\n",
    "    for mln in max_leaf_nodes:\n",
    "        print(f\"Evaluating model with learning rate {lr:.3f}\"\n",
    "              f\" and max leaf nodes {mln}... \", end=\"\")\n",
    "        model.set_params(\n",
    "            classifier__learning_rate=lr,\n",
    "            classifier__max_leaf_nodes=mln\n",
    "        )\n",
    "        scores = cross_val_score(model, data_train, target_train, cv=2)\n",
    "        mean_score = scores.mean()\n",
    "        print(f\"score: {mean_score:.3f}\")\n",
    "        if mean_score > best_score:\n",
    "            best_score = mean_score\n",
    "            best_params = {'learning-rate': lr, 'max leaf nodes': mln}\n",
    "            print(f\"Found new best model with score {best_score:.3f}!\")\n",
    "\n",
    "print(f\"The best accuracy obtained is {best_score:.3f}\")\n",
    "print(f\"The best parameters found are:\\n {best_params}\")"
   ]
  },
  {
   "cell_type": "markdown",
   "id": "bf43db3b",
   "metadata": {},
   "source": [
    "\n",
    "Now use the test set to score the model using the best parameters\n",
    "that we found using cross-validation in the training set."
   ]
  },
  {
   "cell_type": "code",
   "execution_count": 6,
   "id": "ac798a43",
   "metadata": {},
   "outputs": [
    {
     "name": "stdout",
     "output_type": "stream",
     "text": [
      "The test set score for lr=0.1 and max_leaf_nodes=30 is 0.875 +/- 0.004\n"
     ]
    }
   ],
   "source": [
    "# Write your code here.\n",
    "model.set_params(classifier__learning_rate=0.1,\n",
    "                classifier__max_leaf_nodes=30)\n",
    "cv_results= cross_val_score(model, data_test, target_test)\n",
    "print(f\"The test set score for lr=0.1 and max_leaf_nodes=30 is {cv_results.mean():.3f} +/- {cv_results.std():.3f}\")"
   ]
  },
  {
   "cell_type": "markdown",
   "id": "2c7ff4a5",
   "metadata": {},
   "source": [
    "Better Implementation the earlier one"
   ]
  },
  {
   "cell_type": "code",
   "execution_count": null,
   "id": "61602758",
   "metadata": {},
   "outputs": [],
   "source": [
    "best_lr = best_params['learning-rate']\n",
    "best_mln = best_params['max leaf nodes']\n",
    "\n",
    "model.set_params(classifier__learning_rate=best_lr,\n",
    "                 classifier__max_leaf_nodes=best_mln)\n",
    "model.fit(data_train, target_train)\n",
    "test_score = model.score(data_test, target_test)\n",
    "\n",
    "print(f\"Test score after the parameter tuning: {test_score:.3f}\")"
   ]
  }
 ],
 "metadata": {
  "jupytext": {
   "encoding": "# -*- coding: utf-8 -*-",
   "main_language": "python"
  },
  "kernelspec": {
   "display_name": "Python 3 (ipykernel)",
   "language": "python",
   "name": "python3"
  },
  "language_info": {
   "codemirror_mode": {
    "name": "ipython",
    "version": 3
   },
   "file_extension": ".py",
   "mimetype": "text/x-python",
   "name": "python",
   "nbconvert_exporter": "python",
   "pygments_lexer": "ipython3",
   "version": "3.9.10"
  },
  "nbreset": "https://raw.githubusercontent.com/INRIA/scikit-learn-mooc/main/notebooks/parameter_tuning_ex_02.ipynb"
 },
 "nbformat": 4,
 "nbformat_minor": 5
}
