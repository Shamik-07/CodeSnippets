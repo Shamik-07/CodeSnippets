{
 "cells": [
  {
   "cell_type": "markdown",
   "id": "65202068",
   "metadata": {},
   "source": [
    "# 📝 Exercise M3.02\n",
    "\n",
    "The goal is to find the best set of hyperparameters which maximize the\n",
    "generalization performance on a training set.\n",
    "\n",
    "Here again with limit the size of the training set to make computation\n",
    "run faster. Feel free to increase the `train_size` value if your computer\n",
    "is powerful enough."
   ]
  },
  {
   "cell_type": "code",
   "execution_count": 1,
   "id": "b6f71e80",
   "metadata": {},
   "outputs": [],
   "source": [
    "\n",
    "import numpy as np\n",
    "import pandas as pd\n",
    "\n",
    "adult_census = pd.read_csv(\"../datasets/adult-census.csv\")\n",
    "\n",
    "target_name = \"class\"\n",
    "target = adult_census[target_name]\n",
    "data = adult_census.drop(columns=[target_name, \"education-num\"])\n",
    "from sklearn.model_selection import train_test_split\n",
    "\n",
    "data_train, data_test, target_train, target_test = train_test_split(\n",
    "    data, target, train_size=0.2, random_state=42)"
   ]
  },
  {
   "cell_type": "markdown",
   "id": "647dd711",
   "metadata": {
    "lines_to_next_cell": 0
   },
   "source": [
    "In this exercise, we will progressively define the classification pipeline\n",
    "and later tune its hyperparameters.\n",
    "\n",
    "Our pipeline should:\n",
    "* preprocess the categorical columns using a `OneHotEncoder` and use a\n",
    "  `StandardScaler` to normalize the numerical data.\n",
    "* use a `LogisticRegression` as a predictive model.\n",
    "\n",
    "Start by defining the columns and the preprocessing pipelines to be applied\n",
    "on each group of columns."
   ]
  },
  {
   "cell_type": "code",
   "execution_count": 3,
   "id": "4a30fcf0",
   "metadata": {},
   "outputs": [],
   "source": [
    "from sklearn.compose import make_column_selector as selector\n",
    "\n",
    "# Write your code here.\n",
    "categorical_selector = selector(dtype_include=object)\n",
    "numerical_selector = selector(dtype_exclude=object)\n",
    "\n",
    "categorical_columns = categorical_selector(data)\n",
    "numerical_columns = numerical_selector(data)"
   ]
  },
  {
   "cell_type": "code",
   "execution_count": 4,
   "id": "b620e2c0",
   "metadata": {},
   "outputs": [],
   "source": [
    "from sklearn.preprocessing import OneHotEncoder, StandardScaler\n",
    "\n",
    "# Write your code here.\n",
    "cat_processor = OneHotEncoder(handle_unknown='ignore')\n",
    "num_processor = StandardScaler()"
   ]
  },
  {
   "cell_type": "markdown",
   "id": "39123f7f",
   "metadata": {},
   "source": [
    "Subsequently, create a `ColumnTransformer` to redirect the specific columns\n",
    "a preprocessing pipeline."
   ]
  },
  {
   "cell_type": "code",
   "execution_count": 7,
   "id": "fdca8535",
   "metadata": {},
   "outputs": [],
   "source": [
    "from sklearn.compose import ColumnTransformer\n",
    "\n",
    "# Write your code here.\n",
    "preprocessor = ColumnTransformer(\n",
    "[\n",
    "    ('cat_process', cat_processor, categorical_columns),\n",
    "    ('num_process', num_processor, numerical_columns)\n",
    "])"
   ]
  },
  {
   "cell_type": "markdown",
   "id": "48d09fa1",
   "metadata": {},
   "source": [
    "Assemble the final pipeline by combining the above preprocessor\n",
    "with a logistic regression classifier. Force the maximum number of\n",
    "iterations to `10_000` to ensure that the model will converge."
   ]
  },
  {
   "cell_type": "code",
   "execution_count": 8,
   "id": "aa738464",
   "metadata": {},
   "outputs": [],
   "source": [
    "from sklearn.pipeline import make_pipeline\n",
    "from sklearn.linear_model import LogisticRegression\n",
    "\n",
    "# Write your code here.\n",
    "model = make_pipeline(preprocessor, LogisticRegression(max_iter=11_000))"
   ]
  },
  {
   "cell_type": "markdown",
   "id": "f8f12a0e",
   "metadata": {},
   "source": [
    "Use `RandomizedSearchCV` with `n_iter=20` to find the best set of\n",
    "hyperparameters by tuning the following parameters of the `model`:\n",
    "\n",
    "- the parameter `C` of the `LogisticRegression` with values ranging from\n",
    "  0.001 to 10. You can use a log-uniform distribution\n",
    "  (i.e. `scipy.stats.loguniform`);\n",
    "- the parameter `with_mean` of the `StandardScaler` with possible values\n",
    "  `True` or `False`;\n",
    "- the parameter `with_std` of the `StandardScaler` with possible values\n",
    "  `True` or `False`.\n",
    "\n",
    "Once the computation has completed, print the best combination of parameters\n",
    "stored in the `best_params_` attribute."
   ]
  },
  {
   "cell_type": "code",
   "execution_count": 9,
   "id": "94cc57bd",
   "metadata": {
    "scrolled": true
   },
   "outputs": [
    {
     "data": {
      "text/plain": [
       "{'memory': None,\n",
       " 'steps': [('columntransformer',\n",
       "   ColumnTransformer(transformers=[('cat_process',\n",
       "                                    OneHotEncoder(handle_unknown='ignore'),\n",
       "                                    ['workclass', 'education', 'marital-status',\n",
       "                                     'occupation', 'relationship', 'race', 'sex',\n",
       "                                     'native-country']),\n",
       "                                   ('num_process', StandardScaler(),\n",
       "                                    ['age', 'capital-gain', 'capital-loss',\n",
       "                                     'hours-per-week'])])),\n",
       "  ('logisticregression', LogisticRegression(max_iter=11000))],\n",
       " 'verbose': False,\n",
       " 'columntransformer': ColumnTransformer(transformers=[('cat_process',\n",
       "                                  OneHotEncoder(handle_unknown='ignore'),\n",
       "                                  ['workclass', 'education', 'marital-status',\n",
       "                                   'occupation', 'relationship', 'race', 'sex',\n",
       "                                   'native-country']),\n",
       "                                 ('num_process', StandardScaler(),\n",
       "                                  ['age', 'capital-gain', 'capital-loss',\n",
       "                                   'hours-per-week'])]),\n",
       " 'logisticregression': LogisticRegression(max_iter=11000),\n",
       " 'columntransformer__n_jobs': None,\n",
       " 'columntransformer__remainder': 'drop',\n",
       " 'columntransformer__sparse_threshold': 0.3,\n",
       " 'columntransformer__transformer_weights': None,\n",
       " 'columntransformer__transformers': [('cat_process',\n",
       "   OneHotEncoder(handle_unknown='ignore'),\n",
       "   ['workclass',\n",
       "    'education',\n",
       "    'marital-status',\n",
       "    'occupation',\n",
       "    'relationship',\n",
       "    'race',\n",
       "    'sex',\n",
       "    'native-country']),\n",
       "  ('num_process',\n",
       "   StandardScaler(),\n",
       "   ['age', 'capital-gain', 'capital-loss', 'hours-per-week'])],\n",
       " 'columntransformer__verbose': False,\n",
       " 'columntransformer__verbose_feature_names_out': True,\n",
       " 'columntransformer__cat_process': OneHotEncoder(handle_unknown='ignore'),\n",
       " 'columntransformer__num_process': StandardScaler(),\n",
       " 'columntransformer__cat_process__categories': 'auto',\n",
       " 'columntransformer__cat_process__drop': None,\n",
       " 'columntransformer__cat_process__dtype': numpy.float64,\n",
       " 'columntransformer__cat_process__handle_unknown': 'ignore',\n",
       " 'columntransformer__cat_process__sparse': True,\n",
       " 'columntransformer__num_process__copy': True,\n",
       " 'columntransformer__num_process__with_mean': True,\n",
       " 'columntransformer__num_process__with_std': True,\n",
       " 'logisticregression__C': 1.0,\n",
       " 'logisticregression__class_weight': None,\n",
       " 'logisticregression__dual': False,\n",
       " 'logisticregression__fit_intercept': True,\n",
       " 'logisticregression__intercept_scaling': 1,\n",
       " 'logisticregression__l1_ratio': None,\n",
       " 'logisticregression__max_iter': 11000,\n",
       " 'logisticregression__multi_class': 'auto',\n",
       " 'logisticregression__n_jobs': None,\n",
       " 'logisticregression__penalty': 'l2',\n",
       " 'logisticregression__random_state': None,\n",
       " 'logisticregression__solver': 'lbfgs',\n",
       " 'logisticregression__tol': 0.0001,\n",
       " 'logisticregression__verbose': 0,\n",
       " 'logisticregression__warm_start': False}"
      ]
     },
     "execution_count": 9,
     "metadata": {},
     "output_type": "execute_result"
    }
   ],
   "source": [
    "model.get_params()"
   ]
  },
  {
   "cell_type": "code",
   "execution_count": 10,
   "id": "5d2574d4",
   "metadata": {},
   "outputs": [
    {
     "name": "stdout",
     "output_type": "stream",
     "text": [
      "Fitting 5 folds for each of 20 candidates, totalling 100 fits\n"
     ]
    },
    {
     "data": {
      "text/plain": [
       "{'columntransformer__num_process__with_mean': False,\n",
       " 'columntransformer__num_process__with_std': False,\n",
       " 'logisticregression__C': 1.4789056063421475}"
      ]
     },
     "execution_count": 10,
     "metadata": {},
     "output_type": "execute_result"
    }
   ],
   "source": [
    "from sklearn.model_selection import RandomizedSearchCV\n",
    "from scipy.stats import loguniform\n",
    "\n",
    "# Write your code here.\n",
    "params_dict = {\n",
    "    'columntransformer__num_process__with_mean': [True, False],\n",
    "    'columntransformer__num_process__with_std': [True, False],\n",
    "    'logisticregression__C': loguniform(1e-3, 10)\n",
    "}\n",
    "\n",
    "model_random_search = RandomizedSearchCV(model,\n",
    "                                        param_distributions= params_dict,\n",
    "                                        n_iter=20, error_score='raise',\n",
    "                                        n_jobs=-1, verbose=1)\n",
    "model_random_search.fit(data_train, target_train)\n",
    "model_random_search.best_params_"
   ]
  }
 ],
 "metadata": {
  "jupytext": {
   "encoding": "# -*- coding: utf-8 -*-",
   "main_language": "python"
  },
  "kernelspec": {
   "display_name": "Python 3 (ipykernel)",
   "language": "python",
   "name": "python3"
  },
  "language_info": {
   "codemirror_mode": {
    "name": "ipython",
    "version": 3
   },
   "file_extension": ".py",
   "mimetype": "text/x-python",
   "name": "python",
   "nbconvert_exporter": "python",
   "pygments_lexer": "ipython3",
   "version": "3.9.10"
  },
  "nbreset": "https://raw.githubusercontent.com/INRIA/scikit-learn-mooc/main/notebooks/parameter_tuning_ex_03.ipynb"
 },
 "nbformat": 4,
 "nbformat_minor": 5
}
