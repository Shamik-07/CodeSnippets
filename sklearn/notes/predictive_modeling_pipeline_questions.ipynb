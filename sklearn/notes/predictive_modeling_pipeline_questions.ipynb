{
 "cells": [
  {
   "cell_type": "code",
   "execution_count": 1,
   "metadata": {},
   "outputs": [],
   "source": [
    "import pandas as pd\n",
    "ames_housing = pd.read_csv(\"../datasets/ames_housing_no_missing.csv\")\n",
    "\n",
    "target_name = \"SalePrice\"\n",
    "data, target = ames_housing.drop(columns=target_name), ames_housing[target_name]\n",
    "target = (target > 200_000).astype(int)"
   ]
  },
  {
   "cell_type": "code",
   "execution_count": 8,
   "metadata": {},
   "outputs": [],
   "source": [
    "numerical_features = [\n",
    "  \"LotFrontage\", \"LotArea\", \"MasVnrArea\", \"BsmtFinSF1\", \"BsmtFinSF2\",\n",
    "  \"BsmtUnfSF\", \"TotalBsmtSF\", \"1stFlrSF\", \"2ndFlrSF\", \"LowQualFinSF\",\n",
    "  \"GrLivArea\", \"BedroomAbvGr\", \"KitchenAbvGr\", \"TotRmsAbvGrd\", \"Fireplaces\",\n",
    "  \"GarageCars\", \"GarageArea\", \"WoodDeckSF\", \"OpenPorchSF\", \"EnclosedPorch\",\n",
    "  \"3SsnPorch\", \"ScreenPorch\", \"PoolArea\", \"MiscVal\",\n",
    "]"
   ]
  },
  {
   "cell_type": "code",
   "execution_count": 12,
   "metadata": {},
   "outputs": [],
   "source": [
    "categorical_features = data.columns.difference(numerical_features).tolist()"
   ]
  },
  {
   "cell_type": "code",
   "execution_count": 10,
   "metadata": {},
   "outputs": [
    {
     "data": {
      "text/plain": [
       "0.891780821917808"
      ]
     },
     "execution_count": 10,
     "metadata": {},
     "output_type": "execute_result"
    }
   ],
   "source": [
    "from sklearn.model_selection import cross_validate\n",
    "from sklearn.pipeline import make_pipeline\n",
    "from sklearn.preprocessing import StandardScaler\n",
    "from sklearn.linear_model import LogisticRegression\n",
    "\n",
    "model = make_pipeline(StandardScaler(),\n",
    "                LogisticRegression())\n",
    "numerical_data = data.loc[:,numerical_features]\n",
    "cv_results = cross_validate(model, numerical_data,target,cv=10,\n",
    "                           error_score='raise')\n",
    "score = cv_results['test_score']\n",
    "score.mean()"
   ]
  },
  {
   "cell_type": "code",
   "execution_count": 11,
   "metadata": {},
   "outputs": [
    {
     "data": {
      "text/plain": [
       "array([0.9109589 , 0.89041096, 0.9109589 , 0.88356164, 0.90410959,\n",
       "       0.88356164, 0.88356164, 0.87671233, 0.89726027, 0.87671233])"
      ]
     },
     "execution_count": 11,
     "metadata": {},
     "output_type": "execute_result"
    }
   ],
   "source": [
    "score"
   ]
  },
  {
   "cell_type": "code",
   "execution_count": 16,
   "metadata": {},
   "outputs": [
    {
     "data": {
      "text/plain": [
       "array([0.95890411, 0.90410959, 0.89041096, 0.92465753, 0.9109589 ,\n",
       "       0.93835616, 0.90410959, 0.91780822, 0.92465753, 0.89726027])"
      ]
     },
     "execution_count": 16,
     "metadata": {},
     "output_type": "execute_result"
    }
   ],
   "source": [
    "from sklearn.preprocessing import OneHotEncoder\n",
    "from sklearn.compose import ColumnTransformer\n",
    "\n",
    "preprocessor = ColumnTransformer([\n",
    "    ('numerical',StandardScaler(),numerical_features),\n",
    "    ('categorical',OneHotEncoder(handle_unknown='ignore'),\n",
    "    categorical_features)\n",
    "])\n",
    "model_w_all_features = make_pipeline(preprocessor,\n",
    "                                    LogisticRegression(max_iter=1000))\n",
    "cv_results_all_features = cross_validate(model_w_all_features,\n",
    "                                        data,target,cv=10)\n",
    "all_features_score = cv_results_all_features['test_score']\n",
    "all_features_score"
   ]
  },
  {
   "cell_type": "code",
   "execution_count": 26,
   "metadata": {},
   "outputs": [
    {
     "data": {
      "text/plain": [
       "[(1, 0.9589, 0.911),\n",
       " (2, 0.9041, 0.8904),\n",
       " (3, 0.8904, 0.911),\n",
       " (4, 0.9247, 0.8836),\n",
       " (5, 0.911, 0.9041),\n",
       " (6, 0.9384, 0.8836),\n",
       " (7, 0.9041, 0.8836),\n",
       " (8, 0.9178, 0.8767),\n",
       " (9, 0.9247, 0.8973),\n",
       " (10, 0.8973, 0.8767)]"
      ]
     },
     "execution_count": 26,
     "metadata": {},
     "output_type": "execute_result"
    }
   ],
   "source": [
    "list(zip(\n",
    "    range(1,11),\n",
    "    map(lambda x: round(x,4),all_features_score),\n",
    "    map(lambda x: round(x,4),score)))"
   ]
  }
 ],
 "metadata": {
  "kernelspec": {
   "display_name": "Python 3 (ipykernel)",
   "language": "python",
   "name": "python3"
  },
  "language_info": {
   "codemirror_mode": {
    "name": "ipython",
    "version": 3
   },
   "file_extension": ".py",
   "mimetype": "text/x-python",
   "name": "python",
   "nbconvert_exporter": "python",
   "pygments_lexer": "ipython3",
   "version": "3.9.10"
  }
 },
 "nbformat": 4,
 "nbformat_minor": 4
}
