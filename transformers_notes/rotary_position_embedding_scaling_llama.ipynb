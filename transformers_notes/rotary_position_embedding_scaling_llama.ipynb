{
 "cells": [
  {
   "cell_type": "code",
   "execution_count": null,
   "id": "c53ecfe7-f74c-4ea7-94e0-840aa7485343",
   "metadata": {},
   "outputs": [],
   "source": [
    "!pip install datasets evaluate transformers[sentencepiece]"
   ]
  },
  {
   "cell_type": "code",
   "execution_count": null,
   "id": "c091a267-335d-46cd-a886-85b7a20a0639",
   "metadata": {},
   "outputs": [],
   "source": [
    "from transformers import AutoModelForCausalLM, AutoTokenizer\n",
    "import torch"
   ]
  },
  {
   "cell_type": "code",
   "execution_count": null,
   "id": "f994e2ae-fa0f-4761-b05f-e191bd7ffb8c",
   "metadata": {},
   "outputs": [],
   "source": [
    "tokenizer= AutoTokenizer.from_pretrained(\"EleutherAI/pythia-1.4b-deduped\")"
   ]
  },
  {
   "cell_type": "code",
   "execution_count": null,
   "id": "200c61c2-e40c-4872-823a-bf8dbd820571",
   "metadata": {},
   "outputs": [],
   "source": [
    "model = AutoModelForCausalLM.from_pretrained(\"EleutherAI/pythia-1.4b-deduped\",\n",
    "                                             torch_dtype=torch.bfloat16,\n",
    "                                             rope_scaling={\"type\":\"dynamic\",\"factor\":2.0},\n",
    "                                             ).to(\"cuda\")"
   ]
  },
  {
   "cell_type": "code",
   "execution_count": null,
   "id": "47764769-1522-4a88-a0fb-a80174852e43",
   "metadata": {},
   "outputs": [],
   "source": [
    "prompt = # some arxiv paper transcript\n",
    "question = \"Question: What is the paper about?\"\n"
   ]
  },
  {
   "cell_type": "code",
   "execution_count": null,
   "id": "e3eec1dd-ee29-410c-bee2-faf8b979d2e1",
   "metadata": {},
   "outputs": [],
   "source": [
    "inputs = tokenizer(prompt + question , return_tensors=\"pt\").to(\"cuda\")\n",
    "gen_out = model.generate(**inputs, max_new_tokens=75)\n",
    "print(tokenizer.batch_decode(gen_out)[0])"
   ]
  },
  {
   "cell_type": "code",
   "execution_count": null,
   "id": "5fd2f9df-3c33-4059-9c4b-e63bf0a7e147",
   "metadata": {},
   "outputs": [],
   "source": []
  },
  {
   "cell_type": "code",
   "execution_count": null,
   "id": "556f18e6-5f0e-4ee1-b377-62955c25dd67",
   "metadata": {},
   "outputs": [],
   "source": []
  }
 ],
 "metadata": {
  "kernelspec": {
   "display_name": "Python 3 (ipykernel)",
   "language": "python",
   "name": "python3"
  },
  "language_info": {
   "codemirror_mode": {
    "name": "ipython",
    "version": 3
   },
   "file_extension": ".py",
   "mimetype": "text/x-python",
   "name": "python",
   "nbconvert_exporter": "python",
   "pygments_lexer": "ipython3",
   "version": "3.8.13"
  }
 },
 "nbformat": 4,
 "nbformat_minor": 5
}
